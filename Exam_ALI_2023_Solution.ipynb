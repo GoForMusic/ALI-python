{
 "cells": [
  {
   "cell_type": "code",
   "execution_count": 5,
   "metadata": {
    "ExecuteTime": {
     "end_time": "2023-08-31T19:04:59.060166300Z",
     "start_time": "2023-08-31T19:04:58.565841700Z"
    }
   },
   "outputs": [],
   "source": [
    "from main import *"
   ]
  },
  {
   "cell_type": "markdown",
   "metadata": {},
   "source": [
    "## Assignment 1"
   ]
  },
  {
   "cell_type": "code",
   "execution_count": 6,
   "metadata": {
    "ExecuteTime": {
     "end_time": "2023-08-31T19:04:59.738529300Z",
     "start_time": "2023-08-31T19:04:58.605942200Z"
    }
   },
   "outputs": [
    {
     "data": {
      "text/plain": "⎛⎡1  0  0  0  0  0⎤  ⎡0⎤⎞\n⎜⎢                ⎥  ⎢ ⎥⎟\n⎜⎢0  1  0  0  0  0⎥  ⎢0⎥⎟\n⎜⎢                ⎥  ⎢ ⎥⎟\n⎜⎢0  0  1  0  0  0⎥  ⎢0⎥⎟\n⎜⎢                ⎥  ⎢ ⎥⎟\n⎜⎢0  0  0  1  0  0⎥, ⎢0⎥⎟\n⎜⎢                ⎥  ⎢ ⎥⎟\n⎜⎢0  0  0  0  1  0⎥  ⎢0⎥⎟\n⎜⎢                ⎥  ⎢ ⎥⎟\n⎜⎢0  0  0  0  0  1⎥  ⎢0⎥⎟\n⎜⎢                ⎥  ⎢ ⎥⎟\n⎝⎣0  0  0  0  0  0⎦  ⎣1⎦⎠",
      "text/latex": "$\\displaystyle \\left( \\left[\\begin{matrix}1 & 0 & 0 & 0 & 0 & 0\\\\0 & 1 & 0 & 0 & 0 & 0\\\\0 & 0 & 1 & 0 & 0 & 0\\\\0 & 0 & 0 & 1 & 0 & 0\\\\0 & 0 & 0 & 0 & 1 & 0\\\\0 & 0 & 0 & 0 & 0 & 1\\\\0 & 0 & 0 & 0 & 0 & 0\\end{matrix}\\right], \\  \\left[\\begin{matrix}0\\\\0\\\\0\\\\0\\\\0\\\\0\\\\1\\end{matrix}\\right]\\right)$"
     },
     "execution_count": 6,
     "metadata": {},
     "output_type": "execute_result"
    }
   ],
   "source": [
    "# a\n",
    "# m = 7 and n = 6. Here is an example:\n",
    "\n",
    "A = Matrix([[1,0,0,0,0,0],[0,1,0,0,0,0],[0,0,1,0,0,0],[0,0,0,1,0,0],[0,0,0,0,1,0],[0,0,0,0,0,1],[0,0,0,0,0,0]])\n",
    "b = Matrix([[0],[0],[0],[0],[0],[0],[1]])\n",
    "A, b"
   ]
  },
  {
   "cell_type": "code",
   "execution_count": 7,
   "metadata": {
    "ExecuteTime": {
     "end_time": "2023-08-31T19:04:59.849186900Z",
     "start_time": "2023-08-31T19:04:58.631037100Z"
    }
   },
   "outputs": [],
   "source": [
    "# b"
   ]
  },
  {
   "cell_type": "markdown",
   "metadata": {},
   "source": [
    "The statement is false.\n",
    "While $\\{x, y\\}$ and $\\{u, v\\}$ are both linearly independent sets, it doesn't guarantee that the combined set $\\{x, y, u, v\\}$ is linearly independent.\n",
    "\n",
    "In $\\mathbb{R}^4$, the maximum number of linearly independent vectors you can have is 4 . So, it's possible for $\\{x, y, u, v\\}$ to be linearly independent, but it's not a certainty.\n",
    "For a counterexample, consider:\n",
    "$$\n",
    "\\begin{aligned}\n",
    "& x=\\left[\\begin{array}{l}\n",
    "1 \\\\\n",
    "0 \\\\\n",
    "0 \\\\\n",
    "0\n",
    "\\end{array}\\right], \\quad y=\\left[\\begin{array}{l}\n",
    "0 \\\\\n",
    "1 \\\\\n",
    "0 \\\\\n",
    "0\n",
    "\\end{array}\\right] \\\\\n",
    "& u=\\left[\\begin{array}{l}\n",
    "0 \\\\\n",
    "0 \\\\\n",
    "1 \\\\\n",
    "0\n",
    "\\end{array}\\right], \\quad v=\\left[\\begin{array}{l}\n",
    "1 \\\\\n",
    "1 \\\\\n",
    "1 \\\\\n",
    "0\n",
    "\\end{array}\\right]\n",
    "\\end{aligned}\n",
    "$$\n",
    "Both $\\{x, y\\}$ and $\\{u, v\\}$ are linearly independent sets in $\\mathbb{R}^4$. However, the combined set $\\{x, y, u, v\\}$ is not linearly independent because $v$ can be expressed as a linear combination of $x, y$, and $u$ :\n",
    "$$\n",
    "v=x+y+u\n",
    "$$\n",
    "So, even in $\\mathbb{R}^4$, the statement \" $\\{x, y, u, v\\}$ is always linearly independent\" is false."
   ]
  },
  {
   "cell_type": "markdown",
   "metadata": {},
   "source": [
    "No, not all invertible matrices are diagonalizable.\n",
    "A matrix is diagonalizable if and only if it has enough linearly independent eigenvectors to form a basis for the space it acts on. This means that for an $n \\times n$ matrix to be diagonalizable, it must have $n$ linearly independent eigenvectors.\n",
    "Being invertible (having a non-zero determinant) does not guarantee that a matrix will have $n$ linearly independent eigenvectors.\n",
    "For example, consider the matrix:\n",
    "$$\n",
    "A=\\left[\\begin{array}{ll}\n",
    "2 & 1 \\\\\n",
    "0 & 2\n",
    "\\end{array}\\right]\n",
    "$$\n",
    "This matrix is invertible because its determinant is non-zero. However, it only has one distinct eigenvalue, $\\lambda=2$, with algebraic multiplicity 2 . The geometric multiplicity of this eigenvalue (i.e., the number of linearly independent eigenvectors associated with this eigenvalue) is 1 , which is less than its algebraic multiplicity. Thus, the matrix $A$ is not diagonalizable.\n",
    "So, while many invertible matrices are diagonalizable, it's not a guarantee."
   ]
  },
  {
   "cell_type": "markdown",
   "metadata": {},
   "source": [
    "The statement is true.\n",
    "By definition, a basis for a subspace $W$ is a set of linearly independent vectors that spans $W$.\n",
    "If $W$ is a subspace of $\\mathbf{R}^6$ with dimension 4 , then any set of 4 linearly independent vectors in $W$ will span $W$ and thus constitute a basis for $W$.\n",
    "So, if you have 4 linearly independent vectors in $W$, they will indeed form a basis for $W$."
   ]
  },
  {
   "cell_type": "code",
   "execution_count": 8,
   "metadata": {
    "ExecuteTime": {
     "end_time": "2023-08-31T19:04:59.860629400Z",
     "start_time": "2023-08-31T19:04:58.635554100Z"
    }
   },
   "outputs": [
    {
     "data": {
      "text/plain": "0",
      "text/latex": "$\\displaystyle 0$"
     },
     "execution_count": 8,
     "metadata": {},
     "output_type": "execute_result"
    }
   ],
   "source": [
    "# c: Determinant is zero since row 3 is a multiple of row 1.\n",
    "A = Matrix([[2,8,3,6,7],[1,2,4,5,5],[4,16,6,12,14],[5,7,8,9,0],[3,4,5,7,1]])\n",
    "A.det()"
   ]
  },
  {
   "cell_type": "code",
   "execution_count": 9,
   "metadata": {
    "ExecuteTime": {
     "end_time": "2023-08-31T19:04:59.861131500Z",
     "start_time": "2023-08-31T19:04:58.660208Z"
    }
   },
   "outputs": [],
   "source": [
    "# d Roots are -3, and 2. since 2 is a global minimum, it has multiplicity 2 (since a is 3 x 3)"
   ]
  },
  {
   "cell_type": "code",
   "execution_count": 10,
   "outputs": [
    {
     "data": {
      "text/plain": "⎛⎡            -387 ⎤              ⎞\n⎜⎢1  0  0  0  ─────⎥              ⎟\n⎜⎢              92 ⎥              ⎟\n⎜⎢                 ⎥              ⎟\n⎜⎢             25  ⎥              ⎟\n⎜⎢0  1  0  0   ──  ⎥              ⎟\n⎜⎢             23  ⎥              ⎟\n⎜⎢                 ⎥              ⎟\n⎜⎢             22  ⎥, (0, 1, 2, 3)⎟\n⎜⎢0  0  1  0   ──  ⎥              ⎟\n⎜⎢             23  ⎥              ⎟\n⎜⎢                 ⎥              ⎟\n⎜⎢             59  ⎥              ⎟\n⎜⎢0  0  0  1   ──  ⎥              ⎟\n⎜⎢             92  ⎥              ⎟\n⎜⎢                 ⎥              ⎟\n⎝⎣0  0  0  0    0  ⎦              ⎠",
      "text/latex": "$\\displaystyle \\left( \\left[\\begin{matrix}1 & 0 & 0 & 0 & - \\frac{387}{92}\\\\0 & 1 & 0 & 0 & \\frac{25}{23}\\\\0 & 0 & 1 & 0 & \\frac{22}{23}\\\\0 & 0 & 0 & 1 & \\frac{59}{92}\\\\0 & 0 & 0 & 0 & 0\\end{matrix}\\right], \\  \\left( 0, \\  1, \\  2, \\  3\\right)\\right)$"
     },
     "metadata": {},
     "output_type": "display_data"
    },
    {
     "data": {
      "text/plain": "⎡⎡2⎤  ⎡8 ⎤  ⎡3⎤  ⎡6 ⎤⎤\n⎢⎢ ⎥  ⎢  ⎥  ⎢ ⎥  ⎢  ⎥⎥\n⎢⎢1⎥  ⎢2 ⎥  ⎢4⎥  ⎢5 ⎥⎥\n⎢⎢ ⎥  ⎢  ⎥  ⎢ ⎥  ⎢  ⎥⎥\n⎢⎢4⎥, ⎢16⎥, ⎢6⎥, ⎢12⎥⎥\n⎢⎢ ⎥  ⎢  ⎥  ⎢ ⎥  ⎢  ⎥⎥\n⎢⎢5⎥  ⎢7 ⎥  ⎢8⎥  ⎢9 ⎥⎥\n⎢⎢ ⎥  ⎢  ⎥  ⎢ ⎥  ⎢  ⎥⎥\n⎣⎣3⎦  ⎣4 ⎦  ⎣5⎦  ⎣7 ⎦⎦",
      "text/latex": "$\\displaystyle \\left[ \\left[\\begin{matrix}2\\\\1\\\\4\\\\5\\\\3\\end{matrix}\\right], \\  \\left[\\begin{matrix}8\\\\2\\\\16\\\\7\\\\4\\end{matrix}\\right], \\  \\left[\\begin{matrix}3\\\\4\\\\6\\\\8\\\\5\\end{matrix}\\right], \\  \\left[\\begin{matrix}6\\\\5\\\\12\\\\9\\\\7\\end{matrix}\\right]\\right]$"
     },
     "execution_count": 10,
     "metadata": {},
     "output_type": "execute_result"
    }
   ],
   "source": [
    "A = Matrix([[2,8,3,6,7],[1,2,4,5,5],[4,16,6,12,14],[5,7,8,9,0],[3,4,5,7,1]])\n",
    "display(A.rref())\n",
    "A.columnspace()"
   ],
   "metadata": {
    "collapsed": false,
    "ExecuteTime": {
     "end_time": "2023-08-31T19:04:59.896515500Z",
     "start_time": "2023-08-31T19:04:58.668215800Z"
    }
   }
  },
  {
   "cell_type": "code",
   "execution_count": 11,
   "outputs": [
    {
     "data": {
      "text/plain": "⎛⎡1  0  2  0  0⎤              ⎞\n⎜⎢             ⎥              ⎟\n⎜⎢0  1  0  0  0⎥              ⎟\n⎜⎢             ⎥              ⎟\n⎜⎢0  0  0  1  0⎥, (0, 1, 3, 4)⎟\n⎜⎢             ⎥              ⎟\n⎜⎢0  0  0  0  1⎥              ⎟\n⎜⎢             ⎥              ⎟\n⎝⎣0  0  0  0  0⎦              ⎠",
      "text/latex": "$\\displaystyle \\left( \\left[\\begin{matrix}1 & 0 & 2 & 0 & 0\\\\0 & 1 & 0 & 0 & 0\\\\0 & 0 & 0 & 1 & 0\\\\0 & 0 & 0 & 0 & 1\\\\0 & 0 & 0 & 0 & 0\\end{matrix}\\right], \\  \\left( 0, \\  1, \\  3, \\  4\\right)\\right)$"
     },
     "metadata": {},
     "output_type": "display_data"
    },
    {
     "data": {
      "text/plain": "⎡⎡-2⎤⎤\n⎢⎢  ⎥⎥\n⎢⎢0 ⎥⎥\n⎢⎢  ⎥⎥\n⎢⎢1 ⎥⎥\n⎢⎢  ⎥⎥\n⎢⎢0 ⎥⎥\n⎢⎢  ⎥⎥\n⎣⎣0 ⎦⎦",
      "text/latex": "$\\displaystyle \\left[ \\left[\\begin{matrix}-2\\\\0\\\\1\\\\0\\\\0\\end{matrix}\\right]\\right]$"
     },
     "metadata": {},
     "output_type": "display_data"
    }
   ],
   "source": [
    "At = A.T\n",
    "display(At.rref())\n",
    "display(At.nullspace())"
   ],
   "metadata": {
    "collapsed": false,
    "ExecuteTime": {
     "end_time": "2023-08-31T19:05:00.258836900Z",
     "start_time": "2023-08-31T19:04:58.711734100Z"
    }
   }
  },
  {
   "cell_type": "code",
   "execution_count": 12,
   "metadata": {
    "ExecuteTime": {
     "end_time": "2023-08-31T19:05:00.261353900Z",
     "start_time": "2023-08-31T19:04:58.754602900Z"
    }
   },
   "outputs": [],
   "source": [
    "# e \n",
    "# dim col A = number of non-zero singular values, 1 (same as rank)\n",
    "# dim nul A = n - rank, n is size of right singular vector so 5-1 = 4\n",
    "# dim Nul A^T is the number of free variables in A^T - this will be 3 - 1 = 2\n",
    "# dim Col A^T is the row space, same dimension as Col A = 1"
   ]
  },
  {
   "cell_type": "markdown",
   "metadata": {},
   "source": [
    "## Assignment 2"
   ]
  },
  {
   "cell_type": "code",
   "execution_count": 13,
   "metadata": {
    "ExecuteTime": {
     "end_time": "2023-08-31T19:05:00.339019800Z",
     "start_time": "2023-08-31T19:04:58.763663900Z"
    }
   },
   "outputs": [
    {
     "data": {
      "text/plain": "⎛⎛⎡1  0  -20⎤        ⎞  ⎡⎛       ⎡⎡-1/2⎤⎤⎞  ⎛      ⎡⎡1/2⎤⎤⎞⎤⎞\n⎜⎜⎢         ⎥, (0, 1)⎟, ⎢⎜-1, 1, ⎢⎢    ⎥⎥⎟, ⎜3, 1, ⎢⎢   ⎥⎥⎟⎥⎟\n⎝⎝⎣0  1  10 ⎦        ⎠  ⎣⎝       ⎣⎣ 1  ⎦⎦⎠  ⎝      ⎣⎣ 1 ⎦⎦⎠⎦⎠",
      "text/latex": "$\\displaystyle \\left( \\left( \\left[\\begin{matrix}1 & 0 & -20\\\\0 & 1 & 10\\end{matrix}\\right], \\  \\left( 0, \\  1\\right)\\right), \\  \\left[ \\left( -1, \\  1, \\  \\left[ \\left[\\begin{matrix}- \\frac{1}{2}\\\\1\\end{matrix}\\right]\\right]\\right), \\  \\left( 3, \\  1, \\  \\left[ \\left[\\begin{matrix}\\frac{1}{2}\\\\1\\end{matrix}\\right]\\right]\\right)\\right]\\right)$"
     },
     "execution_count": 13,
     "metadata": {},
     "output_type": "execute_result"
    }
   ],
   "source": [
    "A = Matrix([[1, 1], [4, 1]])\n",
    "(Matrix.hstack(A.eigenvects()[0][2][0], A.eigenvects()[1][2][0], Matrix([15, -10]))).rref(), A.eigenvects()\n"
   ]
  },
  {
   "cell_type": "markdown",
   "metadata": {},
   "source": [
    "## Assignment 3"
   ]
  },
  {
   "cell_type": "code",
   "execution_count": 14,
   "metadata": {
    "ExecuteTime": {
     "end_time": "2023-08-31T19:05:00.340039400Z",
     "start_time": "2023-08-31T19:04:58.809127800Z"
    }
   },
   "outputs": [
    {
     "data": {
      "text/plain": "(1/32, 8, 32, 4, 6912)",
      "text/latex": "$\\displaystyle \\left( \\frac{1}{32}, \\  8, \\  32, \\  4, \\  6912\\right)$"
     },
     "execution_count": 14,
     "metadata": {},
     "output_type": "execute_result"
    }
   ],
   "source": [
    "A = 4\n",
    "B = 8\n",
    "n = 3\n",
    "\n",
    "R((A*B)**-1), R(1/8)**n * A**3 * B**2, A*B, 4**n * R(A**-2), 3**3*2**3*4*8"
   ]
  },
  {
   "cell_type": "markdown",
   "metadata": {},
   "source": [
    "## Assignment 4\n",
    "\n"
   ]
  },
  {
   "cell_type": "code",
   "execution_count": 15,
   "metadata": {
    "ExecuteTime": {
     "end_time": "2023-08-31T19:05:00.785965Z",
     "start_time": "2023-08-31T19:04:58.825199200Z"
    }
   },
   "outputs": [
    {
     "data": {
      "text/plain": "⎡1   2   2  1   14⎤\n⎢                 ⎥\n⎢-1  -2  0  -3  -4⎥\n⎢                 ⎥\n⎣2   4   8  -2  48⎦",
      "text/latex": "$\\displaystyle \\left[\\begin{matrix}1 & 2 & 2 & 1 & 14\\\\-1 & -2 & 0 & -3 & -4\\\\2 & 4 & 8 & -2 & 48\\end{matrix}\\right]$"
     },
     "execution_count": 15,
     "metadata": {},
     "output_type": "execute_result"
    }
   ],
   "source": [
    "# A\n",
    "A_aug = Matrix([[1,2,2,1,14],[-1,-2,0,-3,-4],[2,4,8,-2,48]])\n",
    "A_aug"
   ]
  },
  {
   "cell_type": "code",
   "execution_count": 16,
   "metadata": {
    "ExecuteTime": {
     "end_time": "2023-08-31T19:05:01.359514500Z",
     "start_time": "2023-08-31T19:04:58.849212900Z"
    }
   },
   "outputs": [
    {
     "data": {
      "text/plain": "(1, 3, 2, 4, 2)",
      "text/latex": "$\\displaystyle \\left( 1, \\  3, \\  2, \\  4, \\  2\\right)$"
     },
     "execution_count": 16,
     "metadata": {},
     "output_type": "execute_result"
    }
   ],
   "source": [
    "# b)\n",
    "pivot1 = A_aug.rref()[1][0] + 1\n",
    "pivot2 = A_aug.rref()[1][1] + 1\n",
    "\n",
    "pivot1, pivot2, 2, 4, A_aug.rank()"
   ]
  },
  {
   "cell_type": "code",
   "execution_count": 17,
   "metadata": {
    "ExecuteTime": {
     "end_time": "2023-08-31T19:05:01.359514500Z",
     "start_time": "2023-08-31T19:04:58.931983600Z"
    }
   },
   "outputs": [],
   "source": [
    "# c From RREF we can see that x1 will be 4 and x3 will be 4 when x2 and x4 are 0.\n"
   ]
  },
  {
   "cell_type": "code",
   "execution_count": 18,
   "metadata": {
    "ExecuteTime": {
     "end_time": "2023-08-31T19:05:01.924401400Z",
     "start_time": "2023-08-31T19:04:58.936993700Z"
    }
   },
   "outputs": [
    {
     "data": {
      "text/plain": "⎡⎡-2⎤  ⎡-3⎤⎤\n⎢⎢  ⎥  ⎢  ⎥⎥\n⎢⎢1 ⎥  ⎢0 ⎥⎥\n⎢⎢  ⎥, ⎢  ⎥⎥\n⎢⎢0 ⎥  ⎢1 ⎥⎥\n⎢⎢  ⎥  ⎢  ⎥⎥\n⎣⎣0 ⎦  ⎣1 ⎦⎦",
      "text/latex": "$\\displaystyle \\left[ \\left[\\begin{matrix}-2\\\\1\\\\0\\\\0\\end{matrix}\\right], \\  \\left[\\begin{matrix}-3\\\\0\\\\1\\\\1\\end{matrix}\\right]\\right]$"
     },
     "execution_count": 18,
     "metadata": {},
     "output_type": "execute_result"
    }
   ],
   "source": [
    "# d\n",
    "# Remember we are looking for the null space, so the first vector will be all zeros.\n",
    "A = A_aug[:, 0:-1]\n",
    "A.nullspace()"
   ]
  },
  {
   "cell_type": "markdown",
   "metadata": {},
   "source": [
    "## Assignment 5"
   ]
  },
  {
   "cell_type": "code",
   "execution_count": 19,
   "metadata": {
    "ExecuteTime": {
     "end_time": "2023-08-31T19:05:02.070436400Z",
     "start_time": "2023-08-31T19:04:58.959189700Z"
    }
   },
   "outputs": [
    {
     "data": {
      "text/plain": "7⋅x + y - 3⋅z",
      "text/latex": "$\\displaystyle 7 x + y - 3 z$"
     },
     "execution_count": 19,
     "metadata": {},
     "output_type": "execute_result"
    }
   ],
   "source": [
    "# So you would get the result by cofactor expanding on any row/column\n",
    "x, y, z = symbols('x y z')\n",
    "Matrix([[1,2,x],[2,1,y],[3,5,z]]).det()\n"
   ]
  },
  {
   "cell_type": "markdown",
   "metadata": {},
   "source": [
    "## Assignment 6"
   ]
  },
  {
   "cell_type": "code",
   "execution_count": 20,
   "metadata": {
    "ExecuteTime": {
     "end_time": "2023-08-31T19:05:02.070889Z",
     "start_time": "2023-08-31T19:04:59.179631900Z"
    }
   },
   "outputs": [],
   "source": [
    "# a: Notice that v3 is just 2*v1 + v2 so v3 = 2v1 + 1v2"
   ]
  },
  {
   "cell_type": "code",
   "execution_count": 21,
   "metadata": {
    "ExecuteTime": {
     "end_time": "2023-08-31T19:05:02.071390100Z",
     "start_time": "2023-08-31T19:04:59.184647300Z"
    }
   },
   "outputs": [],
   "source": [
    "# L1 is dependent since it has 5 vectors but spans R^4 so one will be dependent\n",
    "# L2 is independent\n",
    "# L3 is dependent since row 2 and 4 are the same and will produce a free variable\n",
    "# L4 includes L3 so is also dependent"
   ]
  },
  {
   "cell_type": "code",
   "execution_count": 22,
   "metadata": {
    "ExecuteTime": {
     "end_time": "2023-08-31T19:05:02.092928800Z",
     "start_time": "2023-08-31T19:04:59.191180500Z"
    }
   },
   "outputs": [
    {
     "data": {
      "text/plain": "⎡0⎤\n⎢ ⎥\n⎢6⎥\n⎢ ⎥\n⎣0⎦",
      "text/latex": "$\\displaystyle \\left[\\begin{matrix}0\\\\6\\\\0\\end{matrix}\\right]$"
     },
     "metadata": {},
     "output_type": "display_data"
    },
    {
     "data": {
      "text/plain": "⎡6 ⎤\n⎢  ⎥\n⎢30⎥\n⎢  ⎥\n⎣18⎦",
      "text/latex": "$\\displaystyle \\left[\\begin{matrix}6\\\\30\\\\18\\end{matrix}\\right]$"
     },
     "metadata": {},
     "output_type": "display_data"
    },
    {
     "data": {
      "text/plain": "⎡5⎤\n⎢ ⎥\n⎢8⎥\n⎢ ⎥\n⎣1⎦",
      "text/latex": "$\\displaystyle \\left[\\begin{matrix}5\\\\8\\\\1\\end{matrix}\\right]$"
     },
     "metadata": {},
     "output_type": "display_data"
    },
    {
     "data": {
      "text/plain": "⎡-3⎤\n⎢  ⎥\n⎢0 ⎥\n⎢  ⎥\n⎣1 ⎦",
      "text/latex": "$\\displaystyle \\left[\\begin{matrix}-3\\\\0\\\\1\\end{matrix}\\right]$"
     },
     "metadata": {},
     "output_type": "display_data"
    }
   ],
   "source": [
    "# c So you check by multiplying each vector with A\n",
    "A = Matrix([[1,1,0],[1,4,3],[0,3,1]])\n",
    "x = Matrix([1, -1, 3])\n",
    "y = Matrix([1, 5, 3])\n",
    "z = Matrix([5, 0, 1])\n",
    "w = Matrix([[-3],[0],[1]])\n",
    "display(A*x, A*y, A*z, A*w)"
   ]
  },
  {
   "cell_type": "code",
   "execution_count": 23,
   "metadata": {
    "ExecuteTime": {
     "end_time": "2023-08-31T19:05:02.093430200Z",
     "start_time": "2023-08-31T19:04:59.242179700Z"
    }
   },
   "outputs": [],
   "source": [
    "# We see that y and w are eigenvectors with eigvals 6 and 1, respectively."
   ]
  },
  {
   "cell_type": "code",
   "execution_count": 24,
   "metadata": {
    "ExecuteTime": {
     "end_time": "2023-08-31T19:05:02.094931Z",
     "start_time": "2023-08-31T19:04:59.247696200Z"
    }
   },
   "outputs": [],
   "source": [
    "# d\n",
    "# Since the Matrix is symmetric, the trace is the sum of the eigen values. The trace is the sum\n",
    "# on the main diagonal. The is 1 + 4 + 1 = 6. We have 1 + 6, so we can deduce that the last one is -1."
   ]
  },
  {
   "cell_type": "markdown",
   "metadata": {},
   "source": [
    "## Assignment 7"
   ]
  },
  {
   "cell_type": "code",
   "execution_count": 25,
   "metadata": {
    "ExecuteTime": {
     "end_time": "2023-08-31T19:05:02.098430200Z",
     "start_time": "2023-08-31T19:04:59.256249200Z"
    }
   },
   "outputs": [
    {
     "data": {
      "text/plain": "⎡1  3  -1  1⎤\n⎢           ⎥\n⎣1  4  0   2⎦",
      "text/latex": "$\\displaystyle \\left[\\begin{matrix}1 & 3 & -1 & 1\\\\1 & 4 & 0 & 2\\end{matrix}\\right]$"
     },
     "metadata": {},
     "output_type": "display_data"
    },
    {
     "data": {
      "text/plain": "⎡⎡4 ⎤  ⎡2 ⎤⎤\n⎢⎢  ⎥  ⎢  ⎥⎥\n⎢⎢-1⎥  ⎢-1⎥⎥\n⎢⎢  ⎥, ⎢  ⎥⎥\n⎢⎢1 ⎥  ⎢0 ⎥⎥\n⎢⎢  ⎥  ⎢  ⎥⎥\n⎣⎣0 ⎦  ⎣1 ⎦⎦",
      "text/latex": "$\\displaystyle \\left[ \\left[\\begin{matrix}4\\\\-1\\\\1\\\\0\\end{matrix}\\right], \\  \\left[\\begin{matrix}2\\\\-1\\\\0\\\\1\\end{matrix}\\right]\\right]$"
     },
     "execution_count": 25,
     "metadata": {},
     "output_type": "execute_result"
    }
   ],
   "source": [
    "# Find the null space of A^T\n",
    "v1 = Matrix([[1],[3],[-1],[1]])\n",
    "v2 = Matrix([[1],[4],[0],[2]])\n",
    "A = Matrix.hstack(v1, v2)\n",
    "B = A.T\n",
    "\n",
    "display(A.T)\n",
    "\n",
    "B.nullspace()"
   ]
  },
  {
   "cell_type": "code",
   "execution_count": 26,
   "metadata": {
    "ExecuteTime": {
     "end_time": "2023-08-31T19:05:02.099429400Z",
     "start_time": "2023-08-31T19:04:59.289115800Z"
    }
   },
   "outputs": [
    {
     "data": {
      "text/plain": "⎡1  3  -1  1⎤\n⎢           ⎥\n⎣0  1  1   1⎦",
      "text/latex": "$\\displaystyle \\left[\\begin{matrix}1 & 3 & -1 & 1\\\\0 & 1 & 1 & 1\\end{matrix}\\right]$"
     },
     "execution_count": 26,
     "metadata": {},
     "output_type": "execute_result"
    }
   ],
   "source": [
    "B[1,:] = B[1,:] - B[0,:]\n",
    "B"
   ]
  },
  {
   "cell_type": "code",
   "execution_count": 27,
   "metadata": {
    "ExecuteTime": {
     "end_time": "2023-08-31T19:05:02.100956200Z",
     "start_time": "2023-08-31T19:04:59.305669100Z"
    }
   },
   "outputs": [
    {
     "data": {
      "text/plain": "⎡1  0  -4  -2⎤\n⎢            ⎥\n⎣0  1  1   1 ⎦",
      "text/latex": "$\\displaystyle \\left[\\begin{matrix}1 & 0 & -4 & -2\\\\0 & 1 & 1 & 1\\end{matrix}\\right]$"
     },
     "execution_count": 27,
     "metadata": {},
     "output_type": "execute_result"
    }
   ],
   "source": [
    "B[0,:] = B[0,:] - 3*B[1,:]\n",
    "B"
   ]
  },
  {
   "cell_type": "markdown",
   "metadata": {},
   "source": [
    "# Part 2"
   ]
  },
  {
   "cell_type": "markdown",
   "metadata": {},
   "source": [
    "## Assignment 1"
   ]
  },
  {
   "cell_type": "code",
   "execution_count": 28,
   "metadata": {
    "ExecuteTime": {
     "end_time": "2023-08-31T19:05:02.101957200Z",
     "start_time": "2023-08-31T19:04:59.324273400Z"
    }
   },
   "outputs": [
    {
     "data": {
      "text/plain": "⎛⎡1/2⎤  ⎡1⎤  ⎡1⎤⎞\n⎜⎢   ⎥  ⎢ ⎥  ⎢ ⎥⎟\n⎜⎢ 1 ⎥, ⎢0⎥, ⎢1⎥⎟\n⎜⎢   ⎥  ⎢ ⎥  ⎢ ⎥⎟\n⎝⎣ 0 ⎦  ⎣1⎦  ⎣2⎦⎠",
      "text/latex": "$\\displaystyle \\left( \\left[\\begin{matrix}\\frac{1}{2}\\\\1\\\\0\\end{matrix}\\right], \\  \\left[\\begin{matrix}1\\\\0\\\\1\\end{matrix}\\right], \\  \\left[\\begin{matrix}1\\\\1\\\\2\\end{matrix}\\right]\\right)$"
     },
     "execution_count": 28,
     "metadata": {},
     "output_type": "execute_result"
    }
   ],
   "source": [
    "# a\n",
    "A = Matrix([2, -1, -2])\n",
    "v1 = (A.T).nullspace()[0]\n",
    "v2 = (A.T).nullspace()[1]\n",
    "p = Matrix([1, 1, 2])\n",
    "proj = p.project(v1) + p.project(v2)\n",
    "proj = proj.normalized()\n",
    "v1, v2, p\n"
   ]
  },
  {
   "cell_type": "code",
   "execution_count": 29,
   "metadata": {
    "ExecuteTime": {
     "end_time": "2023-08-31T19:05:02.103456900Z",
     "start_time": "2023-08-31T19:04:59.347500100Z"
    }
   },
   "outputs": [
    {
     "data": {
      "text/plain": "⎛⎡1⎤  ⎡4/5 ⎤⎞\n⎜⎢ ⎥  ⎢    ⎥⎟\n⎜⎢2⎥, ⎢-2/5⎥⎟\n⎜⎢ ⎥  ⎢    ⎥⎟\n⎝⎣0⎦  ⎣ 1  ⎦⎠",
      "text/latex": "$\\displaystyle \\left( \\left[\\begin{matrix}1\\\\2\\\\0\\end{matrix}\\right], \\  \\left[\\begin{matrix}\\frac{4}{5}\\\\- \\frac{2}{5}\\\\1\\end{matrix}\\right]\\right)$"
     },
     "execution_count": 29,
     "metadata": {},
     "output_type": "execute_result"
    }
   ],
   "source": [
    "u1, u2 = GramSchmidt((2*v1, v2))\n",
    "u1, u2"
   ]
  },
  {
   "cell_type": "code",
   "execution_count": 30,
   "metadata": {
    "ExecuteTime": {
     "end_time": "2023-08-31T19:05:02.103955600Z",
     "start_time": "2023-08-31T19:04:59.367709600Z"
    }
   },
   "outputs": [
    {
     "data": {
      "text/plain": "⎡5/3⎤\n⎢   ⎥\n⎢2/3⎥\n⎢   ⎥\n⎣4/3⎦",
      "text/latex": "$\\displaystyle \\left[\\begin{matrix}\\frac{5}{3}\\\\\\frac{2}{3}\\\\\\frac{4}{3}\\end{matrix}\\right]$"
     },
     "execution_count": 30,
     "metadata": {},
     "output_type": "execute_result"
    }
   ],
   "source": [
    "p.project(u1)+p.project(u2)"
   ]
  },
  {
   "cell_type": "code",
   "execution_count": 31,
   "metadata": {
    "ExecuteTime": {
     "end_time": "2023-08-31T19:05:02.105955500Z",
     "start_time": "2023-08-31T19:04:59.384243200Z"
    }
   },
   "outputs": [
    {
     "data": {
      "text/plain": "⎡1/2  1⎤\n⎢      ⎥\n⎢ 1   0⎥\n⎢      ⎥\n⎣ 0   1⎦",
      "text/latex": "$\\displaystyle \\left[\\begin{matrix}\\frac{1}{2} & 1\\\\1 & 0\\\\0 & 1\\end{matrix}\\right]$"
     },
     "execution_count": 31,
     "metadata": {},
     "output_type": "execute_result"
    }
   ],
   "source": [
    "# You could also solve it using least squares\n",
    "X = Matrix.hstack(v1, v2)\n",
    "X"
   ]
  },
  {
   "cell_type": "code",
   "execution_count": 32,
   "metadata": {
    "ExecuteTime": {
     "end_time": "2023-08-31T19:05:02.106457100Z",
     "start_time": "2023-08-31T19:04:59.401128900Z"
    }
   },
   "outputs": [
    {
     "data": {
      "text/plain": "⎡5/3⎤\n⎢   ⎥\n⎢2/3⎥\n⎢   ⎥\n⎣4/3⎦",
      "text/latex": "$\\displaystyle \\left[\\begin{matrix}\\frac{5}{3}\\\\\\frac{2}{3}\\\\\\frac{4}{3}\\end{matrix}\\right]$"
     },
     "execution_count": 32,
     "metadata": {},
     "output_type": "execute_result"
    }
   ],
   "source": [
    "XtX = X.T * X\n",
    "Xtp = X.T * p\n",
    "\n",
    "b = Matrix.hstack(XtX, Xtp).rref()[0][:,-1]\n",
    "X*b\n"
   ]
  },
  {
   "cell_type": "code",
   "execution_count": 33,
   "metadata": {
    "ExecuteTime": {
     "end_time": "2023-08-31T19:05:02.106958600Z",
     "start_time": "2023-08-31T19:04:59.422162Z"
    }
   },
   "outputs": [
    {
     "data": {
      "text/plain": "5/3",
      "text/latex": "$\\displaystyle \\frac{5}{3}$"
     },
     "execution_count": 33,
     "metadata": {},
     "output_type": "execute_result"
    }
   ],
   "source": [
    "# b\n",
    "q = Matrix([3,1,0])\n",
    "XtX = X.T * X\n",
    "Xtq = X.T * q\n",
    "\n",
    "b = Matrix.hstack(XtX, Xtq).rref()[0][:,-1]\n",
    "(q-X*b).norm()"
   ]
  },
  {
   "cell_type": "code",
   "execution_count": 34,
   "metadata": {
    "ExecuteTime": {
     "end_time": "2023-08-31T19:05:02.108454900Z",
     "start_time": "2023-08-31T19:04:59.437557100Z"
    }
   },
   "outputs": [
    {
     "data": {
      "text/plain": "5/3",
      "text/latex": "$\\displaystyle \\frac{5}{3}$"
     },
     "execution_count": 34,
     "metadata": {},
     "output_type": "execute_result"
    }
   ],
   "source": [
    "# same using projection\n",
    "(q-(q.project(u1)+q.project(u2))).norm()"
   ]
  },
  {
   "cell_type": "code",
   "execution_count": 35,
   "metadata": {
    "ExecuteTime": {
     "end_time": "2023-08-31T19:05:02.109455300Z",
     "start_time": "2023-08-31T19:04:59.454301100Z"
    }
   },
   "outputs": [
    {
     "data": {
      "text/plain": "⎡-2⎤\n⎢  ⎥\n⎢1 ⎥\n⎢  ⎥\n⎣2 ⎦",
      "text/latex": "$\\displaystyle \\left[\\begin{matrix}-2\\\\1\\\\2\\end{matrix}\\right]$"
     },
     "execution_count": 35,
     "metadata": {},
     "output_type": "execute_result"
    }
   ],
   "source": [
    "# c\n",
    "Matrix.vstack(u1.T, u2.T).nullspace()[0].normalized() * 3"
   ]
  },
  {
   "cell_type": "markdown",
   "metadata": {},
   "source": [
    "## Assignment 2"
   ]
  },
  {
   "cell_type": "code",
   "execution_count": 36,
   "metadata": {
    "ExecuteTime": {
     "end_time": "2023-08-31T19:05:02.109455300Z",
     "start_time": "2023-08-31T19:04:59.472219900Z"
    }
   },
   "outputs": [
    {
     "data": {
      "text/plain": "<IPython.core.display.Math object>",
      "text/latex": "$\\displaystyle A = \\left[\\begin{matrix}- \\frac{1}{25} & \\frac{3}{100}\\\\\\frac{1}{25} & - \\frac{2}{25}\\end{matrix}\\right]$"
     },
     "metadata": {},
     "output_type": "display_data"
    }
   ],
   "source": [
    "# We translate the problem to a matrix problem\n",
    "\n",
    "A = Matrix([[-R(8,200), R(3,100)],[R(8,200), -R(8,100)]])\n",
    "display(Math(r'A = ' + latex(A)))"
   ]
  },
  {
   "cell_type": "code",
   "execution_count": 37,
   "metadata": {
    "ExecuteTime": {
     "end_time": "2023-08-31T19:05:02.113985Z",
     "start_time": "2023-08-31T19:04:59.481298100Z"
    }
   },
   "outputs": [
    {
     "data": {
      "text/plain": "<IPython.core.display.Math object>",
      "text/latex": "$\\displaystyle \\lambda_1 =- \\frac{1}{10}\\approx-0.1$"
     },
     "metadata": {},
     "output_type": "display_data"
    },
    {
     "data": {
      "text/plain": "<IPython.core.display.Math object>",
      "text/latex": "$\\displaystyle \\lambda_2 =- \\frac{1}{50}\\approx-0.02$"
     },
     "metadata": {},
     "output_type": "display_data"
    },
    {
     "data": {
      "text/plain": "<IPython.core.display.Math object>",
      "text/latex": "$\\displaystyle v_1 = \\left[\\begin{matrix}- \\frac{1}{2}\\\\1\\end{matrix}\\right]=\\left[\\begin{matrix}-0.5\\\\1.0\\end{matrix}\\right]$"
     },
     "metadata": {},
     "output_type": "display_data"
    },
    {
     "data": {
      "text/plain": "<IPython.core.display.Math object>",
      "text/latex": "$\\displaystyle v_2 = \\left[\\begin{matrix}\\frac{3}{2}\\\\1\\end{matrix}\\right]=\\left[\\begin{matrix}1.5\\\\1.0\\end{matrix}\\right]$"
     },
     "metadata": {},
     "output_type": "display_data"
    }
   ],
   "source": [
    "# We find the eigenvalues and the corresponding eigenspaces.\n",
    "l = symbols('l')\n",
    "l1, l2 = solve(det(A-l*eye(np.shape(A)[0])))\n",
    "display(Math(r'\\lambda_1 =' +latex(l1) + r'\\approx' + latex(round(l1, 2))))\n",
    "display(Math(r'\\lambda_2 =' +latex(l2) + r'\\approx' + latex(round(l2, 2))))\n",
    "\n",
    "v1 = (A-l1*eye(np.shape(A)[0])).nullspace()[0]\n",
    "v2 = (A-l2*eye(np.shape(A)[0])).nullspace()[0]\n",
    "display(Math(r'v_1 = '+ latex(v1) + r'=' + latex(v1.evalf(4))))\n",
    "display(Math(r'v_2 = '+ latex(v2) + r'=' + latex(v2.evalf(4))))"
   ]
  },
  {
   "cell_type": "code",
   "execution_count": 38,
   "metadata": {
    "ExecuteTime": {
     "end_time": "2023-08-31T19:05:02.114985200Z",
     "start_time": "2023-08-31T19:04:59.517189200Z"
    }
   },
   "outputs": [
    {
     "data": {
      "text/plain": "(-50, 50)",
      "text/latex": "$\\displaystyle \\left( -50, \\  50\\right)$"
     },
     "execution_count": 38,
     "metadata": {},
     "output_type": "execute_result"
    }
   ],
   "source": [
    "y0 = Matrix([100, 0])\n",
    "c1 = Matrix.hstack(v1, v2, y0).rref()[0][0,-1]\n",
    "c2 = Matrix.hstack(v1, v2, y0).rref()[0][1,-1]\n",
    "c1, c2"
   ]
  },
  {
   "cell_type": "code",
   "execution_count": 39,
   "metadata": {
    "ExecuteTime": {
     "end_time": "2023-08-31T19:05:02.115482300Z",
     "start_time": "2023-08-31T19:04:59.533645500Z"
    }
   },
   "outputs": [
    {
     "data": {
      "text/plain": "⎡47.54192444⎤\n⎢           ⎥\n⎣26.22228305⎦",
      "text/latex": "$\\displaystyle \\left[\\begin{matrix}47.54192444\\\\26.22228305\\end{matrix}\\right]$"
     },
     "execution_count": 39,
     "metadata": {},
     "output_type": "execute_result"
    }
   ],
   "source": [
    "# a\n",
    "def y(t): return c1*v1*exp(t*l1) + c2*v2*exp(t*l2)\n",
    "y(25).evalf(10)"
   ]
  },
  {
   "cell_type": "code",
   "execution_count": 40,
   "metadata": {
    "ExecuteTime": {
     "end_time": "2023-08-31T19:05:02.115981500Z",
     "start_time": "2023-08-31T19:04:59.554037Z"
    }
   },
   "outputs": [],
   "source": [
    "import math\n",
    "t = symbols('t')\n",
    "y1 = c1*v1[0]*math.e**(l1*t) + c2*v2[0]*math.e**(l2*t)\n",
    "y2 = c1*v1[1]*math.e**(l1*t) + c2*v2[1]*math.e**(l2*t)"
   ]
  },
  {
   "cell_type": "code",
   "execution_count": 41,
   "metadata": {
    "ExecuteTime": {
     "end_time": "2023-08-31T19:05:02.115981500Z",
     "start_time": "2023-08-31T19:04:59.560147500Z"
    }
   },
   "outputs": [],
   "source": [
    "# b\n",
    "#z=limit(y2/y1,t,oo)\n",
    "#z"
   ]
  },
  {
   "cell_type": "code",
   "execution_count": 42,
   "metadata": {
    "ExecuteTime": {
     "end_time": "2023-08-31T19:05:02.116483200Z",
     "start_time": "2023-08-31T19:04:59.566919400Z"
    }
   },
   "outputs": [
    {
     "name": "stdout",
     "output_type": "stream",
     "text": [
      "161\n"
     ]
    }
   ],
   "source": [
    "for x in range (100,201):\n",
    "    f1 = c1*v1[0]*math.e**(l1*x) + c2*v2[0]*math.e**(l2*x)\n",
    "    f2 = c1*v1[1]*math.e**(l1*x) + c2*v2[1]*math.e**(l2*x)\n",
    "    if f1-f2 <= 1:\n",
    "        print(x)\n",
    "        break\n",
    "        "
   ]
  },
  {
   "cell_type": "markdown",
   "metadata": {},
   "source": [
    "## Assignment 3"
   ]
  },
  {
   "cell_type": "code",
   "execution_count": 43,
   "metadata": {
    "ExecuteTime": {
     "end_time": "2023-08-31T19:05:02.119480700Z",
     "start_time": "2023-08-31T19:04:59.594114200Z"
    }
   },
   "outputs": [
    {
     "data": {
      "text/plain": "⎛⎡1  0  0  -1⎤           ⎞\n⎜⎢           ⎥           ⎟\n⎜⎢0  1  0  1 ⎥           ⎟\n⎜⎢           ⎥, (0, 1, 2)⎟\n⎜⎢0  0  1  -1⎥           ⎟\n⎜⎢           ⎥           ⎟\n⎝⎣0  0  0  0 ⎦           ⎠",
      "text/latex": "$\\displaystyle \\left( \\left[\\begin{matrix}1 & 0 & 0 & -1\\\\0 & 1 & 0 & 1\\\\0 & 0 & 1 & -1\\\\0 & 0 & 0 & 0\\end{matrix}\\right], \\  \\left( 0, \\  1, \\  2\\right)\\right)$"
     },
     "execution_count": 43,
     "metadata": {},
     "output_type": "execute_result"
    }
   ],
   "source": [
    "u1 = Matrix([0,1,-1,-2])\n",
    "u2 = Matrix([1,0,1,0])\n",
    "v1 = Matrix([0,-1,0,1])\n",
    "v2 = Matrix([1,0,0,-1])\n",
    "Matrix.hstack(v1, v2, u1, u2).rref()"
   ]
  },
  {
   "cell_type": "code",
   "execution_count": 44,
   "metadata": {
    "ExecuteTime": {
     "end_time": "2023-08-31T19:05:02.154058300Z",
     "start_time": "2023-08-31T19:04:59.615212600Z"
    }
   },
   "outputs": [],
   "source": [
    "# so dim U+V = 3"
   ]
  },
  {
   "cell_type": "markdown",
   "metadata": {},
   "source": [
    "## Assignment 4"
   ]
  },
  {
   "cell_type": "code",
   "execution_count": 45,
   "metadata": {
    "ExecuteTime": {
     "end_time": "2023-08-31T19:05:02.579584500Z",
     "start_time": "2023-08-31T19:04:59.620355100Z"
    }
   },
   "outputs": [
    {
     "data": {
      "text/plain": "⎛⎡0  1 ⎤  ⎡2  3 ⎤  ⎡1  2  -4⎤⎞\n⎜⎢     ⎥  ⎢     ⎥  ⎢        ⎥⎟\n⎜⎢1  -3⎥, ⎢1  0 ⎥, ⎢3  1  0 ⎥⎟\n⎜⎢     ⎥  ⎢     ⎥  ⎢        ⎥⎟\n⎝⎣0  -2⎦  ⎣3  -1⎦  ⎣2  3  -3⎦⎠",
      "text/latex": "$\\displaystyle \\left( \\left[\\begin{matrix}0 & 1\\\\1 & -3\\\\0 & -2\\end{matrix}\\right], \\  \\left[\\begin{matrix}2 & 3\\\\1 & 0\\\\3 & -1\\end{matrix}\\right], \\  \\left[\\begin{matrix}1 & 2 & -4\\\\3 & 1 & 0\\\\2 & 3 & -3\\end{matrix}\\right]\\right)$"
     },
     "execution_count": 45,
     "metadata": {},
     "output_type": "execute_result"
    }
   ],
   "source": [
    "A = Matrix([[1,2,-4],[3,1,0],[2,3,-3]])\n",
    "B = Matrix([[2,3],[1,0],[3,-1]])\n",
    "X = A**-1 * B\n",
    "X, A*X, A"
   ]
  },
  {
   "cell_type": "code",
   "execution_count": 59,
   "metadata": {
    "ExecuteTime": {
     "end_time": "2023-08-31T19:26:48.997464100Z",
     "start_time": "2023-08-31T19:26:48.951126400Z"
    }
   },
   "outputs": [
    {
     "data": {
      "text/plain": "[18/5]",
      "text/latex": "$\\displaystyle \\left[ \\frac{18}{5}\\right]$"
     },
     "execution_count": 59,
     "metadata": {},
     "output_type": "execute_result"
    }
   ],
   "source": [
    "k = symbols('k')\n",
    "A = Matrix([[1,2,-4],[3,k,0],[2,3,-3]])\n",
    "B = Matrix([[2,3],[1,0],[3,-1]])\n",
    "L, U, _ = A.LUdecomposition()\n",
    "s = solve(U[2,2], k)\n",
    "s"
   ]
  },
  {
   "cell_type": "markdown",
   "source": [
    "S"
   ],
   "metadata": {
    "collapsed": false
   }
  },
  {
   "cell_type": "markdown",
   "metadata": {},
   "source": [
    "## Assignment 5"
   ]
  },
  {
   "cell_type": "markdown",
   "source": [],
   "metadata": {
    "collapsed": false
   }
  },
  {
   "cell_type": "code",
   "execution_count": 47,
   "metadata": {
    "ExecuteTime": {
     "end_time": "2023-08-31T19:05:02.581098600Z",
     "start_time": "2023-08-31T19:04:59.727892600Z"
    }
   },
   "outputs": [],
   "source": [
    "import pandas as pd\n",
    "x = pd.DataFrame([0.2, 0.3, 1.1, 1.3, 2.2, 2.4, 2.5])\n",
    "y = pd.DataFrame([1.6, -1.2, -0.3, 2.1, 2.3, -0.2, -1.3])"
   ]
  },
  {
   "cell_type": "code",
   "execution_count": 48,
   "metadata": {
    "ExecuteTime": {
     "end_time": "2023-08-31T19:05:02.669312700Z",
     "start_time": "2023-08-31T19:04:59.736533200Z"
    }
   },
   "outputs": [
    {
     "data": {
      "text/plain": "<IPython.core.display.Math object>",
      "text/latex": "$\\displaystyle X_1 = \\left[\\begin{matrix}1 & 0.008\\\\1 & 0.027\\\\1 & 1.331\\\\1 & 2.197\\\\1 & 10.648\\\\1 & 13.824\\\\1 & 15.625\\end{matrix}\\right]\\quad X_2 = \\left[\\begin{matrix}0.04 & 0.008\\\\0.09 & 0.027\\\\1.21 & 1.331\\\\1.69 & 2.197\\\\4.84 & 10.648\\\\5.76 & 13.824\\\\6.25 & 15.625\\end{matrix}\\right]\\quad X_3 = \\left[\\begin{matrix}1 & 0.2\\\\1 & 0.3\\\\1 & 1.1\\\\1 & 1.3\\\\1 & 2.2\\\\1 & 2.4\\\\1 & 2.5\\end{matrix}\\right]\\quad y = \\left[\\begin{matrix}1.6\\\\-1.2\\\\-0.3\\\\2.1\\\\2.3\\\\-0.2\\\\-1.3\\end{matrix}\\right]$"
     },
     "metadata": {},
     "output_type": "display_data"
    }
   ],
   "source": [
    "# a)\n",
    "X1 = Matrix([ones(len(x), 1)]).row_join(Matrix(x**3))\n",
    "X2 = Matrix((Matrix(x**2)).row_join(Matrix(x**3)))\n",
    "X3 = Matrix([ones(len(x), 1)]).row_join(Matrix(x))\n",
    "\n",
    "display(Math(r'X_1 = ' + latex(X1) + r'\\quad X_2 = ' + latex(X2) + r'\\quad X_3 = ' + latex(X3) + r'\\quad y = '\n",
    "             + latex(Matrix(y))))"
   ]
  },
  {
   "cell_type": "code",
   "execution_count": 49,
   "metadata": {
    "ExecuteTime": {
     "end_time": "2023-08-31T19:05:02.670319600Z",
     "start_time": "2023-08-31T19:04:59.755564400Z"
    }
   },
   "outputs": [],
   "source": [
    "X1tX1 = X1.T*X1\n",
    "X1ty = X1.T*Matrix(y)\n",
    "Mat, _ = X1tX1.row_join(X1ty).rref()\n",
    "B1 = Mat[:,-1]\n",
    "\n",
    "\n",
    "X2tX2 = X2.T*X2\n",
    "X2ty = X2.T*Matrix(y)\n",
    "Mat, _ = X2tX2.row_join(X2ty).rref()\n",
    "B2 = Mat[:,-1]\n",
    "\n",
    "\n",
    "X3tX3 = X3.T*X3\n",
    "X3ty = X3.T*Matrix(y)\n",
    "Mat, _ = X3tX3.row_join(X3ty).rref()\n",
    "B3 = Mat[:,-1]"
   ]
  },
  {
   "cell_type": "code",
   "execution_count": 50,
   "metadata": {
    "ExecuteTime": {
     "end_time": "2023-08-31T19:05:02.671326300Z",
     "start_time": "2023-08-31T19:04:59.763096100Z"
    }
   },
   "outputs": [
    {
     "data": {
      "text/plain": "<IPython.core.display.Math object>",
      "text/latex": "$\\displaystyle X_1^TX_1 = \\left[\\begin{matrix}7 & 43.66\\\\43.66 & 555.222668\\end{matrix}\\right]$"
     },
     "metadata": {},
     "output_type": "display_data"
    },
    {
     "data": {
      "text/plain": "<IPython.core.display.Math object>",
      "text/latex": "$\\displaystyle X_1^Ty = \\left[\\begin{matrix}3.0\\\\5.6079\\end{matrix}\\right]$"
     },
     "metadata": {},
     "output_type": "display_data"
    },
    {
     "data": {
      "text/plain": "<IPython.core.display.Math object>",
      "text/latex": "$\\displaystyle X_2^TX_2 = \\left[\\begin{matrix}99.9956 & 234.145\\\\234.145 & 555.222668\\end{matrix}\\right]$"
     },
     "metadata": {},
     "output_type": "display_data"
    },
    {
     "data": {
      "text/plain": "<IPython.core.display.Math object>",
      "text/latex": "$\\displaystyle X_2^Ty = \\left[\\begin{matrix}4.997\\\\5.6079\\end{matrix}\\right]$"
     },
     "metadata": {},
     "output_type": "display_data"
    },
    {
     "data": {
      "text/plain": "<IPython.core.display.Math object>",
      "text/latex": "$\\displaystyle X_3^TX_3 = \\left[\\begin{matrix}7.0 & 10.0\\\\10.0 & 19.88\\end{matrix}\\right]$"
     },
     "metadata": {},
     "output_type": "display_data"
    },
    {
     "data": {
      "text/plain": "<IPython.core.display.Math object>",
      "text/latex": "$\\displaystyle X_3^Ty = \\left[\\begin{matrix}3.0\\\\3.69\\end{matrix}\\right]$"
     },
     "metadata": {},
     "output_type": "display_data"
    }
   ],
   "source": [
    "# b)\n",
    "display(Math(r'X_1^TX_1 = ' + latex(X1tX1)))\n",
    "display(Math(r'X_1^Ty = ' + latex(X1ty)))\n",
    "display(Math(r'X_2^TX_2 = ' + latex(X2tX2)))\n",
    "display(Math(r'X_2^Ty = ' + latex(X2ty)))\n",
    "display(Math(r'X_3^TX_3 = ' + latex(X3tX3.evalf(5))))\n",
    "display(Math(r'X_3^Ty = ' + latex(X3ty)))"
   ]
  },
  {
   "cell_type": "code",
   "execution_count": 51,
   "metadata": {
    "ExecuteTime": {
     "end_time": "2023-08-31T19:05:02.703618Z",
     "start_time": "2023-08-31T19:04:59.782106900Z"
    }
   },
   "outputs": [
    {
     "data": {
      "text/plain": "<IPython.core.display.Latex object>",
      "text/latex": "$$y_1(t) = 0.72+0.7175t^3$$"
     },
     "metadata": {},
     "output_type": "display_data"
    },
    {
     "data": {
      "text/plain": "<IPython.core.display.Latex object>",
      "text/latex": "$$y_2(t) = 2.10t^2+-0.8754t^3$$"
     },
     "metadata": {},
     "output_type": "display_data"
    },
    {
     "data": {
      "text/plain": "<IPython.core.display.Latex object>",
      "text/latex": "$$y_3(t) = 0.58+-0.1065t$$"
     },
     "metadata": {},
     "output_type": "display_data"
    }
   ],
   "source": [
    "display(Latex(\"$$y_1(t) = {}+{}t^3$$\".format(round(B1[0],2), round(B1[0],4))))\n",
    "display(Latex(\"$$y_2(t) = {}t^2+{}t^3$$\".format(round(B2[0],2), round(B2[1], 4))))\n",
    "display(Latex(\"$$y_3(t) = {}+{}t$$\".format(round(B3[0],2), round(B3[1], 4))))"
   ]
  },
  {
   "cell_type": "code",
   "execution_count": 52,
   "metadata": {
    "ExecuteTime": {
     "end_time": "2023-08-31T19:05:02.704616300Z",
     "start_time": "2023-08-31T19:04:59.799956700Z"
    }
   },
   "outputs": [
    {
     "data": {
      "text/plain": "<IPython.core.display.Latex object>",
      "text/latex": "$$e_1 = 3.69$$"
     },
     "metadata": {},
     "output_type": "display_data"
    },
    {
     "data": {
      "text/plain": "<IPython.core.display.Latex object>",
      "text/latex": "$$e_2 = 3.15$$"
     },
     "metadata": {},
     "output_type": "display_data"
    },
    {
     "data": {
      "text/plain": "<IPython.core.display.Latex object>",
      "text/latex": "$$e_3 = 3.76$$"
     },
     "metadata": {},
     "output_type": "display_data"
    }
   ],
   "source": [
    "# c)\n",
    "display(Latex(\"$$e_1 = {}$$\".format(round((Matrix(y)-X1*B1).norm(), 2))))\n",
    "display(Latex(\"$$e_2 = {}$$\".format(round((Matrix(y)-X2*B2).norm(), 2))))\n",
    "display(Latex(\"$$e_3 = {}$$\".format(round((Matrix(y)-X3*B3).norm(), 2))))"
   ]
  },
  {
   "cell_type": "markdown",
   "metadata": {},
   "source": [
    "## Assignment 6"
   ]
  },
  {
   "cell_type": "code",
   "execution_count": 53,
   "metadata": {
    "ExecuteTime": {
     "end_time": "2023-08-31T19:05:02.708116100Z",
     "start_time": "2023-08-31T19:04:59.822581900Z"
    }
   },
   "outputs": [
    {
     "data": {
      "text/plain": "⎡     -2⋅√5   -2⋅√5 ⎤\n⎢1/3  ──────  ──────⎥\n⎢       5       15  ⎥\n⎢                   ⎥\n⎢       √5    -4⋅√5 ⎥\n⎢2/3    ──    ──────⎥\n⎢       5       15  ⎥\n⎢                   ⎥\n⎢               √5  ⎥\n⎢2/3    0       ──  ⎥\n⎣               3   ⎦",
      "text/latex": "$\\displaystyle \\left[\\begin{matrix}\\frac{1}{3} & - \\frac{2 \\sqrt{5}}{5} & - \\frac{2 \\sqrt{5}}{15}\\\\\\frac{2}{3} & \\frac{\\sqrt{5}}{5} & - \\frac{4 \\sqrt{5}}{15}\\\\\\frac{2}{3} & 0 & \\frac{\\sqrt{5}}{3}\\end{matrix}\\right]$"
     },
     "execution_count": 53,
     "metadata": {},
     "output_type": "execute_result"
    }
   ],
   "source": [
    "AAt = Matrix([[2,4,4],[4,8,8],[4,8,8]])\n",
    "AAt.eigenvects()\n",
    "u1 = 2*AAt.eigenvects()[1][2][0]\n",
    "u2 = AAt.eigenvects()[0][2][0]\n",
    "u3 = AAt.eigenvects()[0][2][1]\n",
    "\n",
    "u1, u2, u3 = GramSchmidt((u1, u2, u3), True)\n",
    "U = Matrix.hstack(u1, u2, u3)\n",
    "\n",
    "U\n"
   ]
  },
  {
   "cell_type": "code",
   "execution_count": 54,
   "metadata": {
    "ExecuteTime": {
     "end_time": "2023-08-31T19:05:02.743002Z",
     "start_time": "2023-08-31T19:04:59.860121700Z"
    }
   },
   "outputs": [
    {
     "data": {
      "text/plain": "⎡⎛      ⎡⎡-2⎤  ⎡-2⎤⎤⎞  ⎛       ⎡⎡1/2⎤⎤⎞⎤\n⎢⎜      ⎢⎢  ⎥  ⎢  ⎥⎥⎟  ⎜       ⎢⎢   ⎥⎥⎟⎥\n⎢⎜0, 2, ⎢⎢1 ⎥, ⎢0 ⎥⎥⎟, ⎜18, 1, ⎢⎢ 1 ⎥⎥⎟⎥\n⎢⎜      ⎢⎢  ⎥  ⎢  ⎥⎥⎟  ⎜       ⎢⎢   ⎥⎥⎟⎥\n⎣⎝      ⎣⎣0 ⎦  ⎣1 ⎦⎦⎠  ⎝       ⎣⎣ 1 ⎦⎦⎠⎦",
      "text/latex": "$\\displaystyle \\left[ \\left( 0, \\  2, \\  \\left[ \\left[\\begin{matrix}-2\\\\1\\\\0\\end{matrix}\\right], \\  \\left[\\begin{matrix}-2\\\\0\\\\1\\end{matrix}\\right]\\right]\\right), \\  \\left( 18, \\  1, \\  \\left[ \\left[\\begin{matrix}\\frac{1}{2}\\\\1\\\\1\\end{matrix}\\right]\\right]\\right)\\right]$"
     },
     "execution_count": 54,
     "metadata": {},
     "output_type": "execute_result"
    }
   ],
   "source": [
    "# a)\n",
    "AAt.eigenvects() # multiply the first by 2"
   ]
  },
  {
   "cell_type": "code",
   "execution_count": 55,
   "metadata": {
    "ExecuteTime": {
     "end_time": "2023-08-31T19:05:02.818851600Z",
     "start_time": "2023-08-31T19:04:59.879975200Z"
    }
   },
   "outputs": [
    {
     "data": {
      "text/plain": "⎡3⋅√2  0⎤\n⎢       ⎥\n⎢ 0    0⎥\n⎢       ⎥\n⎣ 0    0⎦",
      "text/latex": "$\\displaystyle \\left[\\begin{matrix}3 \\sqrt{2} & 0\\\\0 & 0\\\\0 & 0\\end{matrix}\\right]$"
     },
     "metadata": {},
     "output_type": "display_data"
    },
    {
     "data": {
      "text/plain": "⎡1  1⎤\n⎢    ⎥\n⎢2  2⎥\n⎢    ⎥\n⎣2  2⎦",
      "text/latex": "$\\displaystyle \\left[\\begin{matrix}1 & 1\\\\2 & 2\\\\2 & 2\\end{matrix}\\right]$"
     },
     "metadata": {},
     "output_type": "display_data"
    },
    {
     "data": {
      "text/plain": "⎡2  4  4⎤\n⎢       ⎥\n⎢4  8  8⎥\n⎢       ⎥\n⎣4  8  8⎦",
      "text/latex": "$\\displaystyle \\left[\\begin{matrix}2 & 4 & 4\\\\4 & 8 & 8\\\\4 & 8 & 8\\end{matrix}\\right]$"
     },
     "metadata": {},
     "output_type": "display_data"
    },
    {
     "data": {
      "text/plain": "⎡ √2   √2⎤\n⎢ ──   ──⎥\n⎢ 2    2 ⎥\n⎢        ⎥\n⎢-√2   √2⎥\n⎢────  ──⎥\n⎣ 2    2 ⎦",
      "text/latex": "$\\displaystyle \\left[\\begin{matrix}\\frac{\\sqrt{2}}{2} & \\frac{\\sqrt{2}}{2}\\\\- \\frac{\\sqrt{2}}{2} & \\frac{\\sqrt{2}}{2}\\end{matrix}\\right]$"
     },
     "metadata": {},
     "output_type": "display_data"
    }
   ],
   "source": [
    "# b)\n",
    "s1 = sqrt(AAt.eigenvects()[1][0])\n",
    "V = Matrix([[(sqrt(2))/(2),-(sqrt(2))/(2)],[(sqrt(2))/(2),(sqrt(2))/(2)]])\n",
    "Vt = V.T\n",
    "S = diag(s1, 0).col_join(zeros(1,2))\n",
    "S\n",
    "\n",
    "display(S)\n",
    "display(U * S * Vt)\n",
    "display(AAt) \n",
    "display(Vt)\n"
   ]
  },
  {
   "cell_type": "code",
   "execution_count": 56,
   "metadata": {
    "ExecuteTime": {
     "end_time": "2023-08-31T19:05:02.819352300Z",
     "start_time": "2023-08-31T19:04:59.943338900Z"
    }
   },
   "outputs": [
    {
     "data": {
      "text/plain": "⎡1  1⎤\n⎢    ⎥\n⎢2  2⎥\n⎢    ⎥\n⎣2  2⎦",
      "text/latex": "$\\displaystyle \\left[\\begin{matrix}1 & 1\\\\2 & 2\\\\2 & 2\\end{matrix}\\right]$"
     },
     "execution_count": 56,
     "metadata": {},
     "output_type": "execute_result"
    }
   ],
   "source": [
    "V = Matrix([[(sqrt(2))/(2),-(sqrt(2))/(2)],[(sqrt(2))/(2),(sqrt(2))/(2)]])\n",
    "U * S * V.T"
   ]
  },
  {
   "cell_type": "code",
   "execution_count": 57,
   "metadata": {
    "ExecuteTime": {
     "end_time": "2023-08-31T19:05:02.819352300Z",
     "start_time": "2023-08-31T19:04:59.960783Z"
    }
   },
   "outputs": [
    {
     "data": {
      "text/plain": "10",
      "text/latex": "$\\displaystyle 10$"
     },
     "metadata": {},
     "output_type": "display_data"
    },
    {
     "data": {
      "text/plain": "<IPython.core.display.Math object>",
      "text/latex": "$\\displaystyle Sum  of  A  matrix  is= 10$"
     },
     "metadata": {},
     "output_type": "display_data"
    }
   ],
   "source": [
    "display(1+1+2+2+2+2)\n",
    "display(Math('Sum  of  A  matrix  is= {}'.format(latex(np.sum(U * S * V.T)))))\n"
   ]
  },
  {
   "cell_type": "code",
   "execution_count": 57,
   "outputs": [],
   "source": [],
   "metadata": {
    "collapsed": false,
    "ExecuteTime": {
     "end_time": "2023-08-31T19:05:02.820359700Z",
     "start_time": "2023-08-31T19:04:59.983737700Z"
    }
   }
  }
 ],
 "metadata": {
  "kernelspec": {
   "display_name": "Python 3",
   "language": "python",
   "name": "python3"
  },
  "language_info": {
   "codemirror_mode": {
    "name": "ipython",
    "version": 3
   },
   "file_extension": ".py",
   "mimetype": "text/x-python",
   "name": "python",
   "nbconvert_exporter": "python",
   "pygments_lexer": "ipython3",
   "version": "3.11.1"
  },
  "orig_nbformat": 4
 },
 "nbformat": 4,
 "nbformat_minor": 2
}
