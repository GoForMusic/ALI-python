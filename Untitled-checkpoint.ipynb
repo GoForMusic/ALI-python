{
 "cells": [
  {
   "cell_type": "code",
   "execution_count": 2,
   "id": "eaf7aa8b",
   "metadata": {},
   "outputs": [],
   "source": [
    "from sympy import *\n",
    "init_printing()\n",
    "from IPython.display import display, Latex, HTML, Math\n",
    "import numpy as np\n"
   ]
  },
  {
   "cell_type": "markdown",
   "id": "a1dfc4dd",
   "metadata": {},
   "source": [
    "2 matrix multyply"
   ]
  },
  {
   "cell_type": "code",
   "execution_count": 22,
   "id": "b9b998b9",
   "metadata": {},
   "outputs": [
    {
     "data": {
      "text/latex": [
       "$\\displaystyle \\left[\\begin{matrix}0\\\\0\\\\0\\end{matrix}\\right]$"
      ],
      "text/plain": [
       "⎡0⎤\n",
       "⎢ ⎥\n",
       "⎢0⎥\n",
       "⎢ ⎥\n",
       "⎣0⎦"
      ]
     },
     "execution_count": 22,
     "metadata": {},
     "output_type": "execute_result"
    }
   ],
   "source": [
    "A = Matrix([\n",
    "      [2, 6, 4]\n",
    "    , [-3, 2, 5]\n",
    "    , [-5, -4, 1]\n",
    "])\n",
    "\n",
    "B = Matrix([\n",
    "    [1]\n",
    "    ,[-1]\n",
    "    ,[1]\n",
    "])\n",
    "\n",
    "A*B"
   ]
  },
  {
   "cell_type": "markdown",
   "id": "81200e2c",
   "metadata": {},
   "source": [
    "RREF"
   ]
  },
  {
   "cell_type": "code",
   "execution_count": 23,
   "id": "ff6d9720",
   "metadata": {},
   "outputs": [
    {
     "data": {
      "text/latex": [
       "$\\displaystyle \\left( \\left[\\begin{matrix}1 & 0 & -2 & 4\\\\0 & 1 & 3 & -2\\end{matrix}\\right], \\  \\left( 0, \\  1\\right)\\right)$"
      ],
      "text/plain": [
       "⎛⎡1  0  -2  4 ⎤        ⎞\n",
       "⎜⎢            ⎥, (0, 1)⎟\n",
       "⎝⎣0  1  3   -2⎦        ⎠"
      ]
     },
     "execution_count": 23,
     "metadata": {},
     "output_type": "execute_result"
    }
   ],
   "source": [
    "A = Matrix([\n",
    "    [1,2,4,0]\n",
    "    ,[0,1,3,-2]\n",
    "])\n",
    "\n",
    "A.rref()"
   ]
  },
  {
   "cell_type": "code",
   "execution_count": 4,
   "id": "1113972d",
   "metadata": {},
   "outputs": [
    {
     "data": {
      "text/latex": [
       "$\\displaystyle \\left( \\left[\\begin{matrix}1 & 0 & - \\frac{3}{2} & 0\\\\0 & 1 & \\frac{1}{2} & 0\\\\0 & 0 & 0 & 1\\end{matrix}\\right], \\  \\left( 0, \\  1, \\  3\\right)\\right)$"
      ],
      "text/plain": [
       "⎛⎡1  0  -3/2  0⎤           ⎞\n",
       "⎜⎢             ⎥           ⎟\n",
       "⎜⎢0  1  1/2   0⎥, (0, 1, 3)⎟\n",
       "⎜⎢             ⎥           ⎟\n",
       "⎝⎣0  0   0    1⎦           ⎠"
      ]
     },
     "execution_count": 4,
     "metadata": {},
     "output_type": "execute_result"
    }
   ],
   "source": [
    "A = Matrix([\n",
    "    [4,8,-2,2]\n",
    "    ,[-6,2,10,18]\n",
    "    ,[-2,6,6,15]\n",
    "])\n",
    "\n",
    "A.rref()"
   ]
  },
  {
   "cell_type": "markdown",
   "id": "cc1af73a",
   "metadata": {},
   "source": [
    "Generate Ax=0 and see Null A"
   ]
  },
  {
   "cell_type": "code",
   "execution_count": 24,
   "id": "91dc0aae",
   "metadata": {},
   "outputs": [
    {
     "data": {
      "text/latex": [
       "$\\displaystyle \\left[ \\left[\\begin{matrix}2\\\\-3\\\\1\\\\0\\end{matrix}\\right], \\  \\left[\\begin{matrix}-4\\\\2\\\\0\\\\1\\end{matrix}\\right]\\right]$"
      ],
      "text/plain": [
       "⎡⎡2 ⎤  ⎡-4⎤⎤\n",
       "⎢⎢  ⎥  ⎢  ⎥⎥\n",
       "⎢⎢-3⎥  ⎢2 ⎥⎥\n",
       "⎢⎢  ⎥, ⎢  ⎥⎥\n",
       "⎢⎢1 ⎥  ⎢0 ⎥⎥\n",
       "⎢⎢  ⎥  ⎢  ⎥⎥\n",
       "⎣⎣0 ⎦  ⎣1 ⎦⎦"
      ]
     },
     "execution_count": 24,
     "metadata": {},
     "output_type": "execute_result"
    }
   ],
   "source": [
    "A = Matrix([\n",
    "    [1,2,4,0]\n",
    "    ,[0,1,3,-2]\n",
    "])\n",
    "\n",
    "A.nullspace()"
   ]
  },
  {
   "cell_type": "code",
   "execution_count": 7,
   "id": "42d263d8",
   "metadata": {},
   "outputs": [
    {
     "data": {
      "text/latex": [
       "$\\displaystyle \\left( \\left[\\begin{matrix}1 & 0 & 2 & 4\\\\0 & 1 & -1 & -1\\\\0 & 0 & 0 & 0\\end{matrix}\\right], \\  \\left( 0, \\  1\\right)\\right)$"
      ],
      "text/plain": [
       "⎛⎡1  0  2   4 ⎤        ⎞\n",
       "⎜⎢            ⎥        ⎟\n",
       "⎜⎢0  1  -1  -1⎥, (0, 1)⎟\n",
       "⎜⎢            ⎥        ⎟\n",
       "⎝⎣0  0  0   0 ⎦        ⎠"
      ]
     },
     "execution_count": 7,
     "metadata": {},
     "output_type": "execute_result"
    }
   ],
   "source": [
    "A = Matrix([\n",
    "    [1,-1,3,5]\n",
    "    ,[-1,-3,1,-1]\n",
    "    ,[2,6,-2,2]\n",
    "])\n",
    "\n",
    "A.rref()"
   ]
  },
  {
   "cell_type": "markdown",
   "id": "d6ed8a62",
   "metadata": {},
   "source": [
    "https://www.emathhelp.net/en/calculators/linear-algebra/reduced-row-echelon-form-rref-calculator/?i=%5B%5B1%2C3%2C-4%2C-3%2C1%5D%2C%5B0%2C1%2C-3%2C1%2C0%5D%2C%5B0%2C0%2C0%2C0%2C0%5D%5D&reduced=on"
   ]
  },
  {
   "cell_type": "code",
   "execution_count": 6,
   "id": "ad01a674",
   "metadata": {},
   "outputs": [
    {
     "data": {
      "text/latex": [
       "$\\displaystyle \\left[ \\left[\\begin{matrix}1 & -1 & 3 & 5\\end{matrix}\\right], \\  \\left[\\begin{matrix}0 & -4 & 4 & 4\\end{matrix}\\right]\\right]$"
      ],
      "text/plain": [
       "[[1  -1  3  5], [0  -4  4  4]]"
      ]
     },
     "execution_count": 6,
     "metadata": {},
     "output_type": "execute_result"
    }
   ],
   "source": [
    "A = Matrix([\n",
    "    [1,-1,3,5]\n",
    "    ,[-1,-3,1,-1]\n",
    "    ,[2,6,-2,2]\n",
    "])\n",
    "\n",
    "#A.nullspace()\n",
    "#A.columnspace()\n",
    "A.rowspace()"
   ]
  },
  {
   "cell_type": "code",
   "execution_count": 31,
   "id": "61314a47",
   "metadata": {},
   "outputs": [
    {
     "data": {
      "text/latex": [
       "$\\displaystyle \\left( \\left[\\begin{matrix}1 & 0 & 0 & -1 & 0\\\\0 & 1 & 0 & 2 & 0\\\\0 & 0 & 1 & -1 & 0\\\\0 & 0 & 0 & 0 & 1\\\\0 & 0 & 0 & 0 & 0\\end{matrix}\\right], \\  \\left( 0, \\  1, \\  2, \\  4\\right)\\right)$"
      ],
      "text/plain": [
       "⎛⎡1  0  0  -1  0⎤              ⎞\n",
       "⎜⎢              ⎥              ⎟\n",
       "⎜⎢0  1  0  2   0⎥              ⎟\n",
       "⎜⎢              ⎥              ⎟\n",
       "⎜⎢0  0  1  -1  0⎥, (0, 1, 2, 4)⎟\n",
       "⎜⎢              ⎥              ⎟\n",
       "⎜⎢0  0  0  0   1⎥              ⎟\n",
       "⎜⎢              ⎥              ⎟\n",
       "⎝⎣0  0  0  0   0⎦              ⎠"
      ]
     },
     "execution_count": 31,
     "metadata": {},
     "output_type": "execute_result"
    }
   ],
   "source": [
    "A = Matrix([\n",
    "    [2,4,-2,8,-8]\n",
    "    ,[0,0,-4,4,4]\n",
    "    ,[-4,2,0,8,0]\n",
    "    ,[-6,-4,1,-3,0]\n",
    "    ,[0,4,-7,15,1]\n",
    "])\n",
    "\n",
    "A.rref()"
   ]
  },
  {
   "cell_type": "markdown",
   "id": "671c5e17",
   "metadata": {},
   "source": [
    "Inverse of Matrix"
   ]
  },
  {
   "cell_type": "code",
   "execution_count": 9,
   "id": "da4a9bb7",
   "metadata": {},
   "outputs": [
    {
     "data": {
      "text/latex": [
       "$\\displaystyle \\left[\\begin{matrix}3 & -7\\\\-2 & 5\\end{matrix}\\right]$"
      ],
      "text/plain": [
       "⎡3   -7⎤\n",
       "⎢      ⎥\n",
       "⎣-2  5 ⎦"
      ]
     },
     "execution_count": 9,
     "metadata": {},
     "output_type": "execute_result"
    }
   ],
   "source": [
    "P = Matrix([[5,7],[2,3]])\n",
    "\n",
    "P**-1"
   ]
  },
  {
   "cell_type": "code",
   "execution_count": 14,
   "id": "0bfcd56b",
   "metadata": {},
   "outputs": [
    {
     "data": {
      "text/latex": [
       "$\\displaystyle \\left[\\begin{matrix}226 & -525\\\\90 & -209\\end{matrix}\\right]$"
      ],
      "text/plain": [
       "⎡226  -525⎤\n",
       "⎢         ⎥\n",
       "⎣90   -209⎦"
      ]
     },
     "execution_count": 14,
     "metadata": {},
     "output_type": "execute_result"
    }
   ],
   "source": [
    "P = Matrix([[5,7],[2,3]])\n",
    "Pinv = P**-1\n",
    "D = Matrix([[16,0],[0,1]])\n",
    "\n",
    "P*D*Pinv"
   ]
  },
  {
   "cell_type": "code",
   "execution_count": 3,
   "id": "3c114bff",
   "metadata": {},
   "outputs": [
    {
     "data": {
      "text/latex": [
       "$\\displaystyle \\left( \\left[\\begin{matrix}1 & 0 & 3 & 2\\\\0 & 1 & - \\frac{5}{2} & -1\\end{matrix}\\right], \\  \\left( 0, \\  1\\right)\\right)$"
      ],
      "text/plain": [
       "⎛⎡1  0   3    2 ⎤        ⎞\n",
       "⎜⎢              ⎥, (0, 1)⎟\n",
       "⎝⎣0  1  -5/2  -1⎦        ⎠"
      ]
     },
     "execution_count": 3,
     "metadata": {},
     "output_type": "execute_result"
    }
   ],
   "source": [
    "A = Matrix([\n",
    "    [2,2,1,2]\n",
    "    ,[3,4,-1,2]\n",
    "])\n",
    "\n",
    "A.rref()"
   ]
  },
  {
   "cell_type": "markdown",
   "id": "6d8e88b2",
   "metadata": {},
   "source": [
    "ASSIGNMENT 2"
   ]
  },
  {
   "cell_type": "code",
   "execution_count": 15,
   "id": "ae5130f4",
   "metadata": {},
   "outputs": [],
   "source": [
    "A = Matrix([[2,2],[3,4]])\n",
    "B = Matrix([[1,2],[-1,2]])\n",
    "C = Matrix([[4,-2],[1,0]])"
   ]
  },
  {
   "cell_type": "code",
   "execution_count": 21,
   "id": "544af242",
   "metadata": {},
   "outputs": [
    {
     "data": {
      "text/latex": [
       "$\\displaystyle \\text{Det}(A) =2$"
      ],
      "text/plain": [
       "<IPython.core.display.Math object>"
      ]
     },
     "metadata": {},
     "output_type": "display_data"
    },
    {
     "data": {
      "text/latex": [
       "$\\displaystyle B^{-1} =\\left( \\left[\\begin{matrix}1 & 0 & \\frac{1}{2} & - \\frac{1}{2}\\\\0 & 1 & \\frac{1}{4} & \\frac{1}{4}\\end{matrix}\\right], \\  \\left( 0, \\  1\\right)\\right)$"
      ],
      "text/plain": [
       "<IPython.core.display.Math object>"
      ]
     },
     "metadata": {},
     "output_type": "display_data"
    },
    {
     "data": {
      "text/latex": [
       "$\\displaystyle \\text{nullspace}(C) = \\left[ \\right]$"
      ],
      "text/plain": [
       "<IPython.core.display.Math object>"
      ]
     },
     "metadata": {},
     "output_type": "display_data"
    }
   ],
   "source": [
    "#a)\n",
    "\n",
    "# Using the determinant\n",
    "display(Math(r'\\text{Det}(A) =' + latex(A.det())))\n",
    "\n",
    "# Using identity matrix and row reduction\n",
    "display(Math(r'B^{-1} =' + latex(B.row_join(eye(2)).rref())))\n",
    "\n",
    "# Using nullspace by showing it is empty\n",
    "display(Math(r'\\text{nullspace}(C) = ' + latex(C.nullspace())))"
   ]
  },
  {
   "cell_type": "code",
   "execution_count": 29,
   "id": "913adba0",
   "metadata": {},
   "outputs": [
    {
     "data": {
      "text/latex": [
       "$\\displaystyle AX=B:$"
      ],
      "text/plain": [
       "<IPython.core.display.Math object>"
      ]
     },
     "metadata": {},
     "output_type": "display_data"
    },
    {
     "data": {
      "text/latex": [
       "$\\displaystyle X =\\left[\\begin{matrix}3 & 2\\\\- \\frac{5}{2} & -1\\end{matrix}\\right]$"
      ],
      "text/plain": [
       "<IPython.core.display.Math object>"
      ]
     },
     "metadata": {},
     "output_type": "display_data"
    },
    {
     "data": {
      "text/latex": [
       "$\\displaystyle A^{2}X+B=0:$"
      ],
      "text/plain": [
       "<IPython.core.display.Math object>"
      ]
     },
     "metadata": {},
     "output_type": "display_data"
    },
    {
     "data": {
      "text/latex": [
       "$\\displaystyle X =\\left[\\begin{matrix}- \\frac{17}{2} & -5\\\\7 & 4\\end{matrix}\\right]$"
      ],
      "text/plain": [
       "<IPython.core.display.Math object>"
      ]
     },
     "metadata": {},
     "output_type": "display_data"
    },
    {
     "data": {
      "text/latex": [
       "$\\displaystyle AXB=C:$"
      ],
      "text/plain": [
       "<IPython.core.display.Math object>"
      ]
     },
     "metadata": {},
     "output_type": "display_data"
    },
    {
     "data": {
      "text/latex": [
       "$\\displaystyle X =\\left[\\begin{matrix}\\frac{5}{2} & - \\frac{9}{2}\\\\- \\frac{7}{4} & \\frac{13}{4}\\end{matrix}\\right]$"
      ],
      "text/plain": [
       "<IPython.core.display.Math object>"
      ]
     },
     "metadata": {},
     "output_type": "display_data"
    },
    {
     "data": {
      "text/latex": [
       "$\\displaystyle AX +BX=C:$"
      ],
      "text/plain": [
       "<IPython.core.display.Math object>"
      ]
     },
     "metadata": {},
     "output_type": "display_data"
    },
    {
     "data": {
      "text/latex": [
       "$\\displaystyle X =\\left[\\begin{matrix}2 & - \\frac{6}{5}\\\\- \\frac{1}{2} & \\frac{2}{5}\\end{matrix}\\right]$"
      ],
      "text/plain": [
       "<IPython.core.display.Math object>"
      ]
     },
     "metadata": {},
     "output_type": "display_data"
    },
    {
     "data": {
      "text/latex": [
       "$\\displaystyle ACX=0:$"
      ],
      "text/plain": [
       "<IPython.core.display.Math object>"
      ]
     },
     "metadata": {},
     "output_type": "display_data"
    },
    {
     "data": {
      "text/latex": [
       "$\\displaystyle X =\\left[\\begin{matrix}0 & 0\\\\0 & 0\\end{matrix}\\right]$"
      ],
      "text/plain": [
       "<IPython.core.display.Math object>"
      ]
     },
     "metadata": {},
     "output_type": "display_data"
    }
   ],
   "source": [
    "# b)\n",
    "display(Math(r'AX=B:'))\n",
    "X1 = (A**-1)*B\n",
    "display(Math(r'X =' + latex(X1)))\n",
    "\n",
    "display(Math(r'A^{2}X+B=0:'))\n",
    "X2 = -(A**-2)*B\n",
    "display(Math(r'X =' + latex(X2)))\n",
    "\n",
    "display(Math(r'AXB=C:'))\n",
    "X3 = (A**-1)*C*B**-1\n",
    "display(Math(r'X =' + latex(X3)))\n",
    "\n",
    "display(Math(r'AX +BX=C:'))\n",
    "X4 = ((A+B)**-1)*C\n",
    "display(Math(r'X =' + latex(X4)))\n",
    "\n",
    "display(Math(r'ACX=0:'))\n",
    "X5 = Matrix(zeros(2,2))\n",
    "display(Math(r'X =' + latex(X5)))"
   ]
  },
  {
   "cell_type": "markdown",
   "id": "47184548",
   "metadata": {},
   "source": [
    "## Assignment 3"
   ]
  },
  {
   "cell_type": "code",
   "execution_count": 30,
   "id": "99e361e9",
   "metadata": {},
   "outputs": [
    {
     "data": {
      "text/latex": [
       "Basis for nullspace:"
      ],
      "text/plain": [
       "<IPython.core.display.Latex object>"
      ]
     },
     "metadata": {},
     "output_type": "display_data"
    },
    {
     "data": {
      "text/latex": [
       "$\\displaystyle \\left[ \\left[\\begin{matrix}-2\\\\1\\\\1\\\\0\\end{matrix}\\right], \\  \\left[\\begin{matrix}-4\\\\1\\\\0\\\\1\\end{matrix}\\right]\\right]$"
      ],
      "text/plain": [
       "⎡⎡-2⎤  ⎡-4⎤⎤\n",
       "⎢⎢  ⎥  ⎢  ⎥⎥\n",
       "⎢⎢1 ⎥  ⎢1 ⎥⎥\n",
       "⎢⎢  ⎥, ⎢  ⎥⎥\n",
       "⎢⎢1 ⎥  ⎢0 ⎥⎥\n",
       "⎢⎢  ⎥  ⎢  ⎥⎥\n",
       "⎣⎣0 ⎦  ⎣1 ⎦⎦"
      ]
     },
     "metadata": {},
     "output_type": "display_data"
    },
    {
     "data": {
      "text/latex": [
       "Basis for colspace:"
      ],
      "text/plain": [
       "<IPython.core.display.Latex object>"
      ]
     },
     "metadata": {},
     "output_type": "display_data"
    },
    {
     "data": {
      "text/latex": [
       "$\\displaystyle \\left[ \\left[\\begin{matrix}1\\\\-1\\\\2\\end{matrix}\\right], \\  \\left[\\begin{matrix}-1\\\\-3\\\\6\\end{matrix}\\right]\\right]$"
      ],
      "text/plain": [
       "⎡⎡1 ⎤  ⎡-1⎤⎤\n",
       "⎢⎢  ⎥  ⎢  ⎥⎥\n",
       "⎢⎢-1⎥, ⎢-3⎥⎥\n",
       "⎢⎢  ⎥  ⎢  ⎥⎥\n",
       "⎣⎣2 ⎦  ⎣6 ⎦⎦"
      ]
     },
     "metadata": {},
     "output_type": "display_data"
    },
    {
     "data": {
      "text/latex": [
       "Basis for rowspace:"
      ],
      "text/plain": [
       "<IPython.core.display.Latex object>"
      ]
     },
     "metadata": {},
     "output_type": "display_data"
    },
    {
     "data": {
      "text/latex": [
       "$\\displaystyle \\left[ \\left[\\begin{matrix}1 & -1 & 3 & 5\\end{matrix}\\right], \\  \\left[\\begin{matrix}0 & -4 & 4 & 4\\end{matrix}\\right]\\right]$"
      ],
      "text/plain": [
       "[[1  -1  3  5], [0  -4  4  4]]"
      ]
     },
     "metadata": {},
     "output_type": "display_data"
    }
   ],
   "source": [
    "# a)\n",
    "\n",
    "A = Matrix([[1,-1,3,5],[-1,-3,1,-1],[2,6,-2,2]])\n",
    "\n",
    "display(Latex('Basis for nullspace:'))\n",
    "display(A.nullspace())\n",
    "\n",
    "display(Latex('Basis for colspace:'))\n",
    "display(A.columnspace())\n",
    "\n",
    "display(Latex('Basis for rowspace:'))\n",
    "display(A.rowspace())"
   ]
  },
  {
   "cell_type": "code",
   "execution_count": 31,
   "id": "e95a1600",
   "metadata": {},
   "outputs": [
    {
     "data": {
      "text/latex": [
       "$\\displaystyle \\left( \\left[\\begin{matrix}1 & 0 & 2 & 4\\\\0 & 1 & -1 & -1\\\\0 & 0 & 0 & 0\\end{matrix}\\right], \\  \\left( 0, \\  1\\right)\\right)$"
      ],
      "text/plain": [
       "⎛⎡1  0  2   4 ⎤        ⎞\n",
       "⎜⎢            ⎥        ⎟\n",
       "⎜⎢0  1  -1  -1⎥, (0, 1)⎟\n",
       "⎜⎢            ⎥        ⎟\n",
       "⎝⎣0  0  0   0 ⎦        ⎠"
      ]
     },
     "execution_count": 31,
     "metadata": {},
     "output_type": "execute_result"
    }
   ],
   "source": [
    "# b)\n",
    "\n",
    "A.rref()\n",
    "# Since A has a free variable (in fact it has two), there are an\n",
    "# infinite number of solutions."
   ]
  },
  {
   "cell_type": "code",
   "execution_count": 33,
   "id": "c1d1cbd7",
   "metadata": {},
   "outputs": [
    {
     "data": {
      "text/latex": [
       "$\\displaystyle \\mathbf{b} =\\left[\\begin{matrix}0\\\\-4\\\\8\\end{matrix}\\right]$"
      ],
      "text/plain": [
       "<IPython.core.display.Math object>"
      ]
     },
     "metadata": {},
     "output_type": "display_data"
    },
    {
     "data": {
      "text/latex": [
       "Check for inconsistencies:"
      ],
      "text/plain": [
       "<IPython.core.display.Latex object>"
      ]
     },
     "metadata": {},
     "output_type": "display_data"
    },
    {
     "data": {
      "text/latex": [
       "$\\displaystyle \\left( \\left[\\begin{matrix}1 & 0 & 2 & 4 & 1\\\\0 & 1 & -1 & -1 & 1\\\\0 & 0 & 0 & 0 & 0\\end{matrix}\\right], \\  \\left( 0, \\  1\\right)\\right)$"
      ],
      "text/plain": [
       "⎛⎡1  0  2   4   1⎤        ⎞\n",
       "⎜⎢               ⎥        ⎟\n",
       "⎜⎢0  1  -1  -1  1⎥, (0, 1)⎟\n",
       "⎜⎢               ⎥        ⎟\n",
       "⎝⎣0  0  0   0   0⎦        ⎠"
      ]
     },
     "metadata": {},
     "output_type": "display_data"
    }
   ],
   "source": [
    "# c) One such b will lie in the columnspace of A:\n",
    "display(Math(r'\\mathbf{b} =' + latex(A[:,0] + A[:,1])))\n",
    "display(Latex('Check for inconsistencies:'))\n",
    "display(A.row_join(A[:,0] + A[:,1]).rref())"
   ]
  },
  {
   "cell_type": "markdown",
   "id": "94fe2899",
   "metadata": {},
   "source": [
    "## Assignment 4"
   ]
  },
  {
   "cell_type": "code",
   "execution_count": 34,
   "id": "93300643",
   "metadata": {},
   "outputs": [
    {
     "data": {
      "image/png": "[encoded data removed]",
      "text/latex": [
       "$\\displaystyle 10$"
      ],
      "text/plain": [
       "10"
      ]
     },
     "execution_count": 34,
     "metadata": {},
     "output_type": "execute_result"
    }
   ],
   "source": [
    "a, b = symbols('a b')\n",
    "A = Matrix([[-6,a,-1,3],\n",
    "            [2,0,3,0],\n",
    "            [4,5,6,0],\n",
    "            [8,b,1,-4]])\n",
    "A.det()"
   ]
  },
  {
   "cell_type": "markdown",
   "id": "9c075d33",
   "metadata": {},
   "source": [
    "## Assignment 5"
   ]
  },
  {
   "cell_type": "code",
   "execution_count": 35,
   "id": "e411c47d",
   "metadata": {},
   "outputs": [],
   "source": [
    "A = Matrix([[2,2,1],\n",
    "            [2,-1,4],\n",
    "            [0,1,-1]])\n",
    "b = Matrix([[1],\n",
    "            [1],\n",
    "            [1]])\n",
    "\n",
    "x1 = Matrix([[1],[1],[2]])\n",
    "x2 = Matrix([[1],[1],[0]])"
   ]
  },
  {
   "cell_type": "code",
   "execution_count": 36,
   "id": "8c376fd2",
   "metadata": {},
   "outputs": [
    {
     "data": {
      "text/latex": [
       "$\\displaystyle \\left[\\begin{matrix}2 & 2 & 1 & 1\\\\0 & -6 & 6 & 0\\\\0 & 0 & 0 & -6\\end{matrix}\\right]$"
      ],
      "text/plain": [
       "⎡2  2   1  1 ⎤\n",
       "⎢            ⎥\n",
       "⎢0  -6  6  0 ⎥\n",
       "⎢            ⎥\n",
       "⎣0  0   0  -6⎦"
      ]
     },
     "execution_count": 36,
     "metadata": {},
     "output_type": "execute_result"
    }
   ],
   "source": [
    "# a)\n",
    "A.row_join(b).echelon_form()"
   ]
  },
  {
   "cell_type": "code",
   "execution_count": 37,
   "id": "fbec9e1f",
   "metadata": {},
   "outputs": [
    {
     "data": {
      "text/latex": [
       "$\\displaystyle ||\\mathbf{b}-A\\mathbf{x}_{1}|| = 9.64$"
      ],
      "text/plain": [
       "<IPython.core.display.Math object>"
      ]
     },
     "metadata": {},
     "output_type": "display_data"
    },
    {
     "data": {
      "text/latex": [
       "$\\displaystyle ||\\mathbf{b}-A\\mathbf{x}_{2}|| = 3.0$"
      ],
      "text/plain": [
       "<IPython.core.display.Math object>"
      ]
     },
     "metadata": {},
     "output_type": "display_data"
    }
   ],
   "source": [
    "# b)\n",
    "display(Math(r'||\\mathbf{b}-A\\mathbf{x}_{1}|| = ' +\n",
    "             latex(round(float((b-A*x1).norm()), 2))))\n",
    "display(Math(r'||\\mathbf{b}-A\\mathbf{x}_{2}|| = ' +\n",
    "             latex(round(float((b-A*x2).norm()), 2))))"
   ]
  },
  {
   "cell_type": "markdown",
   "id": "efa77b95",
   "metadata": {},
   "source": [
    "## Assignment 6"
   ]
  },
  {
   "cell_type": "code",
   "execution_count": 7,
   "id": "12ebbd30",
   "metadata": {},
   "outputs": [],
   "source": [
    "t = np.array([0, 2, 5, 6])\n",
    "y = np.array([1, 6, 17, 19])"
   ]
  },
  {
   "cell_type": "code",
   "execution_count": 9,
   "id": "2f0922eb",
   "metadata": {},
   "outputs": [
    {
     "data": {
      "text/latex": [
       "$\\displaystyle \\text{Design Matrix for } y_1 =\\left[\\begin{matrix}1 & 0\\\\1 & 4\\\\1 & 25\\\\1 & 36\\end{matrix}\\right]$"
      ],
      "text/plain": [
       "<IPython.core.display.Math object>"
      ]
     },
     "metadata": {},
     "output_type": "display_data"
    },
    {
     "data": {
      "text/latex": [
       "$\\displaystyle \\text{Observation Matrix for } y_1 =\\left[\\begin{matrix}1\\\\6\\\\17\\\\19\\end{matrix}\\right]$"
      ],
      "text/plain": [
       "<IPython.core.display.Math object>"
      ]
     },
     "metadata": {},
     "output_type": "display_data"
    }
   ],
   "source": [
    "# a) Design matrix for y1\n",
    "\n",
    "X1 = Matrix([ones(len(t), 1)]).row_join(Matrix(t**2))\n",
    "XtX = X1.T*X1\n",
    "Xty = X1.T*Matrix(y)\n",
    "Mat, _ = XtX.row_join(Xty).rref()\n",
    "B1 = Mat[:,-1]\n",
    "\n",
    "display(Math(r'\\text{Design Matrix for } y_1 =' + latex(X1)))\n",
    "display(Math(r'\\text{Observation Matrix for } y_1 =' + latex(Matrix(y))))"
   ]
  },
  {
   "cell_type": "code",
   "execution_count": 11,
   "id": "c28a5f3a",
   "metadata": {},
   "outputs": [
    {
     "data": {
      "text/latex": [
       "$\\displaystyle \\text{Design Matrix for } y_2 =\\left[\\begin{matrix}0 & 0\\\\2 & 4\\\\5 & 25\\\\6 & 36\\end{matrix}\\right]$"
      ],
      "text/plain": [
       "<IPython.core.display.Math object>"
      ]
     },
     "metadata": {},
     "output_type": "display_data"
    },
    {
     "data": {
      "text/latex": [
       "$\\displaystyle \\text{Observation Matrix for } y_2 =\\left[\\begin{matrix}1\\\\6\\\\17\\\\19\\end{matrix}\\right]$"
      ],
      "text/plain": [
       "<IPython.core.display.Math object>"
      ]
     },
     "metadata": {},
     "output_type": "display_data"
    }
   ],
   "source": [
    "# a) Design matrix for y2\n",
    "\n",
    "X2 = Matrix(t).row_join(Matrix(t**2))\n",
    "XtX = X2.T*X2\n",
    "Xty = X2.T*Matrix(y)\n",
    "Mat, _ = XtX.row_join(Xty).rref()\n",
    "B2 = Mat[:,-1]\n",
    "\n",
    "display(Math(r'\\text{Design Matrix for } y_2 =' + latex(X2)))\n",
    "display(Math(r'\\text{Observation Matrix for } y_2 =' + latex(Matrix(y))))"
   ]
  },
  {
   "cell_type": "code",
   "execution_count": 13,
   "id": "7e2b6186",
   "metadata": {},
   "outputs": [
    {
     "data": {
      "text/latex": [
       "$\\displaystyle \\text{Design Matrix for } y_3 =\\left[\\begin{matrix}1 & 0 & 0\\\\1 & 2 & 4\\\\1 & 5 & 25\\\\1 & 6 & 36\\end{matrix}\\right]$"
      ],
      "text/plain": [
       "<IPython.core.display.Math object>"
      ]
     },
     "metadata": {},
     "output_type": "display_data"
    },
    {
     "data": {
      "text/latex": [
       "$\\displaystyle \\text{Observation Matrix for } y_3 =\\left[\\begin{matrix}1\\\\6\\\\17\\\\19\\end{matrix}\\right]$"
      ],
      "text/plain": [
       "<IPython.core.display.Math object>"
      ]
     },
     "metadata": {},
     "output_type": "display_data"
    }
   ],
   "source": [
    "# a) Design matrix for y3\n",
    "\n",
    "X3 = Matrix([ones(len(t), 1)]).row_join(Matrix(t)).row_join(Matrix(t**2))\n",
    "XtX = X3.T*X3\n",
    "Xty = X3.T*Matrix(y)\n",
    "Mat, _ = XtX.row_join(Xty).rref()\n",
    "B3 = Mat[:,-1]\n",
    "\n",
    "display(Math(r'\\text{Design Matrix for } y_3 =' + latex(X3)))\n",
    "display(Math(r'\\text{Observation Matrix for } y_3 =' + latex(Matrix(y))))"
   ]
  },
  {
   "cell_type": "code",
   "execution_count": 14,
   "id": "b4044e7c",
   "metadata": {},
   "outputs": [
    {
     "data": {
      "text/latex": [
       "$$y_1(t) = 2.74+0.4930t^2$$"
      ],
      "text/plain": [
       "<IPython.core.display.Latex object>"
      ]
     },
     "metadata": {},
     "output_type": "display_data"
    },
    {
     "data": {
      "text/latex": [
       "$$y_2(t) = 3.24t+0.0015t^2$$"
      ],
      "text/plain": [
       "<IPython.core.display.Latex object>"
      ]
     },
     "metadata": {},
     "output_type": "display_data"
    },
    {
     "data": {
      "text/latex": [
       "$$y_2(t) = 0.78+2.7641t+0.0607t^2$$"
      ],
      "text/plain": [
       "<IPython.core.display.Latex object>"
      ]
     },
     "metadata": {},
     "output_type": "display_data"
    }
   ],
   "source": [
    "# b)\n",
    "\n",
    "display(Latex(\"$$y_1(t) = {}+{}t^2$$\"\n",
    "             .format(round(B1[0], 2), round(B1[1], 4))))\n",
    "\n",
    "display(Latex(\"$$y_2(t) = {}t+{}t^2$$\"\n",
    "             .format(round(B2[0], 2), round(B2[1], 4))))\n",
    "\n",
    "display(Latex(\"$$y_2(t) = {}+{}t+{}t^2$$\"\n",
    "             .format(round(B3[0], 2), round(B3[1], 4), round(B3[2], 4))))"
   ]
  },
  {
   "cell_type": "code",
   "execution_count": 15,
   "id": "81337978",
   "metadata": {},
   "outputs": [
    {
     "data": {
      "text/latex": [
       "The error of $y_1$ = 3.26"
      ],
      "text/plain": [
       "<IPython.core.display.Latex object>"
      ]
     },
     "metadata": {},
     "output_type": "display_data"
    },
    {
     "data": {
      "text/latex": [
       "The error of $y_2$ = 1.44"
      ],
      "text/plain": [
       "<IPython.core.display.Latex object>"
      ]
     },
     "metadata": {},
     "output_type": "display_data"
    },
    {
     "data": {
      "text/latex": [
       "The error of $y_3$ = 1.2"
      ],
      "text/plain": [
       "<IPython.core.display.Latex object>"
      ]
     },
     "metadata": {},
     "output_type": "display_data"
    },
    {
     "data": {
      "text/latex": [
       "$y_3$ has the smallest error and is the best fitted model."
      ],
      "text/plain": [
       "<IPython.core.display.Latex object>"
      ]
     },
     "metadata": {},
     "output_type": "display_data"
    }
   ],
   "source": [
    "# c)\n",
    "\n",
    "display(Latex(\n",
    "    \"The error of $y_1$ = {}\"\n",
    "    .format(round(float((Matrix(y)-X1*B1).norm()), 2))))\n",
    "\n",
    "display(Latex(\n",
    "    \"The error of $y_2$ = {}\"\n",
    "    .format(round(float((Matrix(y)-X2*B2).norm()), 2))))\n",
    "\n",
    "display(Latex(\n",
    "    \"The error of $y_3$ = {}\"\n",
    "    .format(round(float((Matrix(y)-X3*B3).norm()), 2))))\n",
    "\n",
    "display(Latex(\"$y_3$ has the smallest error and is the best fitted model.\"))"
   ]
  },
  {
   "cell_type": "markdown",
   "id": "8d98e6a7",
   "metadata": {},
   "source": [
    "## Assignment 7"
   ]
  },
  {
   "cell_type": "code",
   "execution_count": 41,
   "id": "604bcfa8",
   "metadata": {},
   "outputs": [
    {
     "data": {
      "text/latex": [
       "$\\displaystyle \\left[ \\left( 0, \\  1, \\  \\left[ \\left[\\begin{matrix}- \\frac{1}{5}\\\\- \\frac{2}{5}\\\\1\\end{matrix}\\right]\\right]\\right), \\  \\left( 90, \\  1, \\  \\left[ \\left[\\begin{matrix}-2\\\\1\\\\0\\end{matrix}\\right]\\right]\\right), \\  \\left( 108, \\  1, \\  \\left[ \\left[\\begin{matrix}1\\\\2\\\\1\\end{matrix}\\right]\\right]\\right)\\right]$"
      ],
      "text/plain": [
       "⎡⎛      ⎡⎡-1/5⎤⎤⎞  ⎛       ⎡⎡-2⎤⎤⎞  ⎛        ⎡⎡1⎤⎤⎞⎤\n",
       "⎢⎜      ⎢⎢    ⎥⎥⎟  ⎜       ⎢⎢  ⎥⎥⎟  ⎜        ⎢⎢ ⎥⎥⎟⎥\n",
       "⎢⎜0, 1, ⎢⎢-2/5⎥⎥⎟, ⎜90, 1, ⎢⎢1 ⎥⎥⎟, ⎜108, 1, ⎢⎢2⎥⎥⎟⎥\n",
       "⎢⎜      ⎢⎢    ⎥⎥⎟  ⎜       ⎢⎢  ⎥⎥⎟  ⎜        ⎢⎢ ⎥⎥⎟⎥\n",
       "⎣⎝      ⎣⎣ 1  ⎦⎦⎠  ⎝       ⎣⎣0 ⎦⎦⎠  ⎝        ⎣⎣1⎦⎦⎠⎦"
      ]
     },
     "execution_count": 41,
     "metadata": {},
     "output_type": "execute_result"
    }
   ],
   "source": [
    "A = Matrix([[9,3,3],[-3,9,3]])\n",
    "AtA = A.T*A\n",
    "vecs = AtA.eigenvects()\n",
    "vecs"
   ]
  },
  {
   "attachments": {
    "image.png": {
     "image/png": "[encoded data removed]"
    }
   },
   "cell_type": "markdown",
   "id": "c8a1c638",
   "metadata": {},
   "source": [
    "![image.png](attachment:image.png)"
   ]
  },
  {
   "cell_type": "code",
   "execution_count": 48,
   "id": "ae0df69f",
   "metadata": {},
   "outputs": [
    {
     "data": {
      "text/latex": [
       "$\\displaystyle U \\Sigma V^T = \\left[\\begin{matrix}\\frac{\\sqrt{2}}{2} & - \\frac{\\sqrt{2}}{2}\\\\\\frac{\\sqrt{2}}{2} & \\frac{\\sqrt{2}}{2}\\end{matrix}\\right]\\left[\\begin{matrix}6 \\sqrt{3} & 0 & 0\\\\0 & 3 \\sqrt{10} & 0\\end{matrix}\\right]\\left[\\begin{matrix}\\frac{\\sqrt{6}}{6} & \\frac{\\sqrt{6}}{3} & \\frac{\\sqrt{6}}{6}\\\\- \\frac{2 \\sqrt{5}}{5} & \\frac{\\sqrt{5}}{5} & 0\\\\- \\frac{\\sqrt{30}}{30} & - \\frac{\\sqrt{30}}{15} & \\frac{\\sqrt{30}}{6}\\end{matrix}\\right]$"
      ],
      "text/plain": [
       "<IPython.core.display.Math object>"
      ]
     },
     "metadata": {},
     "output_type": "display_data"
    },
    {
     "data": {
      "text/latex": [
       "Test:"
      ],
      "text/plain": [
       "<IPython.core.display.Latex object>"
      ]
     },
     "metadata": {},
     "output_type": "display_data"
    },
    {
     "data": {
      "text/latex": [
       "$\\displaystyle \\left[\\begin{matrix}9 & 3 & 3\\\\-3 & 9 & 3\\end{matrix}\\right]$"
      ],
      "text/plain": [
       "⎡9   3  3⎤\n",
       "⎢        ⎥\n",
       "⎣-3  9  3⎦"
      ]
     },
     "metadata": {},
     "output_type": "display_data"
    },
    {
     "data": {
      "text/latex": [
       "$\\displaystyle V = \\left[\\begin{matrix}\\frac{\\sqrt{6}}{6} & - \\frac{2 \\sqrt{5}}{5} & - \\frac{\\sqrt{30}}{30}\\\\\\frac{\\sqrt{6}}{3} & \\frac{\\sqrt{5}}{5} & - \\frac{\\sqrt{30}}{15}\\\\\\frac{\\sqrt{6}}{6} & 0 & \\frac{\\sqrt{30}}{6}\\end{matrix}\\right]$"
      ],
      "text/plain": [
       "<IPython.core.display.Math object>"
      ]
     },
     "metadata": {},
     "output_type": "display_data"
    }
   ],
   "source": [
    "# a)\n",
    "s1 = sqrt(vecs[2][0])\n",
    "s2 = sqrt(vecs[1][0])\n",
    "\n",
    "v1 = vecs[2][2][0].normalized()\n",
    "v2 = vecs[1][2][0].normalized()\n",
    "v3 = vecs[0][2][0].normalized()\n",
    "\n",
    "u1 = (s1**-1)*A*v1\n",
    "u2 = (s2**-1)*A*v2\n",
    "\n",
    "U = u1.row_join(u2)\n",
    "V = v1.row_join(v2).row_join(v3)\n",
    "Vt = V.T\n",
    "S = diag(s1, s2).row_join(zeros(2,1))\n",
    "\n",
    "#UΣVt = A\n",
    "display(Math('U \\Sigma V^T = {}{}{}'.format(latex(U), latex(S), latex(Vt))))\n",
    "display(Latex(\"Test:\"))\n",
    "display(U*S*Vt)\n",
    "display(Math(r'V = {}'.format(latex(V))))"
   ]
  },
  {
   "cell_type": "code",
   "execution_count": 49,
   "id": "f9d939ee",
   "metadata": {},
   "outputs": [
    {
     "data": {
      "text/latex": [
       "$\\displaystyle AA^T \\cdot u_1 = \\lambda_1 u_1$"
      ],
      "text/plain": [
       "<IPython.core.display.Math object>"
      ]
     },
     "metadata": {},
     "output_type": "display_data"
    },
    {
     "data": {
      "text/latex": [
       "$\\displaystyle AA^T \\cdot u_2 = \\lambda_2 u_2$"
      ],
      "text/plain": [
       "<IPython.core.display.Math object>"
      ]
     },
     "metadata": {},
     "output_type": "display_data"
    }
   ],
   "source": [
    "# b)\n",
    "# If the columns of U are eigenvectors of AAt, the following must be the case\n",
    "display(Math('AA^T \\cdot u_1 = \\lambda_1 u_1'))\n",
    "display(Math('AA^T \\cdot u_2 = \\lambda_2 u_2'))"
   ]
  },
  {
   "cell_type": "code",
   "execution_count": 51,
   "id": "05a4a217",
   "metadata": {},
   "outputs": [
    {
     "ename": "ShapeError",
     "evalue": "Matrix size mismatch: (3, 3) * (2, 1).",
     "output_type": "error",
     "traceback": [
      "\u001b[1;31m---------------------------------------------------------------------------\u001b[0m",
      "\u001b[1;31mShapeError\u001b[0m                                Traceback (most recent call last)",
      "Cell \u001b[1;32mIn[51], line 1\u001b[0m\n\u001b[1;32m----> 1\u001b[0m display(Math(\u001b[39mr\u001b[39m\u001b[39m'\u001b[39m\u001b[39mAA^T \u001b[39m\u001b[39m\\\u001b[39m\u001b[39mcdot u_1 =\u001b[39m\u001b[39m'\u001b[39m \u001b[39m+\u001b[39m latex(AtA) \u001b[39m+\u001b[39m latex(u1) \u001b[39m+\u001b[39m \u001b[39m'\u001b[39m\u001b[39m=\u001b[39m\u001b[39m'\u001b[39m \u001b[39m+\u001b[39m latex(AtA\u001b[39m*\u001b[39;49mu1)))\n\u001b[0;32m      2\u001b[0m display(Math(\u001b[39mr\u001b[39m\u001b[39m'\u001b[39m\u001b[39mAA^T \u001b[39m\u001b[39m\\\u001b[39m\u001b[39mcdot u_2 =\u001b[39m\u001b[39m'\u001b[39m \u001b[39m+\u001b[39m latex(AtA) \u001b[39m+\u001b[39m latex(u2) \u001b[39m+\u001b[39m \u001b[39m'\u001b[39m\u001b[39m=\u001b[39m\u001b[39m'\u001b[39m \u001b[39m+\u001b[39m latex(AtA\u001b[39m*\u001b[39mu2)))\n\u001b[0;32m      3\u001b[0m display(Latex(\u001b[39m\"\u001b[39m\u001b[39mThat means\u001b[39m\u001b[39m\"\u001b[39m))\n",
      "File \u001b[1;32mc:\\Users\\Adi\\AppData\\Local\\Programs\\Python\\Python311\\Lib\\site-packages\\sympy\\core\\decorators.py:106\u001b[0m, in \u001b[0;36mcall_highest_priority.<locals>.priority_decorator.<locals>.binary_op_wrapper\u001b[1;34m(self, other)\u001b[0m\n\u001b[0;32m    104\u001b[0m         \u001b[39mif\u001b[39;00m f \u001b[39mis\u001b[39;00m \u001b[39mnot\u001b[39;00m \u001b[39mNone\u001b[39;00m:\n\u001b[0;32m    105\u001b[0m             \u001b[39mreturn\u001b[39;00m f(\u001b[39mself\u001b[39m)\n\u001b[1;32m--> 106\u001b[0m \u001b[39mreturn\u001b[39;00m func(\u001b[39mself\u001b[39;49m, other)\n",
      "File \u001b[1;32mc:\\Users\\Adi\\AppData\\Local\\Programs\\Python\\Python311\\Lib\\site-packages\\sympy\\matrices\\common.py:2702\u001b[0m, in \u001b[0;36mMatrixArithmetic.__mul__\u001b[1;34m(self, other)\u001b[0m\n\u001b[0;32m   2673\u001b[0m \u001b[39m@call_highest_priority\u001b[39m(\u001b[39m'\u001b[39m\u001b[39m__rmul__\u001b[39m\u001b[39m'\u001b[39m)\n\u001b[0;32m   2674\u001b[0m \u001b[39mdef\u001b[39;00m \u001b[39m__mul__\u001b[39m(\u001b[39mself\u001b[39m, other):\n\u001b[0;32m   2675\u001b[0m \u001b[39m    \u001b[39m\u001b[39m\"\"\"Return self*other where other is either a scalar or a matrix\u001b[39;00m\n\u001b[0;32m   2676\u001b[0m \u001b[39m    of compatible dimensions.\u001b[39;00m\n\u001b[0;32m   2677\u001b[0m \n\u001b[1;32m   (...)\u001b[0m\n\u001b[0;32m   2699\u001b[0m \u001b[39m    matrix_multiply_elementwise\u001b[39;00m\n\u001b[0;32m   2700\u001b[0m \u001b[39m    \"\"\"\u001b[39;00m\n\u001b[1;32m-> 2702\u001b[0m     \u001b[39mreturn\u001b[39;00m \u001b[39mself\u001b[39;49m\u001b[39m.\u001b[39;49mmultiply(other)\n",
      "File \u001b[1;32mc:\\Users\\Adi\\AppData\\Local\\Programs\\Python\\Python311\\Lib\\site-packages\\sympy\\matrices\\common.py:2724\u001b[0m, in \u001b[0;36mMatrixArithmetic.multiply\u001b[1;34m(self, other, dotprodsimp)\u001b[0m\n\u001b[0;32m   2720\u001b[0m \u001b[39mif\u001b[39;00m (\u001b[39mhasattr\u001b[39m(other, \u001b[39m'\u001b[39m\u001b[39mshape\u001b[39m\u001b[39m'\u001b[39m) \u001b[39mand\u001b[39;00m \u001b[39mlen\u001b[39m(other\u001b[39m.\u001b[39mshape) \u001b[39m==\u001b[39m \u001b[39m2\u001b[39m \u001b[39mand\u001b[39;00m\n\u001b[0;32m   2721\u001b[0m     (\u001b[39mgetattr\u001b[39m(other, \u001b[39m'\u001b[39m\u001b[39mis_Matrix\u001b[39m\u001b[39m'\u001b[39m, \u001b[39mTrue\u001b[39;00m) \u001b[39mor\u001b[39;00m\n\u001b[0;32m   2722\u001b[0m      \u001b[39mgetattr\u001b[39m(other, \u001b[39m'\u001b[39m\u001b[39mis_MatrixLike\u001b[39m\u001b[39m'\u001b[39m, \u001b[39mTrue\u001b[39;00m))):\n\u001b[0;32m   2723\u001b[0m     \u001b[39mif\u001b[39;00m \u001b[39mself\u001b[39m\u001b[39m.\u001b[39mshape[\u001b[39m1\u001b[39m] \u001b[39m!=\u001b[39m other\u001b[39m.\u001b[39mshape[\u001b[39m0\u001b[39m]:\n\u001b[1;32m-> 2724\u001b[0m         \u001b[39mraise\u001b[39;00m ShapeError(\u001b[39m\"\u001b[39m\u001b[39mMatrix size mismatch: \u001b[39m\u001b[39m%s\u001b[39;00m\u001b[39m * \u001b[39m\u001b[39m%s\u001b[39;00m\u001b[39m.\u001b[39m\u001b[39m\"\u001b[39m \u001b[39m%\u001b[39m (\n\u001b[0;32m   2725\u001b[0m             \u001b[39mself\u001b[39m\u001b[39m.\u001b[39mshape, other\u001b[39m.\u001b[39mshape))\n\u001b[0;32m   2727\u001b[0m \u001b[39m# honest SymPy matrices defer to their class's routine\u001b[39;00m\n\u001b[0;32m   2728\u001b[0m \u001b[39mif\u001b[39;00m \u001b[39mgetattr\u001b[39m(other, \u001b[39m'\u001b[39m\u001b[39mis_Matrix\u001b[39m\u001b[39m'\u001b[39m, \u001b[39mFalse\u001b[39;00m):\n",
      "\u001b[1;31mShapeError\u001b[0m: Matrix size mismatch: (3, 3) * (2, 1)."
     ]
    }
   ],
   "source": [
    "display(Math(r'AA^T \\cdot u_1 =' + latex(AtA) + latex(u1) + '=' + latex(AtA*u1)))\n",
    "display(Math(r'AA^T \\cdot u_2 =' + latex(AtA) + latex(u2) + '=' + latex(AtA*u2)))\n",
    "display(Latex(\"That means\"))\n",
    "display(Math(r'AA^T \\cdot u_1 =' + latex(108) + latex(u1)))\n",
    "display(Math(r'AA^T \\cdot u_2 =' + latex(90) + latex(u2)))\n",
    "display(Latex(\"And we get\"))\n",
    "display(Math('\\lambda_1 =' + latex(108)))\n",
    "display(Math('\\lambda_2 =' + latex(90)))"
   ]
  },
  {
   "cell_type": "code",
   "execution_count": 6,
   "id": "143572fe",
   "metadata": {},
   "outputs": [
    {
     "data": {
      "text/latex": [
       "$\\displaystyle \\left[\\begin{matrix}1\\\\2\\\\3\\end{matrix}\\right]$"
      ],
      "text/plain": [
       "⎡1⎤\n",
       "⎢ ⎥\n",
       "⎢2⎥\n",
       "⎢ ⎥\n",
       "⎣3⎦"
      ]
     },
     "execution_count": 6,
     "metadata": {},
     "output_type": "execute_result"
    }
   ],
   "source": [
    "A = Matrix([[1,-1,2],\n",
    "            [-1,2,1],\n",
    "            [1,-1,1]])\n",
    "\n",
    "(A**-1)*Matrix([[5],[6],[2]])"
   ]
  }
 ],
 "metadata": {
  "kernelspec": {
   "display_name": "Python 3",
   "language": "python",
   "name": "python3"
  },
  "language_info": {
   "codemirror_mode": {
    "name": "ipython",
    "version": 3
   },
   "file_extension": ".py",
   "mimetype": "text/x-python",
   "name": "python",
   "nbconvert_exporter": "python",
   "pygments_lexer": "ipython3",
   "version": "3.11.4"
  }
 },
 "nbformat": 4,
 "nbformat_minor": 5
}
