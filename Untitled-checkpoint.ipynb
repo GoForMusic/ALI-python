{
 "cells": [
  {
   "cell_type": "code",
   "execution_count": 2,
   "id": "eaf7aa8b",
   "metadata": {},
   "outputs": [],
   "source": [
    "import sympy as sp\n",
    "from sympy import *\n",
    "init_printing()\n"
   ]
  },
  {
   "cell_type": "markdown",
   "id": "a1dfc4dd",
   "metadata": {},
   "source": [
    "2 matrix multyply"
   ]
  },
  {
   "cell_type": "code",
   "execution_count": 22,
   "id": "b9b998b9",
   "metadata": {},
   "outputs": [
    {
     "data": {
      "text/latex": [
       "$\\displaystyle \\left[\\begin{matrix}0\\\\0\\\\0\\end{matrix}\\right]$"
      ],
      "text/plain": [
       "⎡0⎤\n",
       "⎢ ⎥\n",
       "⎢0⎥\n",
       "⎢ ⎥\n",
       "⎣0⎦"
      ]
     },
     "execution_count": 22,
     "metadata": {},
     "output_type": "execute_result"
    }
   ],
   "source": [
    "A = Matrix([\n",
    "      [2, 6, 4]\n",
    "    , [-3, 2, 5]\n",
    "    , [-5, -4, 1]\n",
    "])\n",
    "\n",
    "B = Matrix([\n",
    "    [1]\n",
    "    ,[-1]\n",
    "    ,[1]\n",
    "])\n",
    "\n",
    "A*B"
   ]
  },
  {
   "cell_type": "markdown",
   "id": "81200e2c",
   "metadata": {},
   "source": [
    "RREF"
   ]
  },
  {
   "cell_type": "code",
   "execution_count": 23,
   "id": "ff6d9720",
   "metadata": {},
   "outputs": [
    {
     "data": {
      "text/latex": [
       "$\\displaystyle \\left( \\left[\\begin{matrix}1 & 0 & -2 & 4\\\\0 & 1 & 3 & -2\\end{matrix}\\right], \\  \\left( 0, \\  1\\right)\\right)$"
      ],
      "text/plain": [
       "⎛⎡1  0  -2  4 ⎤        ⎞\n",
       "⎜⎢            ⎥, (0, 1)⎟\n",
       "⎝⎣0  1  3   -2⎦        ⎠"
      ]
     },
     "execution_count": 23,
     "metadata": {},
     "output_type": "execute_result"
    }
   ],
   "source": [
    "A = Matrix([\n",
    "    [1,2,4,0]\n",
    "    ,[0,1,3,-2]\n",
    "])\n",
    "\n",
    "A.rref()"
   ]
  },
  {
   "cell_type": "markdown",
   "id": "cc1af73a",
   "metadata": {},
   "source": [
    "Generate Ax=0 and see Null A"
   ]
  },
  {
   "cell_type": "code",
   "execution_count": 24,
   "id": "91dc0aae",
   "metadata": {},
   "outputs": [
    {
     "data": {
      "text/latex": [
       "$\\displaystyle \\left[ \\left[\\begin{matrix}2\\\\-3\\\\1\\\\0\\end{matrix}\\right], \\  \\left[\\begin{matrix}-4\\\\2\\\\0\\\\1\\end{matrix}\\right]\\right]$"
      ],
      "text/plain": [
       "⎡⎡2 ⎤  ⎡-4⎤⎤\n",
       "⎢⎢  ⎥  ⎢  ⎥⎥\n",
       "⎢⎢-3⎥  ⎢2 ⎥⎥\n",
       "⎢⎢  ⎥, ⎢  ⎥⎥\n",
       "⎢⎢1 ⎥  ⎢0 ⎥⎥\n",
       "⎢⎢  ⎥  ⎢  ⎥⎥\n",
       "⎣⎣0 ⎦  ⎣1 ⎦⎦"
      ]
     },
     "execution_count": 24,
     "metadata": {},
     "output_type": "execute_result"
    }
   ],
   "source": [
    "A = Matrix([\n",
    "    [1,2,4,0]\n",
    "    ,[0,1,3,-2]\n",
    "])\n",
    "\n",
    "A.nullspace()"
   ]
  },
  {
   "cell_type": "code",
   "execution_count": 7,
   "id": "42d263d8",
   "metadata": {},
   "outputs": [
    {
     "data": {
      "text/latex": [
       "$\\displaystyle \\left( \\left[\\begin{matrix}1 & 0 & 2 & 4\\\\0 & 1 & -1 & -1\\\\0 & 0 & 0 & 0\\end{matrix}\\right], \\  \\left( 0, \\  1\\right)\\right)$"
      ],
      "text/plain": [
       "⎛⎡1  0  2   4 ⎤        ⎞\n",
       "⎜⎢            ⎥        ⎟\n",
       "⎜⎢0  1  -1  -1⎥, (0, 1)⎟\n",
       "⎜⎢            ⎥        ⎟\n",
       "⎝⎣0  0  0   0 ⎦        ⎠"
      ]
     },
     "execution_count": 7,
     "metadata": {},
     "output_type": "execute_result"
    }
   ],
   "source": [
    "A = Matrix([\n",
    "    [1,-1,3,5]\n",
    "    ,[-1,-3,1,-1]\n",
    "    ,[2,6,-2,2]\n",
    "])\n",
    "\n",
    "A.rref()"
   ]
  },
  {
   "cell_type": "markdown",
   "id": "d6ed8a62",
   "metadata": {},
   "source": [
    "https://www.emathhelp.net/en/calculators/linear-algebra/reduced-row-echelon-form-rref-calculator/?i=%5B%5B1%2C3%2C-4%2C-3%2C1%5D%2C%5B0%2C1%2C-3%2C1%2C0%5D%2C%5B0%2C0%2C0%2C0%2C0%5D%5D&reduced=on"
   ]
  },
  {
   "cell_type": "code",
   "execution_count": 6,
   "id": "ad01a674",
   "metadata": {},
   "outputs": [
    {
     "data": {
      "text/latex": [
       "$\\displaystyle \\left[ \\left[\\begin{matrix}1 & -1 & 3 & 5\\end{matrix}\\right], \\  \\left[\\begin{matrix}0 & -4 & 4 & 4\\end{matrix}\\right]\\right]$"
      ],
      "text/plain": [
       "[[1  -1  3  5], [0  -4  4  4]]"
      ]
     },
     "execution_count": 6,
     "metadata": {},
     "output_type": "execute_result"
    }
   ],
   "source": [
    "A = Matrix([\n",
    "    [1,-1,3,5]\n",
    "    ,[-1,-3,1,-1]\n",
    "    ,[2,6,-2,2]\n",
    "])\n",
    "\n",
    "#A.nullspace()\n",
    "#A.columnspace()\n",
    "A.rowspace()"
   ]
  },
  {
   "cell_type": "code",
   "execution_count": 31,
   "id": "61314a47",
   "metadata": {},
   "outputs": [
    {
     "data": {
      "text/latex": [
       "$\\displaystyle \\left( \\left[\\begin{matrix}1 & 0 & 0 & -1 & 0\\\\0 & 1 & 0 & 2 & 0\\\\0 & 0 & 1 & -1 & 0\\\\0 & 0 & 0 & 0 & 1\\\\0 & 0 & 0 & 0 & 0\\end{matrix}\\right], \\  \\left( 0, \\  1, \\  2, \\  4\\right)\\right)$"
      ],
      "text/plain": [
       "⎛⎡1  0  0  -1  0⎤              ⎞\n",
       "⎜⎢              ⎥              ⎟\n",
       "⎜⎢0  1  0  2   0⎥              ⎟\n",
       "⎜⎢              ⎥              ⎟\n",
       "⎜⎢0  0  1  -1  0⎥, (0, 1, 2, 4)⎟\n",
       "⎜⎢              ⎥              ⎟\n",
       "⎜⎢0  0  0  0   1⎥              ⎟\n",
       "⎜⎢              ⎥              ⎟\n",
       "⎝⎣0  0  0  0   0⎦              ⎠"
      ]
     },
     "execution_count": 31,
     "metadata": {},
     "output_type": "execute_result"
    }
   ],
   "source": [
    "A = Matrix([\n",
    "    [2,4,-2,8,-8]\n",
    "    ,[0,0,-4,4,4]\n",
    "    ,[-4,2,0,8,0]\n",
    "    ,[-6,-4,1,-3,0]\n",
    "    ,[0,4,-7,15,1]\n",
    "])\n",
    "\n",
    "A.rref()"
   ]
  }
 ],
 "metadata": {
  "kernelspec": {
   "display_name": "Python 3",
   "language": "python",
   "name": "python3"
  },
  "language_info": {
   "codemirror_mode": {
    "name": "ipython",
    "version": 3
   },
   "file_extension": ".py",
   "mimetype": "text/x-python",
   "name": "python",
   "nbconvert_exporter": "python",
   "pygments_lexer": "ipython3",
   "version": "3.11.4"
  }
 },
 "nbformat": 4,
 "nbformat_minor": 5
}
