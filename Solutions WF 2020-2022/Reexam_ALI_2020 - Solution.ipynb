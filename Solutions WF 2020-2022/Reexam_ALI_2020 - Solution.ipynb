{
 "cells": [
  {
   "cell_type": "code",
   "execution_count": 2,
   "metadata": {},
   "outputs": [],
   "source": [
    "import sympy as sp\n",
    "from scipy import *\n",
    "from sympy import *\n",
    "init_printing()\n",
    "from IPython.display import display, Latex, HTML, Math\n",
    "import numpy as np\n",
    "import pandas as pd\n",
    "from sympy import Rational as R"
   ]
  },
  {
   "cell_type": "markdown",
   "metadata": {},
   "source": [
    "# Assignment 1"
   ]
  },
  {
   "cell_type": "code",
   "execution_count": null,
   "metadata": {},
   "outputs": [],
   "source": [
    "# a) FTFF"
   ]
  },
  {
   "cell_type": "code",
   "execution_count": 3,
   "metadata": {},
   "outputs": [
    {
     "data": {
      "image/png": "[encoded data removed]",
      "text/latex": [
       "$\\displaystyle \\left[ 2\\right]$"
      ],
      "text/plain": [
       "[2]"
      ]
     },
     "execution_count": 3,
     "metadata": {},
     "output_type": "execute_result"
    }
   ],
   "source": [
    "# b) Must be 0"
   ]
  },
  {
   "cell_type": "code",
   "execution_count": 4,
   "metadata": {},
   "outputs": [
    {
     "data": {
      "image/png": "[encoded data removed]",
      "text/latex": [
       "$\\displaystyle \\left( 2, \\  \\sqrt{2} + 2, \\  2 - \\sqrt{2}\\right)$"
      ],
      "text/plain": [
       "(2, √2 + 2, 2 - √2)"
      ]
     },
     "execution_count": 4,
     "metadata": {},
     "output_type": "execute_result"
    }
   ],
   "source": [
    "# c) Echelon form so eigenvalues are on diagonal. Determinant is product of diagonal in echelon form so -3"
   ]
  },
  {
   "cell_type": "code",
   "execution_count": null,
   "metadata": {},
   "outputs": [],
   "source": [
    "# d) Swap a and d and change signs on b and c"
   ]
  },
  {
   "cell_type": "markdown",
   "metadata": {},
   "source": [
    "# Assignment 2"
   ]
  },
  {
   "cell_type": "code",
   "execution_count": 3,
   "metadata": {},
   "outputs": [
    {
     "data": {
      "image/png": "[encoded data removed]",
      "text/latex": [
       "$\\displaystyle 1$"
      ],
      "text/plain": [
       "1"
      ]
     },
     "execution_count": 3,
     "metadata": {},
     "output_type": "execute_result"
    }
   ],
   "source": [
    "# a)\n",
    "A = Matrix([[1,1,0],[0,1,1],[0,0,1]])\n",
    "B = Matrix([[2,0,0],[1,1,2],[2,0,1]])\n",
    "C = Matrix([[1,1,0],[0,1,0],[0,1,2]])\n",
    "\n",
    "X = C*(A - B)**-1\n",
    "X.det()"
   ]
  },
  {
   "cell_type": "code",
   "execution_count": 8,
   "metadata": {},
   "outputs": [],
   "source": [
    "# b)\n",
    "A = Matrix([[-1,2],[1,1]])\n",
    "B = Matrix([[1,2],[0,1]])\n",
    "C = Matrix([[2,2],[3,1]])"
   ]
  },
  {
   "cell_type": "code",
   "execution_count": 9,
   "metadata": {},
   "outputs": [],
   "source": [
    "BAC = B * A * C\n",
    "CAB = C * A*B"
   ]
  },
  {
   "cell_type": "code",
   "execution_count": 6,
   "metadata": {},
   "outputs": [],
   "source": [
    "# Try to Isolate Y\n",
    "# CY = BAC - AX and\n",
    "# -BY = CAB - CX\n",
    "\n",
    "# Get Y on its own:\n",
    "# Y = C**-1*BAC - C**-1 * AX and\n",
    "# - Y = B**-1*CAB -B**-1CX\n",
    "\n",
    "# Now, calculate all parts not involving X and Y"
   ]
  },
  {
   "cell_type": "code",
   "execution_count": 10,
   "metadata": {},
   "outputs": [],
   "source": [
    "# Simplify a bit by making up new matrices that are known\n",
    "Q = C**-1 * BAC\n",
    "P = B**-1 * CAB\n",
    "\n",
    "# Y = Q - C**-1 * AX og -Y = P - B**-1*CX"
   ]
  },
  {
   "cell_type": "code",
   "execution_count": null,
   "metadata": {},
   "outputs": [],
   "source": [
    "# Add the two equations in order to elimaínate Y:\n",
    "\n",
    "# Y + (-Y) = Q - C**-1 * AX + (P - B**-1*CX)\n",
    "\n",
    "# The left side becomes 0. Now move all parts containing X to the left:\n",
    "# C**-1 * AX + B**-1*CX = Q + P\n",
    "\n",
    "# Take X out of the parenthesis:\n",
    "# (C**-1 * A + B**-1*C)X = Q + P\n",
    "\n",
    "# Since the matrices inside the parenthesis do not invlove X,\n",
    "# you canb just calculate it, I assign it to R:\n"
   ]
  },
  {
   "cell_type": "code",
   "execution_count": 12,
   "metadata": {},
   "outputs": [],
   "source": [
    "R = C**-1 * A + B**-1 * C\n",
    "\n",
    "# and you get\n",
    "\n",
    "# Og du får så\n",
    "\n",
    "# RX = Q+P\n",
    "# X = R**-1(Q+P)"
   ]
  },
  {
   "cell_type": "code",
   "execution_count": 13,
   "metadata": {},
   "outputs": [
    {
     "data": {
      "image/png": "[encoded data removed]",
      "text/latex": [
       "$\\displaystyle \\left[\\begin{matrix}- \\frac{12}{13} & 0\\\\\\frac{99}{26} & 3\\end{matrix}\\right]$"
      ],
      "text/plain": [
       "⎡-12    ⎤\n",
       "⎢────  0⎥\n",
       "⎢ 13    ⎥\n",
       "⎢       ⎥\n",
       "⎢ 99    ⎥\n",
       "⎢ ──   3⎥\n",
       "⎣ 26    ⎦"
      ]
     },
     "execution_count": 13,
     "metadata": {},
     "output_type": "execute_result"
    }
   ],
   "source": [
    "X = R**-1*(Q+P)\n",
    "X"
   ]
  },
  {
   "cell_type": "code",
   "execution_count": 14,
   "metadata": {},
   "outputs": [
    {
     "data": {
      "image/png": "[encoded data removed]",
      "text/latex": [
       "$\\displaystyle - \\frac{36}{13}$"
      ],
      "text/plain": [
       "-36 \n",
       "────\n",
       " 13 "
      ]
     },
     "execution_count": 14,
     "metadata": {},
     "output_type": "execute_result"
    }
   ],
   "source": [
    "det(X)"
   ]
  },
  {
   "cell_type": "code",
   "execution_count": 15,
   "metadata": {},
   "outputs": [
    {
     "data": {
      "image/png": "[encoded data removed]",
      "text/latex": [
       "$\\displaystyle \\left[\\begin{matrix}- \\frac{4}{13} & 0\\\\\\frac{79}{26} & 0\\end{matrix}\\right]$"
      ],
      "text/plain": [
       "⎡-4/13  0⎤\n",
       "⎢        ⎥\n",
       "⎢ 79     ⎥\n",
       "⎢ ──    0⎥\n",
       "⎣ 26     ⎦"
      ]
     },
     "execution_count": 15,
     "metadata": {},
     "output_type": "execute_result"
    }
   ],
   "source": [
    "# Use X to find Y in one of the expressions above\n",
    "Y = Q-C**-1 *A*X\n",
    "Y\n",
    "# We see it is 0"
   ]
  },
  {
   "cell_type": "code",
   "execution_count": 16,
   "metadata": {},
   "outputs": [
    {
     "data": {
      "image/png": "[encoded data removed]",
      "text/latex": [
       "$\\displaystyle 0$"
      ],
      "text/plain": [
       "0"
      ]
     },
     "execution_count": 16,
     "metadata": {},
     "output_type": "execute_result"
    }
   ],
   "source": [
    "det(Y)"
   ]
  },
  {
   "cell_type": "markdown",
   "metadata": {},
   "source": [
    "# Assignment 3"
   ]
  },
  {
   "cell_type": "code",
   "execution_count": 17,
   "metadata": {},
   "outputs": [
    {
     "data": {
      "image/png": "[encoded data removed]",
      "text/latex": [
       "$\\displaystyle a^{3} - 3 a + 2$"
      ],
      "text/plain": [
       " 3          \n",
       "a  - 3⋅a + 2"
      ]
     },
     "execution_count": 17,
     "metadata": {},
     "output_type": "execute_result"
    }
   ],
   "source": [
    "# a)\n",
    "a = symbols('a')\n",
    "A = Matrix([[a,1,1],[1,a,1],[1,1,a]])\n",
    "(A.cofactor(0,0)*A[0,0]+A.cofactor(0,1)*A[0,1]+A.cofactor(0,2)*A[0,2]).expand()"
   ]
  },
  {
   "cell_type": "code",
   "execution_count": 18,
   "metadata": {},
   "outputs": [
    {
     "data": {
      "image/png": "[encoded data removed]",
      "text/latex": [
       "$\\displaystyle \\left[ -2, \\  1\\right]$"
      ],
      "text/plain": [
       "[-2, 1]"
      ]
     },
     "execution_count": 18,
     "metadata": {},
     "output_type": "execute_result"
    }
   ],
   "source": [
    "# b)\n",
    "solve(A.det(), a)"
   ]
  },
  {
   "cell_type": "code",
   "execution_count": 20,
   "metadata": {},
   "outputs": [
    {
     "data": {
      "image/png": "[encoded data removed]",
      "text/latex": [
       "$\\displaystyle \\left[\\begin{matrix}1 & 0 & 0 & \\frac{3}{4} & - \\frac{1}{4} & - \\frac{1}{4}\\\\0 & 1 & 0 & - \\frac{1}{4} & \\frac{3}{4} & - \\frac{1}{4}\\\\0 & 0 & 1 & - \\frac{1}{4} & - \\frac{1}{4} & \\frac{3}{4}\\end{matrix}\\right]$"
      ],
      "text/plain": [
       "⎡1  0  0  3/4   -1/4  -1/4⎤\n",
       "⎢                         ⎥\n",
       "⎢0  1  0  -1/4  3/4   -1/4⎥\n",
       "⎢                         ⎥\n",
       "⎣0  0  1  -1/4  -1/4  3/4 ⎦"
      ]
     },
     "execution_count": 20,
     "metadata": {},
     "output_type": "execute_result"
    }
   ],
   "source": [
    "# c)\n",
    "A = Matrix([[2,1,1],[1,2,1],[1,1,2]])\n",
    "B = A.row_join(eye(3))\n",
    "B[2,:] = B[2,:]-B[1,:] # r3 -r2\n",
    "B[1,:] = B[1,:]-Rational(1,2) * B[0,:] # r2 - 1/2r1\n",
    "B[1,:] = Rational(2,3)*B[1,:] # r2 -> 2/3 r2\n",
    "B[2,:] = B[2,:] + B[1,:] # r3 + r2\n",
    "B[1,:] = B[1,:] - Rational(1,4) * B[2,:] # r2 - 1/4 r3\n",
    "B[2,:] = Rational(3,4)*B[2,:] # 3/4 r3\n",
    "B[0,:] = B[0,:] - B[2,:] # r1 -r3\n",
    "B[0,:] = B[0,:] - B[1,:] # r1 - r2\n",
    "B[0,:] = Rational(1,2)*B[0,:] # 1/2 r1\n",
    "B"
   ]
  },
  {
   "cell_type": "code",
   "execution_count": 22,
   "metadata": {},
   "outputs": [
    {
     "data": {
      "image/png": "[encoded data removed]",
      "text/latex": [
       "$\\displaystyle \\left[\\begin{matrix}-1\\\\1\\\\3\\end{matrix}\\right]$"
      ],
      "text/plain": [
       "⎡-1⎤\n",
       "⎢  ⎥\n",
       "⎢1 ⎥\n",
       "⎢  ⎥\n",
       "⎣3 ⎦"
      ]
     },
     "execution_count": 22,
     "metadata": {},
     "output_type": "execute_result"
    }
   ],
   "source": [
    "# d)\n",
    "B[:, 3:]*Matrix([2,4,6])"
   ]
  },
  {
   "cell_type": "markdown",
   "metadata": {},
   "source": [
    "# Assignment 4"
   ]
  },
  {
   "cell_type": "code",
   "execution_count": 29,
   "metadata": {},
   "outputs": [
    {
     "data": {
      "image/png": "[encoded data removed]",
      "text/latex": [
       "$\\displaystyle \\left( \\left[\\begin{matrix}0\\\\1\\\\0\\\\0\\end{matrix}\\right], \\  \\left[\\begin{matrix}\\frac{\\sqrt{5}}{5}\\\\0\\\\\\frac{2 \\sqrt{5}}{5}\\\\0\\end{matrix}\\right], \\  \\left[\\begin{matrix}- \\frac{\\sqrt{30}}{15}\\\\0\\\\\\frac{\\sqrt{30}}{30}\\\\\\frac{\\sqrt{30}}{6}\\end{matrix}\\right]\\right)$"
      ],
      "text/plain": [
       "⎛             ⎡-√30 ⎤⎞\n",
       "⎜     ⎡ √5 ⎤  ⎢─────⎥⎟\n",
       "⎜     ⎢ ── ⎥  ⎢  15 ⎥⎟\n",
       "⎜⎡0⎤  ⎢ 5  ⎥  ⎢     ⎥⎟\n",
       "⎜⎢ ⎥  ⎢    ⎥  ⎢  0  ⎥⎟\n",
       "⎜⎢1⎥  ⎢ 0  ⎥  ⎢     ⎥⎟\n",
       "⎜⎢ ⎥, ⎢    ⎥, ⎢ √30 ⎥⎟\n",
       "⎜⎢0⎥  ⎢2⋅√5⎥  ⎢ ─── ⎥⎟\n",
       "⎜⎢ ⎥  ⎢────⎥  ⎢  30 ⎥⎟\n",
       "⎜⎣0⎦  ⎢ 5  ⎥  ⎢     ⎥⎟\n",
       "⎜     ⎢    ⎥  ⎢ √30 ⎥⎟\n",
       "⎜     ⎣ 0  ⎦  ⎢ ─── ⎥⎟\n",
       "⎝             ⎣  6  ⎦⎠"
      ]
     },
     "execution_count": 29,
     "metadata": {},
     "output_type": "execute_result"
    }
   ],
   "source": [
    "# a)\n",
    "\n",
    "u1 = GramSchmidt([Matrix([2, 0, -1, 1]).T.nullspace()[0],\n",
    "             Matrix([2, 0, -1, 1]).T.nullspace()[1],\n",
    "             Matrix([2, 0, -1, 1]).T.nullspace()[2]],\n",
    "            True)[0]\n",
    "u2 = GramSchmidt([Matrix([2, 0, -1, 1]).T.nullspace()[0],\n",
    "             Matrix([2, 0, -1, 1]).T.nullspace()[1],\n",
    "             Matrix([2, 0, -1, 1]).T.nullspace()[2]],\n",
    "            True)[1]\n",
    "u3 = GramSchmidt([Matrix([2, 0, -1, 1]).T.nullspace()[0],\n",
    "             Matrix([2, 0, -1, 1]).T.nullspace()[1],\n",
    "             Matrix([2, 0, -1, 1]).T.nullspace()[2]],\n",
    "            True)[2]\n",
    "u1, u2, u3"
   ]
  },
  {
   "cell_type": "code",
   "execution_count": 34,
   "metadata": {},
   "outputs": [
    {
     "data": {
      "image/png": "[encoded data removed]",
      "text/latex": [
       "$\\displaystyle \\left[\\begin{matrix}\\frac{\\sqrt{6}}{3}\\\\0\\\\- \\frac{\\sqrt{6}}{6}\\\\\\frac{\\sqrt{6}}{6}\\end{matrix}\\right]$"
      ],
      "text/plain": [
       "⎡ √6 ⎤\n",
       "⎢ ── ⎥\n",
       "⎢ 3  ⎥\n",
       "⎢    ⎥\n",
       "⎢ 0  ⎥\n",
       "⎢    ⎥\n",
       "⎢-√6 ⎥\n",
       "⎢────⎥\n",
       "⎢ 6  ⎥\n",
       "⎢    ⎥\n",
       "⎢ √6 ⎥\n",
       "⎢ ── ⎥\n",
       "⎣ 6  ⎦"
      ]
     },
     "execution_count": 34,
     "metadata": {},
     "output_type": "execute_result"
    }
   ],
   "source": [
    "# b)\n",
    "u4 = u1.row_join(u2).row_join(u3).T.nullspace()[0].normalized()\n",
    "u4"
   ]
  },
  {
   "cell_type": "markdown",
   "metadata": {},
   "source": [
    "# Assignment 5"
   ]
  },
  {
   "cell_type": "code",
   "execution_count": 40,
   "metadata": {},
   "outputs": [
    {
     "data": {
      "image/png": "[encoded data removed]",
      "text/latex": [
       "$\\displaystyle \\left[\\begin{matrix}10\\\\11\\end{matrix}\\right]$"
      ],
      "text/plain": [
       "⎡10⎤\n",
       "⎢  ⎥\n",
       "⎣11⎦"
      ]
     },
     "execution_count": 40,
     "metadata": {},
     "output_type": "execute_result"
    }
   ],
   "source": [
    "# a)\n",
    "v1 = Matrix([1,1])\n",
    "v2 = Matrix([2,3])\n",
    "v = Matrix([3,4])\n",
    "\n",
    "P = Matrix.hstack(v1,v2)\n",
    "D = diag(2,1)\n",
    "(P*D*P**-1)**3 * v"
   ]
  },
  {
   "cell_type": "code",
   "execution_count": 41,
   "metadata": {},
   "outputs": [
    {
     "data": {
      "image/png": "[encoded data removed]",
      "text/latex": [
       "$\\displaystyle \\left[\\begin{matrix}2 & -1 & -1 & 0\\\\-1 & 3 & -1 & -1\\\\-1 & -1 & 3 & -1\\\\0 & -1 & -1 & 2\\end{matrix}\\right]$"
      ],
      "text/plain": [
       "⎡2   -1  -1  0 ⎤\n",
       "⎢              ⎥\n",
       "⎢-1  3   -1  -1⎥\n",
       "⎢              ⎥\n",
       "⎢-1  -1  3   -1⎥\n",
       "⎢              ⎥\n",
       "⎣0   -1  -1  2 ⎦"
      ]
     },
     "execution_count": 41,
     "metadata": {},
     "output_type": "execute_result"
    }
   ],
   "source": [
    "# b)\n",
    "p1 = Matrix([1,1,1,1])\n",
    "p2 = Matrix([-1,0,0,1])\n",
    "p3 = Matrix([0,-1,1,0])\n",
    "p4 = Matrix([1,-2,0,1])\n",
    "P = p1.row_join(p2).row_join(p3).row_join(p4)\n",
    "D = diag(0,2,4,4)\n",
    "P*D*P**-1"
   ]
  },
  {
   "cell_type": "code",
   "execution_count": 42,
   "metadata": {},
   "outputs": [
    {
     "data": {
      "image/png": "[encoded data removed]",
      "text/latex": [
       "$\\displaystyle \\left[\\begin{matrix}- \\frac{\\sqrt{2}}{6}\\\\- \\frac{2 \\sqrt{2}}{3}\\\\\\frac{\\sqrt{2}}{6}\\end{matrix}\\right]$"
      ],
      "text/plain": [
       "⎡ -√2  ⎤\n",
       "⎢ ──── ⎥\n",
       "⎢  6   ⎥\n",
       "⎢      ⎥\n",
       "⎢-2⋅√2 ⎥\n",
       "⎢──────⎥\n",
       "⎢  3   ⎥\n",
       "⎢      ⎥\n",
       "⎢  √2  ⎥\n",
       "⎢  ──  ⎥\n",
       "⎣  6   ⎦"
      ]
     },
     "execution_count": 42,
     "metadata": {},
     "output_type": "execute_result"
    }
   ],
   "source": [
    "# c)\n",
    "v1 = Matrix([Rational(2,3), Rational(-1,3), Rational(-2,3)])\n",
    "v2 = Matrix([-sqrt(2)/2,  0, -sqrt(2)/2])\n",
    "v1.row_join(v2).T.nullspace()[0].normalized()"
   ]
  },
  {
   "cell_type": "markdown",
   "metadata": {},
   "source": [
    "# Assignment 6"
   ]
  },
  {
   "cell_type": "code",
   "execution_count": 44,
   "metadata": {},
   "outputs": [
    {
     "data": {
      "text/latex": [
       "$\\displaystyle X_1 = \\left[\\begin{matrix}1 & 42875\\\\1 & 21952\\\\1 & 32768\\\\1 & 19683\\\\1 & 50653\\\\1 & 54872\\\\1 & 39304\\\\1 & 42875\\\\1 & 39304\\\\1 & 29791\\end{matrix}\\right]\\quad X_2 = \\left[\\begin{matrix}1 & 35 & 42875\\\\1 & 28 & 21952\\\\1 & 32 & 32768\\\\1 & 27 & 19683\\\\1 & 37 & 50653\\\\1 & 38 & 54872\\\\1 & 34 & 39304\\\\1 & 35 & 42875\\\\1 & 34 & 39304\\\\1 & 31 & 29791\\end{matrix}\\right]\\quad X_3 = \\left[\\begin{matrix}1 & 35\\\\1 & 28\\\\1 & 32\\\\1 & 27\\\\1 & 37\\\\1 & 38\\\\1 & 34\\\\1 & 35\\\\1 & 34\\\\1 & 31\\end{matrix}\\right]\\quad y = \\left[\\begin{matrix}21\\\\15\\\\16\\\\13\\\\25\\\\27\\\\21\\\\20\\\\21\\\\15\\end{matrix}\\right]$"
      ],
      "text/plain": [
       "<IPython.core.display.Math object>"
      ]
     },
     "metadata": {},
     "output_type": "display_data"
    }
   ],
   "source": [
    "# a)\n",
    "\n",
    "x = pd.DataFrame([\n",
    "    35,\n",
    "    28,\n",
    "    32,\n",
    "    27,\n",
    "    37,\n",
    "    38,\n",
    "    34,\n",
    "    35,\n",
    "    34,\n",
    "    31\n",
    "    \n",
    "])\n",
    "y = pd.DataFrame([\n",
    "    21,\n",
    "    15,\n",
    "    16,\n",
    "    13,\n",
    "    25,\n",
    "    27,\n",
    "    21,\n",
    "    20,\n",
    "    21,\n",
    "    15\n",
    "])\n",
    "\n",
    "X1 = Matrix([ones(len(x), 1)]).row_join(Matrix(x**3))\n",
    "X2 = Matrix([ones(len(x), 1)]).row_join(Matrix(x)).row_join(Matrix(x**3))\n",
    "X3 = Matrix([ones(len(x), 1)]).row_join(Matrix(x))\n",
    "\n",
    "display(Math(r'X_1 = ' + latex(X1) + r'\\quad X_2 = ' + latex(X2) + r'\\quad X_3 = ' + latex(X3) + r'\\quad y = '\n",
    "             + latex(Matrix(y))))"
   ]
  },
  {
   "cell_type": "code",
   "execution_count": 45,
   "metadata": {},
   "outputs": [],
   "source": [
    "X1tX1 = X1.T*X1\n",
    "X1ty = X1.T*Matrix(y)\n",
    "Mat, _ = X1tX1.row_join(X1ty).rref()\n",
    "B1 = Mat[:,-1]\n",
    "\n",
    "\n",
    "X2tX2 = X2.T*X2\n",
    "X2ty = X2.T*Matrix(y)\n",
    "Mat, _ = X2tX2.row_join(X2ty).rref()\n",
    "B2 = Mat[:,-1]\n",
    "\n",
    "\n",
    "X3tX3 = X3.T*X3\n",
    "X3ty = X3.T*Matrix(y)\n",
    "Mat, _ = X3tX3.row_join(X3ty).rref()\n",
    "B3 = Mat[:,-1]"
   ]
  },
  {
   "cell_type": "code",
   "execution_count": 46,
   "metadata": {},
   "outputs": [
    {
     "data": {
      "text/latex": [
       "$\\displaystyle X_1^TX_1 = \\left[\\begin{matrix}10 & 374077\\\\374077 & 15173359173\\end{matrix}\\right]$"
      ],
      "text/plain": [
       "<IPython.core.display.Math object>"
      ]
     },
     "metadata": {},
     "output_type": "display_data"
    },
    {
     "data": {
      "text/latex": [
       "$\\displaystyle X_1^Ty = \\left[\\begin{matrix}194\\\\7712824\\end{matrix}\\right]$"
      ],
      "text/plain": [
       "<IPython.core.display.Math object>"
      ]
     },
     "metadata": {},
     "output_type": "display_data"
    },
    {
     "data": {
      "text/latex": [
       "$\\displaystyle X_2^TX_2 = \\left[\\begin{matrix}10 & 331 & 374077\\\\331 & 11073 & 12751413\\\\374077 & 12751413 & 15173359173\\end{matrix}\\right]$"
      ],
      "text/plain": [
       "<IPython.core.display.Math object>"
      ]
     },
     "metadata": {},
     "output_type": "display_data"
    },
    {
     "data": {
      "text/latex": [
       "$\\displaystyle X_2^Ty = \\left[\\begin{matrix}194\\\\6562\\\\7712824\\end{matrix}\\right]$"
      ],
      "text/plain": [
       "<IPython.core.display.Math object>"
      ]
     },
     "metadata": {},
     "output_type": "display_data"
    },
    {
     "data": {
      "text/latex": [
       "$\\displaystyle X_3^TX_3 = \\left[\\begin{matrix}10 & 331\\\\331 & 11073\\end{matrix}\\right]$"
      ],
      "text/plain": [
       "<IPython.core.display.Math object>"
      ]
     },
     "metadata": {},
     "output_type": "display_data"
    },
    {
     "data": {
      "text/latex": [
       "$\\displaystyle X_3^Ty = \\left[\\begin{matrix}194\\\\6562\\end{matrix}\\right]$"
      ],
      "text/plain": [
       "<IPython.core.display.Math object>"
      ]
     },
     "metadata": {},
     "output_type": "display_data"
    }
   ],
   "source": [
    "display(Math(r'X_1^TX_1 = ' + latex(X1tX1)))\n",
    "display(Math(r'X_1^Ty = ' + latex(X1ty)))\n",
    "display(Math(r'X_2^TX_2 = ' + latex(X2tX2)))\n",
    "display(Math(r'X_2^Ty = ' + latex(X2ty)))\n",
    "display(Math(r'X_3^TX_3 = ' + latex(X3tX3)))\n",
    "display(Math(r'X_3^Ty = ' + latex(X3ty)))"
   ]
  },
  {
   "cell_type": "code",
   "execution_count": 47,
   "metadata": {},
   "outputs": [
    {
     "data": {
      "text/latex": [
       "$$y_1(t) = 4.95+0.0004t^3$$"
      ],
      "text/plain": [
       "<IPython.core.display.Latex object>"
      ]
     },
     "metadata": {},
     "output_type": "display_data"
    },
    {
     "data": {
      "text/latex": [
       "$$y_2(t) = 41.66-1.7164t+0.0009t^3$$"
      ],
      "text/plain": [
       "<IPython.core.display.Latex object>"
      ]
     },
     "metadata": {},
     "output_type": "display_data"
    },
    {
     "data": {
      "text/latex": [
       "$$y_3(t) = -20.41+1.2027t$$"
      ],
      "text/plain": [
       "<IPython.core.display.Latex object>"
      ]
     },
     "metadata": {},
     "output_type": "display_data"
    }
   ],
   "source": [
    "# b)\n",
    "display(Latex(\"$$y_1(t) = {}+{}t^3$$\".format(round(B1[0],2), round(B1[1], 4))))\n",
    "display(Latex(\"$$y_2(t) = {}{}t+{}t^3$$\".format(round(B2[0],2), round(B2[1], 4), round(B2[2], 4))))\n",
    "display(Latex(\"$$y_3(t) = {}+{}t$$\".format(round(B3[0],2), round(B3[1], 4))))"
   ]
  },
  {
   "cell_type": "code",
   "execution_count": 48,
   "metadata": {},
   "outputs": [
    {
     "data": {
      "text/latex": [
       "$$e_1 = 3.52$$"
      ],
      "text/plain": [
       "<IPython.core.display.Latex object>"
      ]
     },
     "metadata": {},
     "output_type": "display_data"
    },
    {
     "data": {
      "text/latex": [
       "$$e_2 = 2.97$$"
      ],
      "text/plain": [
       "<IPython.core.display.Latex object>"
      ]
     },
     "metadata": {},
     "output_type": "display_data"
    },
    {
     "data": {
      "text/latex": [
       "$$e_3 = 4.39$$"
      ],
      "text/plain": [
       "<IPython.core.display.Latex object>"
      ]
     },
     "metadata": {},
     "output_type": "display_data"
    }
   ],
   "source": [
    "# c)\n",
    "display(Latex(\"$$e_1 = {}$$\".format(round((Matrix(y)-X1*B1).norm(), 2))))\n",
    "display(Latex(\"$$e_2 = {}$$\".format(round((Matrix(y)-X2*B2).norm(), 2))))\n",
    "display(Latex(\"$$e_3 = {}$$\".format(round((Matrix(y)-X3*B3).norm(), 2))))"
   ]
  },
  {
   "cell_type": "code",
   "execution_count": 49,
   "metadata": {},
   "outputs": [
    {
     "data": {
      "text/latex": [
       "$$f_2(40) =32$$"
      ],
      "text/plain": [
       "<IPython.core.display.Latex object>"
      ]
     },
     "metadata": {},
     "output_type": "display_data"
    }
   ],
   "source": [
    "# d)\n",
    "display(Latex(\"$$f_2(40) ={}$$\".format(round(float(B2[0]+B2[1]*40 + B2[2]*40**3)))))"
   ]
  },
  {
   "cell_type": "markdown",
   "metadata": {},
   "source": [
    "# Assignment 7"
   ]
  },
  {
   "cell_type": "code",
   "execution_count": 50,
   "metadata": {},
   "outputs": [
    {
     "data": {
      "image/png": "[encoded data removed]",
      "text/latex": [
       "$\\displaystyle \\left[\\begin{matrix}2 & 0 & 0\\\\2 & 1 & 0\\\\0 & -2 & 0\\end{matrix}\\right]$"
      ],
      "text/plain": [
       "⎡2  0   0⎤\n",
       "⎢        ⎥\n",
       "⎢2  1   0⎥\n",
       "⎢        ⎥\n",
       "⎣0  -2  0⎦"
      ]
     },
     "metadata": {},
     "output_type": "display_data"
    },
    {
     "data": {
      "image/png": "[encoded data removed]",
      "text/latex": [
       "$\\displaystyle \\left[ \\left( 0, \\  1, \\  \\left[ \\left[\\begin{matrix}0\\\\0\\\\1\\end{matrix}\\right]\\right]\\right), \\  \\left( 4, \\  1, \\  \\left[ \\left[\\begin{matrix}- \\frac{1}{2}\\\\1\\\\0\\end{matrix}\\right]\\right]\\right), \\  \\left( 9, \\  1, \\  \\left[ \\left[\\begin{matrix}2\\\\1\\\\0\\end{matrix}\\right]\\right]\\right)\\right]$"
      ],
      "text/plain": [
       "⎡⎛      ⎡⎡0⎤⎤⎞  ⎛      ⎡⎡-1/2⎤⎤⎞  ⎛      ⎡⎡2⎤⎤⎞⎤\n",
       "⎢⎜      ⎢⎢ ⎥⎥⎟  ⎜      ⎢⎢    ⎥⎥⎟  ⎜      ⎢⎢ ⎥⎥⎟⎥\n",
       "⎢⎜0, 1, ⎢⎢0⎥⎥⎟, ⎜4, 1, ⎢⎢ 1  ⎥⎥⎟, ⎜9, 1, ⎢⎢1⎥⎥⎟⎥\n",
       "⎢⎜      ⎢⎢ ⎥⎥⎟  ⎜      ⎢⎢    ⎥⎥⎟  ⎜      ⎢⎢ ⎥⎥⎟⎥\n",
       "⎣⎝      ⎣⎣1⎦⎦⎠  ⎝      ⎣⎣ 0  ⎦⎦⎠  ⎝      ⎣⎣0⎦⎦⎠⎦"
      ]
     },
     "metadata": {},
     "output_type": "display_data"
    }
   ],
   "source": [
    "A = Matrix([[2,0,0],[2,1,0],[0,-2,0]])\n",
    "AtA = A.T*A\n",
    "vecs1 = AtA.eigenvects()\n",
    "display(A)\n",
    "display(vecs1)"
   ]
  },
  {
   "cell_type": "code",
   "execution_count": 51,
   "metadata": {},
   "outputs": [
    {
     "data": {
      "text/latex": [
       "$\\displaystyle U \\Sigma V^T = \\left[\\begin{matrix}\\frac{4 \\sqrt{5}}{15} & - \\frac{\\sqrt{5}}{5} & - \\frac{2}{3}\\\\\\frac{\\sqrt{5}}{3} & 0 & \\frac{2}{3}\\\\- \\frac{2 \\sqrt{5}}{15} & - \\frac{2 \\sqrt{5}}{5} & \\frac{1}{3}\\end{matrix}\\right]\\left[\\begin{matrix}3 & 0 & 0\\\\0 & 2 & 0\\\\0 & 0 & 0\\end{matrix}\\right]\\left[\\begin{matrix}\\frac{2 \\sqrt{5}}{5} & \\frac{\\sqrt{5}}{5} & 0\\\\- \\frac{\\sqrt{5}}{5} & \\frac{2 \\sqrt{5}}{5} & 0\\\\0 & 0 & 1\\end{matrix}\\right]$"
      ],
      "text/plain": [
       "<IPython.core.display.Math object>"
      ]
     },
     "metadata": {},
     "output_type": "display_data"
    },
    {
     "data": {
      "text/latex": [
       "Test:"
      ],
      "text/plain": [
       "<IPython.core.display.Latex object>"
      ]
     },
     "metadata": {},
     "output_type": "display_data"
    },
    {
     "data": {
      "image/png": "[encoded data removed]",
      "text/latex": [
       "$\\displaystyle \\left[\\begin{matrix}2 & 0 & 0\\\\2 & 1 & 0\\\\0 & -2 & 0\\end{matrix}\\right]$"
      ],
      "text/plain": [
       "⎡2  0   0⎤\n",
       "⎢        ⎥\n",
       "⎢2  1   0⎥\n",
       "⎢        ⎥\n",
       "⎣0  -2  0⎦"
      ]
     },
     "metadata": {},
     "output_type": "display_data"
    },
    {
     "data": {
      "image/png": "[encoded data removed]",
      "text/latex": [
       "$\\displaystyle \\left[\\begin{matrix}2 & 0 & 0\\\\2 & 1 & 0\\\\0 & -2 & 0\\end{matrix}\\right]$"
      ],
      "text/plain": [
       "⎡2  0   0⎤\n",
       "⎢        ⎥\n",
       "⎢2  1   0⎥\n",
       "⎢        ⎥\n",
       "⎣0  -2  0⎦"
      ]
     },
     "metadata": {},
     "output_type": "display_data"
    },
    {
     "data": {
      "text/plain": [
       "True"
      ]
     },
     "metadata": {},
     "output_type": "display_data"
    }
   ],
   "source": [
    "s1 = sqrt(vecs1[2][0])\n",
    "s2 = sqrt(vecs1[1][0])\n",
    "s3 = sqrt(vecs1[0][0])\n",
    "\n",
    "v1 = vecs1[2][2][0].normalized()\n",
    "v2 = vecs1[1][2][0].normalized()\n",
    "v3 = vecs1[0][2][0].normalized()\n",
    "\n",
    "u1 = ((s1**-1)*A*v1)\n",
    "u2 = ((s2**-1)*A*v2)\n",
    "\n",
    "# We need one more eigenvectors for U\n",
    "\n",
    "u3 = Matrix([u1.T, u2.T]).nullspace()[0].normalized()\n",
    "\n",
    "U1 = u1.row_join(u2).row_join(u3)\n",
    "V = v1.row_join(v2).row_join(v3)\n",
    "Vt1 = V.T\n",
    "S1 = diag(s1,s2,s3)\n",
    "\n",
    "display(Math('U \\Sigma V^T = {}{}{}'.format(latex(U1), latex(S1), latex(Vt1))))\n",
    "display(Latex(\"Test:\"))\n",
    "display(U1*S1*Vt1)\n",
    "display(A)\n",
    "display(U1*S1*Vt1==A)"
   ]
  },
  {
   "cell_type": "code",
   "execution_count": 67,
   "metadata": {},
   "outputs": [],
   "source": [
    "# b: U and V wont be the same, but Sigma will."
   ]
  }
 ],
 "metadata": {
  "kernelspec": {
   "display_name": "Python 3",
   "language": "python",
   "name": "python3"
  },
  "language_info": {
   "codemirror_mode": {
    "name": "ipython",
    "version": 3
   },
   "file_extension": ".py",
   "mimetype": "text/x-python",
   "name": "python",
   "nbconvert_exporter": "python",
   "pygments_lexer": "ipython3",
   "version": "3.7.6"
  }
 },
 "nbformat": 4,
 "nbformat_minor": 4
}
