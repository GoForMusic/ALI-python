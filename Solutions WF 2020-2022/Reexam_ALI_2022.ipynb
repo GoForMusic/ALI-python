{
 "cells": [
  {
   "cell_type": "code",
   "execution_count": 1,
   "metadata": {},
   "outputs": [],
   "source": [
    "import sympy as sp\n",
    "from scipy import *\n",
    "from sympy import *\n",
    "init_printing()\n",
    "from IPython.display import display, Latex, HTML, Math\n",
    "import numpy as np\n",
    "import pandas as pd\n",
    "from sympy import Rational as R"
   ]
  },
  {
   "cell_type": "markdown",
   "metadata": {},
   "source": [
    "# Assignment 1"
   ]
  },
  {
   "cell_type": "code",
   "execution_count": null,
   "metadata": {},
   "outputs": [],
   "source": [
    "# a)\n",
    "# 0, 1, and 2 that correspond to that they do not intersect, they intersect in a line, or are the same subspace."
   ]
  },
  {
   "cell_type": "code",
   "execution_count": 1,
   "metadata": {},
   "outputs": [],
   "source": [
    "# b) For any two distinct...is the right answer since this is just nonsense.\n",
    "# Why would distinct vectors be linearly independent?"
   ]
  },
  {
   "cell_type": "code",
   "execution_count": 2,
   "metadata": {},
   "outputs": [
    {
     "data": {
      "text/latex": [
       "$\\displaystyle \\left( \\left[\\begin{matrix}0 & -1\\\\1 & 0\\end{matrix}\\right], \\  \\left[\\begin{matrix}-1 & 0\\\\0 & -1\\end{matrix}\\right]\\right)$"
      ],
      "text/plain": [
       "⎛⎡0  -1⎤  ⎡-1  0 ⎤⎞\n",
       "⎜⎢     ⎥, ⎢      ⎥⎟\n",
       "⎝⎣1  0 ⎦  ⎣0   -1⎦⎠"
      ]
     },
     "execution_count": 2,
     "metadata": {},
     "output_type": "execute_result"
    }
   ],
   "source": [
    "# c) Only 2 is the right answer. A^2 contain negatives.\n",
    "A = Matrix([[0,-1],[1,0]])\n",
    "A, A**2"
   ]
  },
  {
   "cell_type": "code",
   "execution_count": 3,
   "metadata": {},
   "outputs": [
    {
     "data": {
      "image/png": "[encoded data removed]",
      "text/latex": [
       "$\\displaystyle \\left( \\left\\{ -1 : 1, \\  1 : 1\\right\\}, \\  \\left\\{ 1 : 2\\right\\}\\right)$"
      ],
      "text/plain": [
       "({-1: 1, 1: 1}, {1: 2})"
      ]
     },
     "execution_count": 3,
     "metadata": {},
     "output_type": "execute_result"
    }
   ],
   "source": [
    "# Here's an example where 3 is false. In general it will not be true when we have same eigenval\n",
    "# with different signs (1, -1; 2, -2, etc)\n",
    "A = Matrix([[1,1],[0,-1]])\n",
    "A.eigenvals(), (A**2).eigenvals()"
   ]
  },
  {
   "cell_type": "markdown",
   "metadata": {},
   "source": [
    "$\\begin{aligned}\n",
    "& \\operatorname{det}\\left(A^{-1}\\right)=(\\operatorname{det}(A))^{-1} \\\\\n",
    "& \\operatorname{det}(k \\cdot A)=k^n \\operatorname{det}(A), \\text { so } \\\\\n",
    "& \\operatorname{det}\\left(-2 A^{-1}\\right)=(-2)^n=8^{-1}=2\n",
    "\\end{aligned}$"
   ]
  },
  {
   "cell_type": "markdown",
   "metadata": {},
   "source": [
    "$\\operatorname{det}\\left(A^{\\top} A\\right)=\\operatorname{det}\\left(A^{\\top}\\right) \\cdot \\operatorname{det}(A)=8\\times8=64$"
   ]
  },
  {
   "cell_type": "markdown",
   "metadata": {},
   "source": [
    "$\\operatorname{det}\\left(A^{-1} \\cdot A^{\\top} \\cdot A\\right)=(\\operatorname{det}(A))^{-1} \\cdot \\operatorname{det}(A) \\cdot \\operatorname{det}\\left(A^{\\top}\\right)=8$"
   ]
  },
  {
   "cell_type": "markdown",
   "metadata": {},
   "source": [
    "$\\operatorname{det} (A)=2^4$ det $(A)=2^4 \\cdot 8=2^4 \\cdot 2^3=2^7=128$"
   ]
  },
  {
   "cell_type": "markdown",
   "metadata": {},
   "source": [
    "# Assignment 2"
   ]
  },
  {
   "cell_type": "code",
   "execution_count": 4,
   "metadata": {},
   "outputs": [
    {
     "data": {
      "image/png": "[encoded data removed]",
      "text/latex": [
       "$\\displaystyle \\left[ \\left( -6, \\  -1\\right)\\right]$"
      ],
      "text/plain": [
       "[(-6, -1)]"
      ]
     },
     "execution_count": 4,
     "metadata": {},
     "output_type": "execute_result"
    }
   ],
   "source": [
    "# a)\n",
    "c, d = symbols('c d')\n",
    "A = Matrix([[1, R(1,3)], [c, d]])\n",
    "X = A**2 + eye(2)\n",
    "solve((X[0,0]+X[0,1], X[1,0]+X[1,1]), (c,d))"
   ]
  },
  {
   "cell_type": "code",
   "execution_count": 5,
   "metadata": {},
   "outputs": [
    {
     "data": {
      "text/plain": [
       "True"
      ]
     },
     "execution_count": 5,
     "metadata": {},
     "output_type": "execute_result"
    }
   ],
   "source": [
    "# Check\n",
    "A = Matrix([[1, R(1,3)], [-6, -1]])\n",
    "A**2 == - eye(2)"
   ]
  },
  {
   "cell_type": "code",
   "execution_count": 6,
   "metadata": {},
   "outputs": [
    {
     "data": {
      "text/latex": [
       "$\\displaystyle \\left[\\begin{matrix}1 & 0\\\\-4 & 1\\\\17 & -3\\end{matrix}\\right]$"
      ],
      "text/plain": [
       "⎡1   0 ⎤\n",
       "⎢      ⎥\n",
       "⎢-4  1 ⎥\n",
       "⎢      ⎥\n",
       "⎣17  -3⎦"
      ]
     },
     "execution_count": 6,
     "metadata": {},
     "output_type": "execute_result"
    }
   ],
   "source": [
    "# b)\n",
    "A = Matrix([[1,0,0],[4,1,0],[0,4,1]])\n",
    "b = Matrix([[1,0],[0,1],[1,1]])\n",
    "\n",
    "A**-1 * b"
   ]
  },
  {
   "cell_type": "markdown",
   "metadata": {},
   "source": [
    "# Assignment 3"
   ]
  },
  {
   "cell_type": "code",
   "execution_count": 14,
   "metadata": {},
   "outputs": [
    {
     "data": {
      "text/latex": [
       "$\\displaystyle \\left[\\begin{matrix}-1 & -2 & 0 & 1 & -2 & 2\\\\1 & 2 & 3 & -5 & 15 & -11\\\\0 & 0 & 1 & 1 & 2 & 11\\end{matrix}\\right]$"
      ],
      "text/plain": [
       "⎡-1  -2  0  1   -2   2 ⎤\n",
       "⎢                      ⎥\n",
       "⎢1   2   3  -5  15  -11⎥\n",
       "⎢                      ⎥\n",
       "⎣0   0   1  1   2   11 ⎦"
      ]
     },
     "execution_count": 14,
     "metadata": {},
     "output_type": "execute_result"
    }
   ],
   "source": [
    "A = Matrix([[-1, -2, 0, 1, -2, 2], [1, 2, 3, -5, 15, -11], [2, 4, 1, -1, 6, 7]])\n",
    "A[2,:] = A[2,:] + 2*A[0,:]\n",
    "A"
   ]
  },
  {
   "cell_type": "code",
   "execution_count": 15,
   "metadata": {},
   "outputs": [
    {
     "data": {
      "text/latex": [
       "$\\displaystyle \\left[\\begin{matrix}-1 & -2 & 0 & 1 & -2 & 2\\\\0 & 0 & 3 & -4 & 13 & -9\\\\0 & 0 & 1 & 1 & 2 & 11\\end{matrix}\\right]$"
      ],
      "text/plain": [
       "⎡-1  -2  0  1   -2  2 ⎤\n",
       "⎢                     ⎥\n",
       "⎢0   0   3  -4  13  -9⎥\n",
       "⎢                     ⎥\n",
       "⎣0   0   1  1   2   11⎦"
      ]
     },
     "execution_count": 15,
     "metadata": {},
     "output_type": "execute_result"
    }
   ],
   "source": [
    "A[1,:] = A[1,:] + A[0,:]\n",
    "A"
   ]
  },
  {
   "cell_type": "code",
   "execution_count": 16,
   "metadata": {},
   "outputs": [
    {
     "data": {
      "text/latex": [
       "$\\displaystyle \\left[\\begin{matrix}-1 & -2 & 0 & 1 & -2 & 2\\\\0 & 0 & 0 & -7 & 7 & -42\\\\0 & 0 & 1 & 1 & 2 & 11\\end{matrix}\\right]$"
      ],
      "text/plain": [
       "⎡-1  -2  0  1   -2   2 ⎤\n",
       "⎢                      ⎥\n",
       "⎢0   0   0  -7  7   -42⎥\n",
       "⎢                      ⎥\n",
       "⎣0   0   1  1   2   11 ⎦"
      ]
     },
     "execution_count": 16,
     "metadata": {},
     "output_type": "execute_result"
    }
   ],
   "source": [
    "A[1,:] = A[1,:] - 3*A[2,:]\n",
    "A"
   ]
  },
  {
   "cell_type": "code",
   "execution_count": 17,
   "metadata": {},
   "outputs": [
    {
     "data": {
      "text/latex": [
       "$\\displaystyle \\left[\\begin{matrix}-1 & -2 & 0 & 1 & -2 & 2\\\\0 & 0 & 0 & 1 & -1 & 6\\\\0 & 0 & 1 & 1 & 2 & 11\\end{matrix}\\right]$"
      ],
      "text/plain": [
       "⎡-1  -2  0  1  -2  2 ⎤\n",
       "⎢                    ⎥\n",
       "⎢0   0   0  1  -1  6 ⎥\n",
       "⎢                    ⎥\n",
       "⎣0   0   1  1  2   11⎦"
      ]
     },
     "execution_count": 17,
     "metadata": {},
     "output_type": "execute_result"
    }
   ],
   "source": [
    "A[1,:] = -R(1,7) * A[1,:]\n",
    "A"
   ]
  },
  {
   "cell_type": "code",
   "execution_count": 18,
   "metadata": {},
   "outputs": [],
   "source": [
    "R2 = A[1,:]\n",
    "R3 = A[2,:]"
   ]
  },
  {
   "cell_type": "code",
   "execution_count": 19,
   "metadata": {},
   "outputs": [
    {
     "data": {
      "text/latex": [
       "$\\displaystyle \\left[\\begin{matrix}-1 & -2 & 0 & 1 & -2 & 2\\\\0 & 0 & 1 & 1 & 2 & 11\\\\0 & 0 & 0 & 1 & -1 & 6\\end{matrix}\\right]$"
      ],
      "text/plain": [
       "⎡-1  -2  0  1  -2  2 ⎤\n",
       "⎢                    ⎥\n",
       "⎢0   0   1  1  2   11⎥\n",
       "⎢                    ⎥\n",
       "⎣0   0   0  1  -1  6 ⎦"
      ]
     },
     "execution_count": 19,
     "metadata": {},
     "output_type": "execute_result"
    }
   ],
   "source": [
    "A[1,:] = R3\n",
    "A[2,:] = R2\n",
    "A"
   ]
  },
  {
   "cell_type": "code",
   "execution_count": 20,
   "metadata": {},
   "outputs": [
    {
     "data": {
      "text/latex": [
       "$\\displaystyle \\left[\\begin{matrix}-1 & -2 & 0 & 1 & -2 & 2\\\\0 & 0 & 1 & 0 & 3 & 5\\\\0 & 0 & 0 & 1 & -1 & 6\\end{matrix}\\right]$"
      ],
      "text/plain": [
       "⎡-1  -2  0  1  -2  2⎤\n",
       "⎢                   ⎥\n",
       "⎢0   0   1  0  3   5⎥\n",
       "⎢                   ⎥\n",
       "⎣0   0   0  1  -1  6⎦"
      ]
     },
     "execution_count": 20,
     "metadata": {},
     "output_type": "execute_result"
    }
   ],
   "source": [
    "A[1,:] = A[1,:] - A[2,:]\n",
    "A"
   ]
  },
  {
   "cell_type": "code",
   "execution_count": 21,
   "metadata": {},
   "outputs": [
    {
     "data": {
      "text/latex": [
       "$\\displaystyle \\left[\\begin{matrix}1 & 2 & 0 & -1 & 2 & -2\\\\0 & 0 & 1 & 0 & 3 & 5\\\\0 & 0 & 0 & 1 & -1 & 6\\end{matrix}\\right]$"
      ],
      "text/plain": [
       "⎡1  2  0  -1  2   -2⎤\n",
       "⎢                   ⎥\n",
       "⎢0  0  1  0   3   5 ⎥\n",
       "⎢                   ⎥\n",
       "⎣0  0  0  1   -1  6 ⎦"
      ]
     },
     "execution_count": 21,
     "metadata": {},
     "output_type": "execute_result"
    }
   ],
   "source": [
    "A[0,:] = -1*A[0,:]\n",
    "A"
   ]
  },
  {
   "cell_type": "code",
   "execution_count": 22,
   "metadata": {},
   "outputs": [
    {
     "data": {
      "text/latex": [
       "$\\displaystyle \\left[\\begin{matrix}1 & 2 & 0 & 0 & 1 & 4\\\\0 & 0 & 1 & 0 & 3 & 5\\\\0 & 0 & 0 & 1 & -1 & 6\\end{matrix}\\right]$"
      ],
      "text/plain": [
       "⎡1  2  0  0  1   4⎤\n",
       "⎢                 ⎥\n",
       "⎢0  0  1  0  3   5⎥\n",
       "⎢                 ⎥\n",
       "⎣0  0  0  1  -1  6⎦"
      ]
     },
     "execution_count": 22,
     "metadata": {},
     "output_type": "execute_result"
    }
   ],
   "source": [
    "A[0,:] = A[0,:] + A[2,:]\n",
    "A"
   ]
  },
  {
   "cell_type": "code",
   "execution_count": 47,
   "metadata": {},
   "outputs": [
    {
     "data": {
      "text/latex": [
       "$\\displaystyle \\left( \\left[\\begin{matrix}1 & 2 & 0 & 0 & 1 & 4\\\\0 & 0 & 1 & 0 & 3 & 5\\\\0 & 0 & 0 & 1 & -1 & 6\\end{matrix}\\right], \\  \\left( 0, \\  2, \\  3\\right)\\right)$"
      ],
      "text/plain": [
       "⎛⎡1  2  0  0  1   4⎤           ⎞\n",
       "⎜⎢                 ⎥           ⎟\n",
       "⎜⎢0  0  1  0  3   5⎥, (0, 2, 3)⎟\n",
       "⎜⎢                 ⎥           ⎟\n",
       "⎝⎣0  0  0  1  -1  6⎦           ⎠"
      ]
     },
     "execution_count": 47,
     "metadata": {},
     "output_type": "execute_result"
    }
   ],
   "source": [
    "Matrix([[-1, -2, 0, 1, -2, 2], [1, 2, 3, -5, 15, -11], [2, 4, 1, -1, 6, 7]]).rref()"
   ]
  },
  {
   "cell_type": "markdown",
   "metadata": {},
   "source": [
    "So we get\n",
    "\n",
    "\n",
    "$\\left.\\begin{array}{l}a=-2 b-e+4 \\\\ b=b \\\\ c=-3 e+5 \\\\ d=e+6 \\\\ e=e\\end{array}\\right\\}=\\left[\\begin{array}{c}4-2 b-e \\\\ b \\\\ 5-3 e \\\\ 6+e \\\\ e\\end{array}\\right]$"
   ]
  },
  {
   "cell_type": "markdown",
   "metadata": {},
   "source": [
    "# Assignment 4"
   ]
  },
  {
   "cell_type": "code",
   "execution_count": 25,
   "metadata": {},
   "outputs": [
    {
     "data": {
      "text/latex": [
       "$\\displaystyle \\left[\\begin{matrix}1.0 & 0 & -2.0\\\\0 & 5 & 0\\\\-2.0 & 0 & 4.0\\end{matrix}\\right]$"
      ],
      "text/plain": [
       "⎡1.0   0  -2.0⎤\n",
       "⎢             ⎥\n",
       "⎢ 0    5   0  ⎥\n",
       "⎢             ⎥\n",
       "⎣-2.0  0  4.0 ⎦"
      ]
     },
     "execution_count": 25,
     "metadata": {},
     "output_type": "execute_result"
    }
   ],
   "source": [
    "A0 = Matrix([[1,0,-2],[0,1,0],[0,0,0]])\n",
    "A5 = Matrix([[1,0,(1)/(2)],[0,0,0],[0,0,0]])\n",
    "v1 = A0.nullspace()[0]\n",
    "v2 = A5.nullspace()[0]\n",
    "v3 = A5.nullspace()[1]\n",
    "P = Matrix.hstack(v1, v2, v3)\n",
    "D = diag(0,5,5)\n",
    "Pinv = P**-1\n",
    "A = P*D*Pinv\n",
    "A"
   ]
  },
  {
   "cell_type": "markdown",
   "metadata": {},
   "source": [
    "# Assignment 5"
   ]
  },
  {
   "cell_type": "code",
   "execution_count": 48,
   "metadata": {},
   "outputs": [
    {
     "data": {
      "image/png": "[encoded data removed]",
      "text/latex": [
       "$\\displaystyle \\left( \\left[\\begin{matrix}\\frac{2 \\sqrt{5}}{5}\\\\\\frac{\\sqrt{5}}{5}\\\\0\\end{matrix}\\right], \\  \\left[\\begin{matrix}- \\frac{3 \\sqrt{70}}{70}\\\\\\frac{3 \\sqrt{70}}{35}\\\\\\frac{\\sqrt{70}}{14}\\end{matrix}\\right]\\right)$"
      ],
      "text/plain": [
       "⎛        ⎡-3⋅√70 ⎤⎞\n",
       "⎜⎡2⋅√5⎤  ⎢───────⎥⎟\n",
       "⎜⎢────⎥  ⎢   70  ⎥⎟\n",
       "⎜⎢ 5  ⎥  ⎢       ⎥⎟\n",
       "⎜⎢    ⎥  ⎢ 3⋅√70 ⎥⎟\n",
       "⎜⎢ √5 ⎥, ⎢ ───── ⎥⎟\n",
       "⎜⎢ ── ⎥  ⎢   35  ⎥⎟\n",
       "⎜⎢ 5  ⎥  ⎢       ⎥⎟\n",
       "⎜⎢    ⎥  ⎢  √70  ⎥⎟\n",
       "⎜⎣ 0  ⎦  ⎢  ───  ⎥⎟\n",
       "⎝        ⎣   14  ⎦⎠"
      ]
     },
     "execution_count": 48,
     "metadata": {},
     "output_type": "execute_result"
    }
   ],
   "source": [
    "# a)\n",
    "A = Matrix([1, -2, 3]).T\n",
    "v1 = A.nullspace()[0]\n",
    "v2 = A.nullspace()[1]\n",
    "\n",
    "# Make them orthonormal\n",
    "u1 = GramSchmidt([v1, v2], True)[0]\n",
    "u2 = GramSchmidt([v1, v2], True)[1]\n",
    "\n",
    "u1, u2\n",
    "# Remember to factor out so that the values match"
   ]
  },
  {
   "cell_type": "code",
   "execution_count": 51,
   "metadata": {},
   "outputs": [
    {
     "data": {
      "image/png": "[encoded data removed]",
      "text/latex": [
       "$\\displaystyle \\left[\\begin{matrix}\\frac{\\sqrt{14}}{14}\\\\- \\frac{\\sqrt{14}}{7}\\\\\\frac{3 \\sqrt{14}}{14}\\end{matrix}\\right]$"
      ],
      "text/plain": [
       "⎡ √14 ⎤\n",
       "⎢ ─── ⎥\n",
       "⎢  14 ⎥\n",
       "⎢     ⎥\n",
       "⎢-√14 ⎥\n",
       "⎢─────⎥\n",
       "⎢  7  ⎥\n",
       "⎢     ⎥\n",
       "⎢3⋅√14⎥\n",
       "⎢─────⎥\n",
       "⎣  14 ⎦"
      ]
     },
     "execution_count": 51,
     "metadata": {},
     "output_type": "execute_result"
    }
   ],
   "source": [
    "# b)\n",
    "Matrix.vstack(u1.T, u2.T).nullspace()[0].normalized()"
   ]
  },
  {
   "cell_type": "markdown",
   "metadata": {},
   "source": [
    "# Assignment 6"
   ]
  },
  {
   "cell_type": "code",
   "execution_count": 25,
   "metadata": {},
   "outputs": [
    {
     "data": {
      "image/png": "[encoded data removed]",
      "text/latex": [
       "$\\displaystyle \\left[\\begin{matrix}7 & 0 & 0 & 0\\\\0 & 7 & 0 & 0\\\\0 & 0 & 7 & 0\\\\0 & 0 & 0 & 7\\end{matrix}\\right]$"
      ],
      "text/plain": [
       "⎡7  0  0  0⎤\n",
       "⎢          ⎥\n",
       "⎢0  7  0  0⎥\n",
       "⎢          ⎥\n",
       "⎢0  0  7  0⎥\n",
       "⎢          ⎥\n",
       "⎣0  0  0  7⎦"
      ]
     },
     "execution_count": 25,
     "metadata": {},
     "output_type": "execute_result"
    }
   ],
   "source": [
    "# a)\n",
    "u1 = Matrix([[1],[2],[1],[1]])\n",
    "u2 = Matrix([[-2],[1],[-1],[1]])\n",
    "u3 = Matrix([[1],[1],[-2],[-1]])\n",
    "u4 = Matrix([[-1],[1],[1],[-2]])\n",
    "v = Matrix([[4],[2],[-1],[0]])\n",
    "U = Matrix.hstack(u1, u2, u3, u4)\n",
    "U.T * U"
   ]
  },
  {
   "cell_type": "code",
   "execution_count": 26,
   "metadata": {},
   "outputs": [
    {
     "data": {
      "image/png": "[encoded data removed]",
      "text/latex": [
       "$\\displaystyle \\frac{3 \\sqrt{7}}{7}$"
      ],
      "text/plain": [
       "3⋅√7\n",
       "────\n",
       " 7  "
      ]
     },
     "execution_count": 26,
     "metadata": {},
     "output_type": "execute_result"
    }
   ],
   "source": [
    "# b)\n",
    "vhat = v.project(u1) + v.project(u2) + v.project(u3)\n",
    "(v-vhat).norm()"
   ]
  },
  {
   "cell_type": "markdown",
   "metadata": {},
   "source": [
    "# Assignment 7"
   ]
  },
  {
   "cell_type": "code",
   "execution_count": 32,
   "metadata": {},
   "outputs": [
    {
     "data": {
      "image/png": "[encoded data removed]",
      "text/latex": [
       "$\\displaystyle \\left( \\left[\\begin{matrix}5 & -2 & -4\\\\-2 & 8 & -2\\\\-4 & -2 & 5\\end{matrix}\\right], \\  \\left[\\begin{matrix}5 & -2 & -4\\\\-2 & 8 & -2\\\\-4 & -2 & 5\\end{matrix}\\right]\\right)$"
      ],
      "text/plain": [
       "⎛⎡5   -2  -4⎤  ⎡5   -2  -4⎤⎞\n",
       "⎜⎢          ⎥  ⎢          ⎥⎟\n",
       "⎜⎢-2  8   -2⎥, ⎢-2  8   -2⎥⎟\n",
       "⎜⎢          ⎥  ⎢          ⎥⎟\n",
       "⎝⎣-4  -2  5 ⎦  ⎣-4  -2  5 ⎦⎠"
      ]
     },
     "execution_count": 32,
     "metadata": {},
     "output_type": "execute_result"
    }
   ],
   "source": [
    "AAt = Matrix([[5,-2,-4],[-2,8,-2],[-4,-2,5]])\n",
    "AtA = Matrix([[5,-2,-4],[-2,8,-2],[-4,-2,5]])\n",
    "AAt, AtA"
   ]
  },
  {
   "cell_type": "code",
   "execution_count": 37,
   "metadata": {},
   "outputs": [
    {
     "data": {
      "image/png": "[encoded data removed]",
      "text/latex": [
       "$\\displaystyle \\left[\\begin{matrix}2\\\\1\\\\2\\end{matrix}\\right]$"
      ],
      "text/plain": [
       "⎡2⎤\n",
       "⎢ ⎥\n",
       "⎢1⎥\n",
       "⎢ ⎥\n",
       "⎣2⎦"
      ]
     },
     "execution_count": 37,
     "metadata": {},
     "output_type": "execute_result"
    }
   ],
   "source": [
    "# a)\n",
    "vecs = AtA.eigenvects()\n",
    "vecs\n",
    "vecs[0][2][0]*2"
   ]
  },
  {
   "cell_type": "code",
   "execution_count": 38,
   "metadata": {},
   "outputs": [
    {
     "data": {
      "text/latex": [
       "$$A = \\left[\\begin{matrix}\\frac{\\sqrt{5}}{3} & 0 & 0.666666666666667\\\\- \\frac{2 \\sqrt{5}}{15} & - \\frac{2 \\sqrt{5}}{5} & 0.333333333333333\\\\- \\frac{4 \\sqrt{5}}{15} & \\frac{\\sqrt{5}}{5} & 0.666666666666667\\end{matrix}\\right]\\left[\\begin{matrix}3 & 0 & 0\\\\0 & 3 & 0\\\\0 & 0 & 0\\end{matrix}\\right]\\left[\\begin{matrix}- \\frac{\\sqrt{5}}{5} & \\frac{2 \\sqrt{5}}{5} & 0\\\\- \\frac{4 \\sqrt{5}}{15} & - \\frac{2 \\sqrt{5}}{15} & \\frac{\\sqrt{5}}{3}\\\\\\frac{2}{3} & \\frac{1}{3} & \\frac{2}{3}\\end{matrix}\\right]$$"
      ],
      "text/plain": [
       "<IPython.core.display.Latex object>"
      ]
     },
     "metadata": {},
     "output_type": "display_data"
    },
    {
     "data": {
      "image/png": "[encoded data removed]",
      "text/latex": [
       "$\\displaystyle \\left[\\begin{matrix}-1 & 2 & 0\\\\2 & 0 & -2\\\\0 & -2 & 1\\end{matrix}\\right]$"
      ],
      "text/plain": [
       "⎡-1  2   0 ⎤\n",
       "⎢          ⎥\n",
       "⎢2   0   -2⎥\n",
       "⎢          ⎥\n",
       "⎣0   -2  1 ⎦"
      ]
     },
     "execution_count": 38,
     "metadata": {},
     "output_type": "execute_result"
    }
   ],
   "source": [
    "# b) First find values for SVD. The given matrix is U so we need to find V\n",
    "s1 = sqrt(vecs[1][0])\n",
    "s2 = sqrt(vecs[1][0])\n",
    "s3 = sqrt(vecs[0][0])\n",
    "v1 = GramSchmidt([vecs[1][2][0], vecs[1][2][1]], True)[0]\n",
    "v2 = GramSchmidt([vecs[1][2][0], vecs[1][2][1]], True)[1]\n",
    "v3 = vecs[0][2][0].normalized()\n",
    "\n",
    "# So V is\n",
    "V = Matrix.hstack(v1, v2, v3)\n",
    "Vt = V.T\n",
    "\n",
    "# We get U from the assignment\n",
    "U = Matrix([[(sqrt(5))/(3),0,(2)/(3)],\n",
    "            [-(2*sqrt(5))/(15),-(2*sqrt(5))/(5),(1)/(3)],\n",
    "            [-(4*sqrt(5))/(15),(sqrt(5))/(5),(2)/(3)]])\n",
    "\n",
    "# We need Sigma\n",
    "S = diag(s1, s2, s3)\n",
    "\n",
    "# We find A\n",
    "display(Latex(\"$$A = {}{}{}$$\".format(latex(U), latex(S), latex(Vt))))\n",
    "A = U*S*Vt\n",
    "A"
   ]
  },
  {
   "cell_type": "code",
   "execution_count": null,
   "metadata": {},
   "outputs": [],
   "source": [
    "# C)\n",
    "\n",
    "# we get n and m from size of U and V so n = 3, m = 3\n",
    "# Col A = Rank. 2 nonzero singular values, so Dim Col A = 2\n",
    "# Dim Nul A = n - Dim Col A = 1\n",
    "# Dim Row = Rank A = 2\n",
    "# Dim Nul A.T = n - Rank A = 1"
   ]
  },
  {
   "cell_type": "markdown",
   "metadata": {},
   "source": [
    "# Assignment 8"
   ]
  },
  {
   "cell_type": "code",
   "execution_count": 33,
   "metadata": {},
   "outputs": [],
   "source": [
    "x = pd.DataFrame([-7, -5, -3, -1, 1, 3, 5, 7])\n",
    "y = pd.DataFrame([-11.23, -4.47, -1.12, -0.05, 0.06, 1.14, 4.53, 11.56])"
   ]
  },
  {
   "cell_type": "code",
   "execution_count": 34,
   "metadata": {},
   "outputs": [
    {
     "data": {
      "text/latex": [
       "$\\displaystyle X_1 = \\left[\\begin{matrix}-7 & -343\\\\-5 & -125\\\\-3 & -27\\\\-1 & -1\\\\1 & 1\\\\3 & 27\\\\5 & 125\\\\7 & 343\\end{matrix}\\right]$"
      ],
      "text/plain": [
       "<IPython.core.display.Math object>"
      ]
     },
     "metadata": {},
     "output_type": "display_data"
    }
   ],
   "source": [
    "X1 = Matrix(x).row_join(Matrix(x**3))\n",
    "\n",
    "display(Math(r'X_1 = ' + latex(X1)))"
   ]
  },
  {
   "cell_type": "code",
   "execution_count": 35,
   "metadata": {},
   "outputs": [
    {
     "data": {
      "image/png": "[encoded data removed]",
      "text/latex": [
       "$\\displaystyle \\left[\\begin{matrix}0.109443542568544\\\\0.0310542929292929\\end{matrix}\\right]$"
      ],
      "text/plain": [
       "⎡0.109443542568544 ⎤\n",
       "⎢                  ⎥\n",
       "⎣0.0310542929292929⎦"
      ]
     },
     "execution_count": 35,
     "metadata": {},
     "output_type": "execute_result"
    }
   ],
   "source": [
    "X1tX1 = X1.T*X1\n",
    "X1ty = X1.T*Matrix(y)\n",
    "Mat, _ = X1tX1.row_join(X1ty).rref()\n",
    "B1 = Mat[:,-1]\n",
    "B1"
   ]
  },
  {
   "cell_type": "code",
   "execution_count": 36,
   "metadata": {},
   "outputs": [
    {
     "data": {
      "text/latex": [
       "$\\displaystyle X_1^TX_1 = \\left[\\begin{matrix}168 & 6216\\\\6216 & 268008\\end{matrix}\\right]$"
      ],
      "text/plain": [
       "<IPython.core.display.Math object>"
      ]
     },
     "metadata": {},
     "output_type": "display_data"
    },
    {
     "data": {
      "text/latex": [
       "$\\displaystyle X_1^Ty = \\left[\\begin{matrix}211.42\\\\9003.1\\end{matrix}\\right]$"
      ],
      "text/plain": [
       "<IPython.core.display.Math object>"
      ]
     },
     "metadata": {},
     "output_type": "display_data"
    }
   ],
   "source": [
    "display(Math(r'X_1^TX_1 = ' + latex(X1tX1)))\n",
    "display(Math(r'X_1^Ty = ' + latex(X1ty)))"
   ]
  },
  {
   "cell_type": "code",
   "execution_count": 37,
   "metadata": {},
   "outputs": [
    {
     "data": {
      "text/latex": [
       "$$y_1(t) = 0.11+0.03105t^3$$"
      ],
      "text/plain": [
       "<IPython.core.display.Latex object>"
      ]
     },
     "metadata": {},
     "output_type": "display_data"
    }
   ],
   "source": [
    "display(Latex(\"$$y_1(t) = {}+{}t^3$$\".format(round(B1[0],2), round(B1[1], 5))))"
   ]
  },
  {
   "cell_type": "code",
   "execution_count": 38,
   "metadata": {},
   "outputs": [
    {
     "data": {
      "text/latex": [
       "$$e_1 = 0.2914$$"
      ],
      "text/plain": [
       "<IPython.core.display.Latex object>"
      ]
     },
     "metadata": {},
     "output_type": "display_data"
    }
   ],
   "source": [
    "display(Latex(\"$$e_1 = {}$$\".format(round((Matrix(y)-X1*B1).norm(), 4))))"
   ]
  },
  {
   "cell_type": "markdown",
   "metadata": {},
   "source": [
    "# Assignment 9"
   ]
  },
  {
   "cell_type": "code",
   "execution_count": 49,
   "metadata": {},
   "outputs": [
    {
     "data": {
      "text/latex": [
       "$\\displaystyle A = \\left[\\begin{matrix}4 & 0 & 4\\\\0 & 4 & 4\\\\4 & 4 & 8\\end{matrix}\\right]$"
      ],
      "text/plain": [
       "<IPython.core.display.Math object>"
      ]
     },
     "metadata": {},
     "output_type": "display_data"
    },
    {
     "data": {
      "image/png": "[encoded data removed]",
      "text/latex": [
       "$\\displaystyle \\operatorname{PurePoly}{\\left( \\lambda^{3} - 16 \\lambda^{2} + 48 \\lambda, \\lambda, domain=\\mathbb{Z} \\right)}$"
      ],
      "text/plain": [
       "PurePoly(lambda**3 - 16*lambda**2 + 48*lambda, lambda, domain='ZZ')"
      ]
     },
     "execution_count": 49,
     "metadata": {},
     "output_type": "execute_result"
    }
   ],
   "source": [
    "# We translate the problem to a matrix problem\n",
    "\n",
    "A = Matrix([[4, 0, 4],[0, 4, 4], [4, 4, 8]])\n",
    "display(Math(r'A = ' + latex(A)))\n",
    "A.charpoly()"
   ]
  },
  {
   "cell_type": "code",
   "execution_count": 55,
   "metadata": {},
   "outputs": [
    {
     "data": {
      "text/latex": [
       "$\\displaystyle \\lambda_1 =0\\approx0$"
      ],
      "text/plain": [
       "<IPython.core.display.Math object>"
      ]
     },
     "metadata": {},
     "output_type": "display_data"
    },
    {
     "data": {
      "text/latex": [
       "$\\displaystyle \\lambda_2 =4\\approx4$"
      ],
      "text/plain": [
       "<IPython.core.display.Math object>"
      ]
     },
     "metadata": {},
     "output_type": "display_data"
    },
    {
     "data": {
      "text/latex": [
       "$\\displaystyle \\lambda_3 =12\\approx12$"
      ],
      "text/plain": [
       "<IPython.core.display.Math object>"
      ]
     },
     "metadata": {},
     "output_type": "display_data"
    },
    {
     "data": {
      "text/latex": [
       "$\\displaystyle v_1 = \\left[\\begin{matrix}-1\\\\-1\\\\1\\end{matrix}\\right]=\\left[\\begin{matrix}-1.0\\\\-1.0\\\\1.0\\end{matrix}\\right]$"
      ],
      "text/plain": [
       "<IPython.core.display.Math object>"
      ]
     },
     "metadata": {},
     "output_type": "display_data"
    },
    {
     "data": {
      "text/latex": [
       "$\\displaystyle v_2 = \\left[\\begin{matrix}-1\\\\1\\\\0\\end{matrix}\\right]=\\left[\\begin{matrix}-1.0\\\\1.0\\\\0\\end{matrix}\\right]$"
      ],
      "text/plain": [
       "<IPython.core.display.Math object>"
      ]
     },
     "metadata": {},
     "output_type": "display_data"
    },
    {
     "data": {
      "text/latex": [
       "$\\displaystyle v_3 = \\left[\\begin{matrix}1\\\\1\\\\2\\end{matrix}\\right]=\\left[\\begin{matrix}1.0\\\\1.0\\\\2.0\\end{matrix}\\right]$"
      ],
      "text/plain": [
       "<IPython.core.display.Math object>"
      ]
     },
     "metadata": {},
     "output_type": "display_data"
    }
   ],
   "source": [
    "# We find the eigenvalues and the corresponding eigenspaces.\n",
    "l = symbols('l')\n",
    "l1, l2, l3 = solve(det(A-l*eye(np.shape(A)[0])))\n",
    "display(Math(r'\\lambda_1 =' +latex(l1) + r'\\approx' + latex(round(l1, 2))))\n",
    "display(Math(r'\\lambda_2 =' +latex(l2) + r'\\approx' + latex(round(l2, 2))))\n",
    "display(Math(r'\\lambda_3 =' +latex(l3) + r'\\approx' + latex(round(l3, 2))))\n",
    "\n",
    "v1 = (A-l1*eye(np.shape(A)[0])).nullspace()[0]\n",
    "v2 = (A-l2*eye(np.shape(A)[0])).nullspace()[0]\n",
    "v3 = (A-l3*eye(np.shape(A)[0])).nullspace()[0]\n",
    "display(Math(r'v_1 = '+ latex(v1) + r'=' + latex(v1.evalf(4))))\n",
    "display(Math(r'v_2 = '+ latex(v2) + r'=' + latex(v2.evalf(4))))\n",
    "display(Math(r'v_3 = '+ latex(2*v3) + r'=' + latex(2*v3.evalf(4))))"
   ]
  },
  {
   "cell_type": "code",
   "execution_count": 54,
   "metadata": {},
   "outputs": [
    {
     "data": {
      "text/latex": [
       "$\\displaystyle \\left[\\begin{matrix}-2\\\\3\\\\7\\end{matrix}\\right]$"
      ],
      "text/plain": [
       "⎡-2⎤\n",
       "⎢  ⎥\n",
       "⎢3 ⎥\n",
       "⎢  ⎥\n",
       "⎣7 ⎦"
      ]
     },
     "execution_count": 54,
     "metadata": {},
     "output_type": "execute_result"
    }
   ],
   "source": [
    "y0 = Matrix([6, 12, 12])\n",
    "\n",
    "# To solve the system we form the following augmented matrix and solve. The c's will be in the last column:\n",
    "C = v1.row_join(v2).row_join(2*v3).row_join(y0).rref()[0][:, -1]\n",
    "C"
   ]
  },
  {
   "cell_type": "markdown",
   "metadata": {},
   "source": [
    "So the system in vector form is:\n",
    "\n",
    "$\\bar{y}(t)=-2\\left[\\begin{array}{c}-1 \\\\ -1 \\\\ 1\\end{array}\\right] e^{0 \\cdot t}+3\\left[\\begin{array}{c}-1 \\\\ 1 \\\\ 0\\end{array}\\right] \\cdot e^{4 t}+7\\left[\\begin{array}{c}1 \\\\ 1 \\\\ 2\\end{array}\\right] \\cdot e^{12 t}$\n",
    "\n",
    "We can transform this into three equations by multiplying into the vectors and then stating each entry as an equation:\n",
    "\n",
    "$\\bar{y}(t)=\\left[\\begin{array}{c}2 \\\\ 2 \\\\ -2\\end{array}\\right]+\\left[\\begin{array}{c}-3 \\\\ 3 \\\\ 0\\end{array}\\right] \\cdot e^{4 t}+\\left[\\begin{array}{c}7 \\\\ 7 \\\\ 14\\end{array}\\right] \\cdot e^{12 t}$\n",
    "\n",
    "We get\n",
    "\n",
    "$\n",
    "\\begin{aligned}\n",
    "&y_1=2-3 \\cdot e^{4 t}+7 e^{12 t} \\\\\n",
    "&y_2=2+3 \\cdot e^{4 t}+7 e^{12 t} \\\\\n",
    "&y_3=-2+14 \\cdot e^{12 t}\n",
    "\\end{aligned}\n",
    "$"
   ]
  }
 ],
 "metadata": {
  "kernelspec": {
   "display_name": "Python 3",
   "language": "python",
   "name": "python3"
  },
  "language_info": {
   "codemirror_mode": {
    "name": "ipython",
    "version": 3
   },
   "file_extension": ".py",
   "mimetype": "text/x-python",
   "name": "python",
   "nbconvert_exporter": "python",
   "pygments_lexer": "ipython3",
   "version": "3.11.1"
  }
 },
 "nbformat": 4,
 "nbformat_minor": 4
}
