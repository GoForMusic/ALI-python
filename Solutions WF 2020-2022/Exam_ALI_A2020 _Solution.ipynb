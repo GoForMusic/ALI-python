{
 "cells": [
  {
   "cell_type": "code",
   "execution_count": 1,
   "metadata": {},
   "outputs": [],
   "source": [
    "import sympy as sp\n",
    "from scipy import *\n",
    "from sympy import *\n",
    "init_printing()\n",
    "from IPython.display import display, Latex, HTML, Math\n",
    "import numpy as np\n",
    "import pandas as pd"
   ]
  },
  {
   "cell_type": "markdown",
   "metadata": {},
   "source": [
    "## Assignment 1"
   ]
  },
  {
   "cell_type": "code",
   "execution_count": 2,
   "metadata": {},
   "outputs": [],
   "source": [
    "# a) Trace (i.e. sum of main diagonal) of any (real) matrix is equal to sum of eigenvalues so answer is 2\n",
    "\n",
    "# b) determinant is product of diagonal, which is -1, and since one entry is -1 the other two must be 1\n",
    "\n",
    "# c) i) A is in echelon form, ii) nullity A + rank A = 4, iii) The matrix has eigen...than 1\n",
    "\n",
    "# d) det of orthogonal matrix always either -1 or 1. Since det B > 0, det B = 1, det AB = -3 and det -A = 3\n",
    "\n",
    "# e) pivots = 3, free var = 3, dim nul A = 6, dim col A = 3\n"
   ]
  },
  {
   "cell_type": "code",
   "execution_count": 9,
   "metadata": {},
   "outputs": [
    {
     "data": {
      "image/png": "[encoded data removed]",
      "text/latex": [
       "$\\displaystyle \\left[ \\left( -1, \\  1, \\  \\left[ \\left[\\begin{matrix}- \\frac{3}{2}\\\\1\\\\0\\end{matrix}\\right]\\right]\\right), \\  \\left( 1, \\  2, \\  \\left[ \\left[\\begin{matrix}1\\\\0\\\\0\\end{matrix}\\right]\\right]\\right)\\right]$"
      ],
      "text/plain": [
       "⎡⎛       ⎡⎡-3/2⎤⎤⎞  ⎛      ⎡⎡1⎤⎤⎞⎤\n",
       "⎢⎜       ⎢⎢    ⎥⎥⎟  ⎜      ⎢⎢ ⎥⎥⎟⎥\n",
       "⎢⎜-1, 1, ⎢⎢ 1  ⎥⎥⎟, ⎜1, 2, ⎢⎢0⎥⎥⎟⎥\n",
       "⎢⎜       ⎢⎢    ⎥⎥⎟  ⎜      ⎢⎢ ⎥⎥⎟⎥\n",
       "⎣⎝       ⎣⎣ 0  ⎦⎦⎠  ⎝      ⎣⎣0⎦⎦⎠⎦"
      ]
     },
     "execution_count": 9,
     "metadata": {},
     "output_type": "execute_result"
    }
   ],
   "source": [
    "Matrix([[1,3,1],[0,-1,0],[0,0,1]]).eigenvects()"
   ]
  },
  {
   "cell_type": "markdown",
   "metadata": {},
   "source": [
    "## Assignment 2"
   ]
  },
  {
   "cell_type": "code",
   "execution_count": 3,
   "metadata": {},
   "outputs": [],
   "source": [
    "A = Matrix([[1,1,0],[0,1,1],[0,0,1]])\n",
    "B = Matrix([[2,0,0],[1,1,2],[2,0,1]])\n",
    "C = Matrix([[1,1,0],[0,1,0],[0,1,2]])"
   ]
  },
  {
   "cell_type": "code",
   "execution_count": 4,
   "metadata": {},
   "outputs": [
    {
     "data": {
      "text/latex": [
       "$\\displaystyle \\text{Det}(X) =13$"
      ],
      "text/plain": [
       "<IPython.core.display.Math object>"
      ]
     },
     "metadata": {},
     "output_type": "display_data"
    }
   ],
   "source": [
    "# a)\n",
    "display(Math(r'\\text{Det}(X) =' + latex(((B+C)*A**-1).det())))"
   ]
  },
  {
   "cell_type": "code",
   "execution_count": 5,
   "metadata": {},
   "outputs": [
    {
     "data": {
      "text/latex": [
       "$\\displaystyle A =\\left[\\begin{matrix}2 & -1 & 3\\\\5 & 0 & -2\\end{matrix}\\right]$"
      ],
      "text/plain": [
       "<IPython.core.display.Math object>"
      ]
     },
     "metadata": {},
     "output_type": "display_data"
    },
    {
     "data": {
      "text/latex": [
       "$\\displaystyle B =\\left[\\begin{matrix}-3 & 4 & 2\\\\-5 & -3 & 4\\end{matrix}\\right]$"
      ],
      "text/plain": [
       "<IPython.core.display.Math object>"
      ]
     },
     "metadata": {},
     "output_type": "display_data"
    }
   ],
   "source": [
    "# b)\n",
    "C = Matrix([[9,-7,7],[20,3,-10]])\n",
    "D = Matrix([[9,-2,20],[25,-3,-8]])\n",
    "B = Rational(1,3)*(D-2*C)\n",
    "A = Rational(1,3)*(C+B)\n",
    "display(Math(r'A =' + latex(A)))\n",
    "display(Math(r'B =' + latex(B)))"
   ]
  },
  {
   "cell_type": "markdown",
   "metadata": {},
   "source": [
    "## Assignment 3"
   ]
  },
  {
   "cell_type": "code",
   "execution_count": 6,
   "metadata": {},
   "outputs": [
    {
     "data": {
      "text/latex": [
       "$\\displaystyle A =\\left[\\begin{matrix}0 & 2 & 3 & 4\\\\1 & -3 & 4 & 5\\\\-3 & 10 & -6 & -7\\end{matrix}\\right]$"
      ],
      "text/plain": [
       "<IPython.core.display.Math object>"
      ]
     },
     "metadata": {},
     "output_type": "display_data"
    }
   ],
   "source": [
    "# a)\n",
    "A = Matrix([[0,2,3,4],[1,-3,4,5],[-3,10,-6,-7]])\n",
    "display(Math(r'A =' + latex(A)))"
   ]
  },
  {
   "cell_type": "code",
   "execution_count": 7,
   "metadata": {},
   "outputs": [
    {
     "data": {
      "text/latex": [
       "$\\displaystyle R1 =\\left[\\begin{matrix}1 & -3 & 4 & 5 & 2\\\\0 & 2 & 3 & 4 & 1\\\\-3 & 10 & -6 & -7 & -4\\end{matrix}\\right]$"
      ],
      "text/plain": [
       "<IPython.core.display.Math object>"
      ]
     },
     "metadata": {},
     "output_type": "display_data"
    },
    {
     "data": {
      "text/latex": [
       "$\\displaystyle R2 =\\left[\\begin{matrix}1 & -3 & 4 & 5 & 2\\\\0 & 2 & 3 & 4 & 1\\\\0 & 1 & 6 & 8 & 2\\end{matrix}\\right]$"
      ],
      "text/plain": [
       "<IPython.core.display.Math object>"
      ]
     },
     "metadata": {},
     "output_type": "display_data"
    },
    {
     "data": {
      "text/latex": [
       "$\\displaystyle R3 =\\left[\\begin{matrix}1 & -3 & 4 & 5 & 2\\\\0 & 1 & 6 & 8 & 2\\\\0 & 2 & 3 & 4 & 1\\end{matrix}\\right]$"
      ],
      "text/plain": [
       "<IPython.core.display.Math object>"
      ]
     },
     "metadata": {},
     "output_type": "display_data"
    },
    {
     "data": {
      "text/latex": [
       "$\\displaystyle R4 =\\left[\\begin{matrix}1 & -3 & 4 & 5 & 2\\\\0 & 1 & 6 & 8 & 2\\\\0 & 0 & -9 & -12 & -3\\end{matrix}\\right]$"
      ],
      "text/plain": [
       "<IPython.core.display.Math object>"
      ]
     },
     "metadata": {},
     "output_type": "display_data"
    },
    {
     "data": {
      "text/latex": [
       "$\\displaystyle R5 =\\left[\\begin{matrix}1 & -3 & 4 & 5 & 2\\\\0 & 1 & 6 & 8 & 2\\\\0 & 0 & 1 & \\frac{4}{3} & \\frac{1}{3}\\end{matrix}\\right]$"
      ],
      "text/plain": [
       "<IPython.core.display.Math object>"
      ]
     },
     "metadata": {},
     "output_type": "display_data"
    }
   ],
   "source": [
    "# b)\n",
    "R = Matrix([[0,2,3,4,1],[1,-3,4,5,2],[-3,10,-6,-7,-4]])\n",
    "R.row_swap(0,1)\n",
    "R1 = R\n",
    "display(Math(r'R1 =' + latex(R1)))\n",
    "R1[2,:] = R1[2,:]+3*R1[0,:]\n",
    "R2 = R1\n",
    "display(Math(r'R2 =' + latex(R2)))\n",
    "R2.row_swap(1,2)\n",
    "R3 = R2\n",
    "display(Math(r'R3 =' + latex(R3)))\n",
    "R3[2,:] = R[2,:]-2*R[1,:]\n",
    "R4 = R3\n",
    "display(Math(r'R4 =' + latex(R4)))\n",
    "R4[2,:] = -Rational(1,9) * R4[2,:]\n",
    "R5 = R4\n",
    "display(Math(r'R5 =' + latex(R5)))"
   ]
  },
  {
   "cell_type": "code",
   "execution_count": 8,
   "metadata": {},
   "outputs": [
    {
     "data": {
      "text/latex": [
       "$\\displaystyle \\left[\\begin{matrix}1 & 0 & 0 & - \\frac{1}{3} & \\frac{2}{3}\\\\0 & 1 & 0 & 0 & 0\\\\0 & 0 & 1 & \\frac{4}{3} & \\frac{1}{3}\\end{matrix}\\right]$"
      ],
      "text/plain": [
       "⎡1  0  0  -1/3  2/3⎤\n",
       "⎢                  ⎥\n",
       "⎢0  1  0   0     0 ⎥\n",
       "⎢                  ⎥\n",
       "⎣0  0  1  4/3   1/3⎦"
      ]
     },
     "execution_count": 8,
     "metadata": {},
     "output_type": "execute_result"
    }
   ],
   "source": [
    "# c)\n",
    "R.rref()[0]"
   ]
  },
  {
   "cell_type": "code",
   "execution_count": 9,
   "metadata": {},
   "outputs": [
    {
     "data": {
      "text/latex": [
       "$\\displaystyle \\left[\\begin{matrix}\\frac{1}{3}\\\\0\\\\- \\frac{4}{3}\\\\1\\end{matrix}\\right]$"
      ],
      "text/plain": [
       "⎡1/3 ⎤\n",
       "⎢    ⎥\n",
       "⎢ 0  ⎥\n",
       "⎢    ⎥\n",
       "⎢-4/3⎥\n",
       "⎢    ⎥\n",
       "⎣ 1  ⎦"
      ]
     },
     "metadata": {},
     "output_type": "display_data"
    }
   ],
   "source": [
    "# d)\n",
    "v1 = Matrix([0, 2, 3, 4])\n",
    "v2 = Matrix([1, 3, 4, 5])\n",
    "v3 = Matrix([-3, 10, -6, -7])\n",
    "V = v1.row_join(v2).row_join(v3)\n",
    "display((V.T).nullspace()[0])"
   ]
  },
  {
   "attachments": {
    "image.png": {
     "image/png": "[encoded data removed]"
    }
   },
   "cell_type": "markdown",
   "metadata": {},
   "source": [
    "![image.png](attachment:image.png)"
   ]
  },
  {
   "cell_type": "code",
   "execution_count": null,
   "metadata": {},
   "outputs": [],
   "source": [
    "# e)"
   ]
  },
  {
   "attachments": {
    "image.png": {
     "image/png": "[encoded data removed]"
    }
   },
   "cell_type": "markdown",
   "metadata": {},
   "source": [
    "![image.png](attachment:image.png)"
   ]
  },
  {
   "cell_type": "code",
   "execution_count": 13,
   "metadata": {},
   "outputs": [
    {
     "data": {
      "text/latex": [
       "$\\displaystyle \\left[\\begin{matrix}\\frac{1}{3}\\\\0\\\\- \\frac{4}{3}\\\\1\\end{matrix}\\right]$"
      ],
      "text/plain": [
       "⎡1/3 ⎤\n",
       "⎢    ⎥\n",
       "⎢ 0  ⎥\n",
       "⎢    ⎥\n",
       "⎢-4/3⎥\n",
       "⎢    ⎥\n",
       "⎣ 1  ⎦"
      ]
     },
     "metadata": {},
     "output_type": "display_data"
    }
   ],
   "source": [
    "# f)\n",
    "display((V.T).nullspace()[0])"
   ]
  },
  {
   "cell_type": "code",
   "execution_count": null,
   "metadata": {},
   "outputs": [],
   "source": [
    "# g) rank A = 3, dim Nul A = 1, x = 4"
   ]
  },
  {
   "cell_type": "code",
   "execution_count": 14,
   "metadata": {},
   "outputs": [
    {
     "data": {
      "text/plain": [
       "False"
      ]
     },
     "execution_count": 14,
     "metadata": {},
     "output_type": "execute_result"
    }
   ],
   "source": [
    "# h)\n",
    "R = Matrix([[0,2,3,4,1],[1,-3,4,5,2],[-3,10,-6,-7,-4]])\n",
    "A*Matrix([1,1,1,1]) == R[:,-1]"
   ]
  },
  {
   "cell_type": "markdown",
   "metadata": {},
   "source": [
    "## Assignment 4"
   ]
  },
  {
   "cell_type": "code",
   "execution_count": 26,
   "metadata": {},
   "outputs": [
    {
     "data": {
      "text/latex": [
       "$$\\left[\\begin{matrix}1\\\\-1\\\\0\\\\2\\end{matrix}\\right] , \\left[\\begin{matrix}0\\\\2\\\\1\\\\1\\end{matrix}\\right] , \\left[\\begin{matrix}1\\\\\\frac{1}{3}\\\\- \\frac{1}{3}\\\\- \\frac{1}{3}\\end{matrix}\\right]$$"
      ],
      "text/plain": [
       "<IPython.core.display.Latex object>"
      ]
     },
     "metadata": {},
     "output_type": "display_data"
    }
   ],
   "source": [
    "# a)\n",
    "x1 = Matrix([[1],[-1],[0],[2]])\n",
    "x2 = Matrix([[1],[1],[1],[3]])\n",
    "x3 = Matrix([[3],[1],[1],[5]])\n",
    "v1 = GramSchmidt([x1, x2, x3])[0]\n",
    "v2 = GramSchmidt([x1, x2, x3])[1]\n",
    "v3 = GramSchmidt([x1, x2, x3])[2]\n",
    "display(Latex(\"$${} , {} , {}$$\".format(latex(v1), latex(v2), latex(v3))))"
   ]
  },
  {
   "cell_type": "code",
   "execution_count": 27,
   "metadata": {},
   "outputs": [
    {
     "data": {
      "text/latex": [
       "$$\\left[\\begin{matrix}\\frac{\\sqrt{6}}{6}\\\\- \\frac{\\sqrt{6}}{6}\\\\0\\\\\\frac{\\sqrt{6}}{3}\\end{matrix}\\right] , \\left[\\begin{matrix}0\\\\\\frac{\\sqrt{6}}{3}\\\\\\frac{\\sqrt{6}}{6}\\\\\\frac{\\sqrt{6}}{6}\\end{matrix}\\right] , \\left[\\begin{matrix}\\frac{\\sqrt{3}}{2}\\\\\\frac{\\sqrt{3}}{6}\\\\- \\frac{\\sqrt{3}}{6}\\\\- \\frac{\\sqrt{3}}{6}\\end{matrix}\\right]$$"
      ],
      "text/plain": [
       "<IPython.core.display.Latex object>"
      ]
     },
     "metadata": {},
     "output_type": "display_data"
    }
   ],
   "source": [
    "# b)\n",
    "u1 = GramSchmidt([v1, v2, v3], True)[0]\n",
    "u2 = GramSchmidt([v1, v2, v3], True)[1]\n",
    "u3 = GramSchmidt([v1, v2, v3], True)[2]\n",
    "display(Latex(\"$${} , {} , {}$$\".format(latex(u1), latex(u2), latex(u3))))"
   ]
  },
  {
   "cell_type": "code",
   "execution_count": 28,
   "metadata": {},
   "outputs": [
    {
     "data": {
      "text/latex": [
       "$\\displaystyle u =\\left[\\begin{matrix}- \\frac{\\sqrt{3}}{6}\\\\\\frac{\\sqrt{3}}{6}\\\\- \\frac{\\sqrt{3}}{2}\\\\\\frac{\\sqrt{3}}{6}\\end{matrix}\\right]$"
      ],
      "text/plain": [
       "<IPython.core.display.Math object>"
      ]
     },
     "metadata": {},
     "output_type": "display_data"
    }
   ],
   "source": [
    "# c)\n",
    "u4 = Matrix([u1.T, u2.T, u3.T]).nullspace()[0].normalized()\n",
    "display(Math(r'u =' + latex(u4)))"
   ]
  },
  {
   "cell_type": "code",
   "execution_count": 30,
   "metadata": {},
   "outputs": [
    {
     "data": {
      "text/latex": [
       "$\\displaystyle \\text{det}(M) =-1$"
      ],
      "text/plain": [
       "<IPython.core.display.Math object>"
      ]
     },
     "metadata": {},
     "output_type": "display_data"
    }
   ],
   "source": [
    "# d)\n",
    "display(Math(r'\\text{det}(M) =' + latex(Matrix([u1.T, u2.T, u3.T, u4.T]).det())))"
   ]
  },
  {
   "cell_type": "markdown",
   "metadata": {},
   "source": [
    "## Assignment 5"
   ]
  },
  {
   "cell_type": "code",
   "execution_count": null,
   "metadata": {},
   "outputs": [],
   "source": [
    "# a)"
   ]
  },
  {
   "attachments": {
    "image.png": {
     "image/png": "[encoded data removed]"
    }
   },
   "cell_type": "markdown",
   "metadata": {},
   "source": [
    "![image.png](attachment:image.png)"
   ]
  },
  {
   "attachments": {
    "image.png": {
     "image/png": "[encoded data removed]"
    }
   },
   "cell_type": "markdown",
   "metadata": {},
   "source": [
    "![image.png](attachment:image.png)"
   ]
  },
  {
   "cell_type": "code",
   "execution_count": 32,
   "metadata": {},
   "outputs": [
    {
     "data": {
      "image/png": "[encoded data removed]",
      "text/latex": [
       "$\\displaystyle \\lambda \\left(\\lambda - 5\\right)^{2}$"
      ],
      "text/plain": [
       "         2\n",
       "λ⋅(λ - 5) "
      ]
     },
     "execution_count": 32,
     "metadata": {},
     "output_type": "execute_result"
    }
   ],
   "source": [
    "A = Matrix([[1,0,-2],[0,5,0],[-2,0,4]])\n",
    "lamda = symbols('lamda')\n",
    "p = A.charpoly(lamda)\n",
    "factor(p.as_expr())"
   ]
  },
  {
   "cell_type": "code",
   "execution_count": 33,
   "metadata": {},
   "outputs": [
    {
     "data": {
      "text/latex": [
       "$\\displaystyle \\left[ \\left( 0, \\  1, \\  \\left[ \\left[\\begin{matrix}2\\\\0\\\\1\\end{matrix}\\right]\\right]\\right), \\  \\left( 5, \\  2, \\  \\left[ \\left[\\begin{matrix}0\\\\1\\\\0\\end{matrix}\\right], \\  \\left[\\begin{matrix}- \\frac{1}{2}\\\\0\\\\1\\end{matrix}\\right]\\right]\\right)\\right]$"
      ],
      "text/plain": [
       "⎡⎛      ⎡⎡2⎤⎤⎞  ⎛      ⎡⎡0⎤  ⎡-1/2⎤⎤⎞⎤\n",
       "⎢⎜      ⎢⎢ ⎥⎥⎟  ⎜      ⎢⎢ ⎥  ⎢    ⎥⎥⎟⎥\n",
       "⎢⎜0, 1, ⎢⎢0⎥⎥⎟, ⎜5, 2, ⎢⎢1⎥, ⎢ 0  ⎥⎥⎟⎥\n",
       "⎢⎜      ⎢⎢ ⎥⎥⎟  ⎜      ⎢⎢ ⎥  ⎢    ⎥⎥⎟⎥\n",
       "⎣⎝      ⎣⎣1⎦⎦⎠  ⎝      ⎣⎣0⎦  ⎣ 1  ⎦⎦⎠⎦"
      ]
     },
     "execution_count": 33,
     "metadata": {},
     "output_type": "execute_result"
    }
   ],
   "source": [
    "# b)\n",
    "A.eigenvects()"
   ]
  },
  {
   "cell_type": "code",
   "execution_count": 34,
   "metadata": {},
   "outputs": [
    {
     "data": {
      "text/latex": [
       "$\\displaystyle \\left[ \\left[\\begin{matrix}\\frac{2 \\sqrt{5}}{5}\\\\0\\\\\\frac{\\sqrt{5}}{5}\\end{matrix}\\right], \\  \\left[\\begin{matrix}- \\frac{\\sqrt{5}}{5}\\\\0\\\\\\frac{2 \\sqrt{5}}{5}\\end{matrix}\\right], \\  \\left[\\begin{matrix}0\\\\1\\\\0\\end{matrix}\\right]\\right]$"
      ],
      "text/plain": [
       "⎡⎡2⋅√5⎤  ⎡-√5 ⎤     ⎤\n",
       "⎢⎢────⎥  ⎢────⎥     ⎥\n",
       "⎢⎢ 5  ⎥  ⎢ 5  ⎥  ⎡0⎤⎥\n",
       "⎢⎢    ⎥  ⎢    ⎥  ⎢ ⎥⎥\n",
       "⎢⎢ 0  ⎥, ⎢ 0  ⎥, ⎢1⎥⎥\n",
       "⎢⎢    ⎥  ⎢    ⎥  ⎢ ⎥⎥\n",
       "⎢⎢ √5 ⎥  ⎢2⋅√5⎥  ⎣0⎦⎥\n",
       "⎢⎢ ── ⎥  ⎢────⎥     ⎥\n",
       "⎣⎣ 5  ⎦  ⎣ 5  ⎦     ⎦"
      ]
     },
     "execution_count": 34,
     "metadata": {},
     "output_type": "execute_result"
    }
   ],
   "source": [
    "# c)\n",
    "u1 = A.eigenvects()[0][2][0].normalized()\n",
    "u2 = A.eigenvects()[1][2][1].normalized()\n",
    "u3 = A.eigenvects()[1][2][0].normalized()\n",
    "GramSchmidt([u1,u2,u3])"
   ]
  },
  {
   "cell_type": "code",
   "execution_count": 35,
   "metadata": {},
   "outputs": [
    {
     "data": {
      "text/latex": [
       "$$\\left[\\begin{matrix}\\frac{2 \\sqrt{5}}{5} & - \\frac{\\sqrt{5}}{5} & 0\\\\0 & 0 & 1\\\\\\frac{\\sqrt{5}}{5} & \\frac{2 \\sqrt{5}}{5} & 0\\end{matrix}\\right]\\left[\\begin{matrix}0 & 0 & 0\\\\0 & 5 & 0\\\\0 & 0 & 5\\end{matrix}\\right]\\left[\\begin{matrix}\\frac{2 \\sqrt{5}}{5} & 0 & \\frac{\\sqrt{5}}{5}\\\\- \\frac{\\sqrt{5}}{5} & 0 & \\frac{2 \\sqrt{5}}{5}\\\\0 & 1 & 0\\end{matrix}\\right]$$"
      ],
      "text/plain": [
       "<IPython.core.display.Latex object>"
      ]
     },
     "metadata": {},
     "output_type": "display_data"
    }
   ],
   "source": [
    "S = GramSchmidt([u1,u2,u3])[0].row_join(GramSchmidt([u1,u2,u3])[1]).row_join(GramSchmidt([u1,u2,u3])[2])\n",
    "Sinv = S**-1\n",
    "D = diag(0,5,5)\n",
    "display(Latex(\"$${}{}{}$$\".format(latex(S), latex(D), latex(Sinv))))"
   ]
  },
  {
   "attachments": {
    "image.png": {
     "image/png": "[encoded data removed]"
    }
   },
   "cell_type": "markdown",
   "metadata": {},
   "source": [
    "The values from the matrices can be factorised so that you obtain\n",
    "\n",
    "![image.png](attachment:image.png)"
   ]
  },
  {
   "cell_type": "code",
   "execution_count": 36,
   "metadata": {},
   "outputs": [
    {
     "data": {
      "text/latex": [
       "$\\displaystyle \\left[\\begin{matrix}\\frac{4 \\cdot 0^{k}}{5} + \\frac{5^{k}}{5} & 0 & \\frac{2 \\cdot 0^{k}}{5} - \\frac{2 \\cdot 5^{k}}{5}\\\\0 & 5^{k} & 0\\\\\\frac{2 \\cdot 0^{k}}{5} - \\frac{2 \\cdot 5^{k}}{5} & 0 & \\frac{0^{k}}{5} + \\frac{4 \\cdot 5^{k}}{5}\\end{matrix}\\right]$"
      ],
      "text/plain": [
       "⎡    k    k          k      k⎤\n",
       "⎢ 4⋅0    5        2⋅0    2⋅5 ⎥\n",
       "⎢ ──── + ──   0   ──── - ────⎥\n",
       "⎢  5     5         5      5  ⎥\n",
       "⎢                            ⎥\n",
       "⎢              k             ⎥\n",
       "⎢     0       5        0     ⎥\n",
       "⎢                            ⎥\n",
       "⎢   k      k        k      k ⎥\n",
       "⎢2⋅0    2⋅5        0    4⋅5  ⎥\n",
       "⎢──── - ────  0    ── + ──── ⎥\n",
       "⎣ 5      5         5     5   ⎦"
      ]
     },
     "execution_count": 36,
     "metadata": {},
     "output_type": "execute_result"
    }
   ],
   "source": [
    "k = symbols('k')\n",
    "S*(D**k)*Sinv"
   ]
  },
  {
   "attachments": {
    "image.png": {
     "image/png": "[encoded data removed]"
    }
   },
   "cell_type": "markdown",
   "metadata": {},
   "source": [
    "The values from the matrices can be factorised so that you obtain\n",
    "\n",
    "![image.png](attachment:image.png)"
   ]
  },
  {
   "cell_type": "markdown",
   "metadata": {},
   "source": [
    "## Assignment 6"
   ]
  },
  {
   "cell_type": "code",
   "execution_count": 2,
   "metadata": {},
   "outputs": [
    {
     "data": {
      "text/html": [
       "<div>\n",
       "<style scoped>\n",
       "    .dataframe tbody tr th:only-of-type {\n",
       "        vertical-align: middle;\n",
       "    }\n",
       "\n",
       "    .dataframe tbody tr th {\n",
       "        vertical-align: top;\n",
       "    }\n",
       "\n",
       "    .dataframe thead th {\n",
       "        text-align: right;\n",
       "    }\n",
       "</style>\n",
       "<table border=\"1\" class=\"dataframe\">\n",
       "  <thead>\n",
       "    <tr style=\"text-align: right;\">\n",
       "      <th></th>\n",
       "      <th>0</th>\n",
       "    </tr>\n",
       "  </thead>\n",
       "  <tbody>\n",
       "    <tr>\n",
       "      <th>0</th>\n",
       "      <td>1</td>\n",
       "    </tr>\n",
       "    <tr>\n",
       "      <th>1</th>\n",
       "      <td>11</td>\n",
       "    </tr>\n",
       "    <tr>\n",
       "      <th>2</th>\n",
       "      <td>21</td>\n",
       "    </tr>\n",
       "    <tr>\n",
       "      <th>3</th>\n",
       "      <td>30</td>\n",
       "    </tr>\n",
       "    <tr>\n",
       "      <th>4</th>\n",
       "      <td>40</td>\n",
       "    </tr>\n",
       "  </tbody>\n",
       "</table>\n",
       "</div>"
      ],
      "text/plain": [
       "    0\n",
       "0   1\n",
       "1  11\n",
       "2  21\n",
       "3  30\n",
       "4  40"
      ]
     },
     "execution_count": 2,
     "metadata": {},
     "output_type": "execute_result"
    }
   ],
   "source": [
    "x = pd.DataFrame([1, 11, 21, 30, 40, 50, 60, 70, 81, 90, 99, 109, 118])\n",
    "y = pd.DataFrame([2450, 2757, 3262, 3551, 3844, 4281, 4585, 4938,5124, 5135, 5314, 5511, 5806])\n",
    "x.head()"
   ]
  },
  {
   "cell_type": "code",
   "execution_count": 3,
   "metadata": {},
   "outputs": [
    {
     "data": {
      "image/png": "[encoded data removed]",
      "text/latex": [
       "$\\displaystyle \\left[ 1, \\  11, \\  21, \\  30, \\  40, \\  50, \\  60, \\  70, \\  81, \\  90, \\  99, \\  109, \\  118\\right]$"
      ],
      "text/plain": [
       "[1, 11, 21, 30, 40, 50, 60, 70, 81, 90, 99, 109, 118]"
      ]
     },
     "execution_count": 3,
     "metadata": {},
     "output_type": "execute_result"
    }
   ],
   "source": [
    "x1 = ([1, 11, 21, 30, 40, 50, 60, 70, 81, 90, 99, 109, 118])\n",
    "x1"
   ]
  },
  {
   "cell_type": "code",
   "execution_count": 4,
   "metadata": {},
   "outputs": [
    {
     "data": {
      "text/latex": [
       "$\\displaystyle X_1 = \\left[\\begin{matrix}1 & 1\\\\1 & 1331\\\\1 & 9261\\\\1 & 27000\\\\1 & 64000\\\\1 & 125000\\\\1 & 216000\\\\1 & 343000\\\\1 & 531441\\\\1 & 729000\\\\1 & 970299\\\\1 & 1295029\\\\1 & 1643032\\end{matrix}\\right]\\quad X_2 = \\left[\\begin{matrix}1 & 1 & 1\\\\1 & 11 & 1331\\\\1 & 21 & 9261\\\\1 & 30 & 27000\\\\1 & 40 & 64000\\\\1 & 50 & 125000\\\\1 & 60 & 216000\\\\1 & 70 & 343000\\\\1 & 81 & 531441\\\\1 & 90 & 729000\\\\1 & 99 & 970299\\\\1 & 109 & 1295029\\\\1 & 118 & 1643032\\end{matrix}\\right]\\quad X_3 = \\left[\\begin{matrix}1 & 1\\\\1 & 11\\\\1 & 21\\\\1 & 30\\\\1 & 40\\\\1 & 50\\\\1 & 60\\\\1 & 70\\\\1 & 81\\\\1 & 90\\\\1 & 99\\\\1 & 109\\\\1 & 118\\end{matrix}\\right]\\quad y = \\left[\\begin{matrix}2450\\\\2757\\\\3262\\\\3551\\\\3844\\\\4281\\\\4585\\\\4938\\\\5124\\\\5135\\\\5314\\\\5511\\\\5806\\end{matrix}\\right]$"
      ],
      "text/plain": [
       "<IPython.core.display.Math object>"
      ]
     },
     "metadata": {},
     "output_type": "display_data"
    }
   ],
   "source": [
    "X1 = Matrix([ones(len(x), 1)]).row_join(Matrix(x**3))\n",
    "X2 = Matrix([ones(len(x), 1)]).row_join(Matrix(x)).row_join(Matrix(x**3))\n",
    "X3 = Matrix([ones(len(x), 1)]).row_join(Matrix(x))\n",
    "\n",
    "display(Math(r'X_1 = ' + latex(X1) + r'\\quad X_2 = ' + latex(X2) + r'\\quad X_3 = ' + latex(X3) + r'\\quad y = '\n",
    "             + latex(Matrix(y))))"
   ]
  },
  {
   "cell_type": "code",
   "execution_count": 5,
   "metadata": {},
   "outputs": [],
   "source": [
    "X1tX1 = X1.T*X1\n",
    "X1ty = X1.T*Matrix(y)\n",
    "Mat, _ = X1tX1.row_join(X1ty).rref()\n",
    "B1 = Mat[:,-1]\n",
    "\n",
    "\n",
    "X2tX2 = X2.T*X2\n",
    "X2ty = X2.T*Matrix(y)\n",
    "Mat, _ = X2tX2.row_join(X2ty).rref()\n",
    "B2 = Mat[:,-1]\n",
    "\n",
    "\n",
    "X3tX3 = X3.T*X3\n",
    "X3ty = X3.T*Matrix(y)\n",
    "Mat, _ = X3tX3.row_join(X3ty).rref()\n",
    "B3 = Mat[:,-1]\n"
   ]
  },
  {
   "cell_type": "code",
   "execution_count": 6,
   "metadata": {},
   "outputs": [
    {
     "data": {
      "text/latex": [
       "$\\displaystyle X_1^TX_1 = \\left[\\begin{matrix}13 & 5954394\\\\5954394 & 6316847487430\\end{matrix}\\right]$"
      ],
      "text/plain": [
       "<IPython.core.display.Math object>"
      ]
     },
     "metadata": {},
     "output_type": "display_data"
    },
    {
     "data": {
      "text/latex": [
       "$\\displaystyle X_1^Ty = \\left[\\begin{matrix}56558\\\\31894029580\\end{matrix}\\right]$"
      ],
      "text/plain": [
       "<IPython.core.display.Math object>"
      ]
     },
     "metadata": {},
     "output_type": "display_data"
    },
    {
     "data": {
      "text/latex": [
       "$\\displaystyle X_2^TX_2 = \\left[\\begin{matrix}13 & 780 & 5954394\\\\780 & 64330 & 586551382\\\\5954394 & 586551382 & 6316847487430\\end{matrix}\\right]$"
      ],
      "text/plain": [
       "<IPython.core.display.Math object>"
      ]
     },
     "metadata": {},
     "output_type": "display_data"
    },
    {
     "data": {
      "text/latex": [
       "$\\displaystyle X_2^Ty = \\left[\\begin{matrix}56558\\\\3885466\\\\31894029580\\end{matrix}\\right]$"
      ],
      "text/plain": [
       "<IPython.core.display.Math object>"
      ]
     },
     "metadata": {},
     "output_type": "display_data"
    },
    {
     "data": {
      "text/latex": [
       "$\\displaystyle X_3^TX_3 = \\left[\\begin{matrix}13 & 780\\\\780 & 64330\\end{matrix}\\right]$"
      ],
      "text/plain": [
       "<IPython.core.display.Math object>"
      ]
     },
     "metadata": {},
     "output_type": "display_data"
    },
    {
     "data": {
      "text/latex": [
       "$\\displaystyle X_3^Ty = \\left[\\begin{matrix}56558\\\\3885466\\end{matrix}\\right]$"
      ],
      "text/plain": [
       "<IPython.core.display.Math object>"
      ]
     },
     "metadata": {},
     "output_type": "display_data"
    }
   ],
   "source": [
    "# a)\n",
    "display(Math(r'X_1^TX_1 = ' + latex(X1tX1)))\n",
    "display(Math(r'X_1^Ty = ' + latex(X1ty)))\n",
    "display(Math(r'X_2^TX_2 = ' + latex(X2tX2)))\n",
    "display(Math(r'X_2^Ty = ' + latex(X2ty)))\n",
    "display(Math(r'X_3^TX_3 = ' + latex(X3tX3)))\n",
    "display(Math(r'X_3^Ty = ' + latex(X3ty)))"
   ]
  },
  {
   "cell_type": "code",
   "execution_count": 7,
   "metadata": {},
   "outputs": [
    {
     "data": {
      "text/latex": [
       "$$y_1(t) = 3586.45+0.00167t^3$$"
      ],
      "text/plain": [
       "<IPython.core.display.Latex object>"
      ]
     },
     "metadata": {},
     "output_type": "display_data"
    },
    {
     "data": {
      "text/latex": [
       "$$y_2(t) = 2419.75+37.9504t+-0.0008t^3$$"
      ],
      "text/plain": [
       "<IPython.core.display.Latex object>"
      ]
     },
     "metadata": {},
     "output_type": "display_data"
    },
    {
     "data": {
      "text/latex": [
       "$$y_3(t) = 2666.69+28.0654t$$"
      ],
      "text/plain": [
       "<IPython.core.display.Latex object>"
      ]
     },
     "metadata": {},
     "output_type": "display_data"
    }
   ],
   "source": [
    "# b)\n",
    "display(Latex(\"$$y_1(t) = {}+{}t^3$$\".format(round(B1[0],2), round(B1[1], 5))))\n",
    "display(Latex(\"$$y_2(t) = {}+{}t+{}t^3$$\".format(round(B2[0],2), round(B2[1], 4), round(B2[2], 4))))\n",
    "display(Latex(\"$$y_3(t) = {}+{}t$$\".format(round(B3[0],2), round(B3[1], 4))))"
   ]
  },
  {
   "cell_type": "code",
   "execution_count": 146,
   "metadata": {},
   "outputs": [
    {
     "data": {
      "text/latex": [
       "$$e_1 = 2062.15$$"
      ],
      "text/plain": [
       "<IPython.core.display.Latex object>"
      ]
     },
     "metadata": {},
     "output_type": "display_data"
    },
    {
     "data": {
      "text/latex": [
       "$$e_2 = 314.56$$"
      ],
      "text/plain": [
       "<IPython.core.display.Latex object>"
      ]
     },
     "metadata": {},
     "output_type": "display_data"
    },
    {
     "data": {
      "text/latex": [
       "$$e_3 = 660.48$$"
      ],
      "text/plain": [
       "<IPython.core.display.Latex object>"
      ]
     },
     "metadata": {},
     "output_type": "display_data"
    }
   ],
   "source": [
    "# c)\n",
    "display(Latex(\"$$e_1 = {}$$\".format(round((Matrix(y)-X1*B1).norm(), 2))))\n",
    "display(Latex(\"$$e_2 = {}$$\".format(round((Matrix(y)-X2*B2).norm(), 2))))\n",
    "display(Latex(\"$$e_3 = {}$$\".format(round((Matrix(y)-X3*B3).norm(), 2))))"
   ]
  },
  {
   "cell_type": "code",
   "execution_count": null,
   "metadata": {},
   "outputs": [],
   "source": [
    "# Model 2 is the best"
   ]
  },
  {
   "cell_type": "code",
   "execution_count": 52,
   "metadata": {},
   "outputs": [
    {
     "data": {
      "text/latex": [
       "$$f_2(150) =5562$$"
      ],
      "text/plain": [
       "<IPython.core.display.Latex object>"
      ]
     },
     "metadata": {},
     "output_type": "display_data"
    }
   ],
   "source": [
    "# d)\n",
    "display(Latex(\"$$f_2(150) ={}$$\".format(round(float(B2[0]+B2[1]*150 + B2[2]*150**3)))))"
   ]
  },
  {
   "cell_type": "markdown",
   "metadata": {},
   "source": [
    "## Assignment 7"
   ]
  },
  {
   "cell_type": "code",
   "execution_count": 2,
   "metadata": {},
   "outputs": [
    {
     "data": {
      "text/latex": [
       "$\\displaystyle \\left[ \\left( 4, \\  1, \\  \\left[ \\left[\\begin{matrix}1\\\\1\\\\0\\end{matrix}\\right]\\right]\\right), \\  \\left( 16, \\  1, \\  \\left[ \\left[\\begin{matrix}0\\\\0\\\\1\\end{matrix}\\right]\\right]\\right), \\  \\left( 36, \\  1, \\  \\left[ \\left[\\begin{matrix}-1\\\\1\\\\0\\end{matrix}\\right]\\right]\\right)\\right]$"
      ],
      "text/plain": [
       "⎡⎛      ⎡⎡1⎤⎤⎞  ⎛       ⎡⎡0⎤⎤⎞  ⎛       ⎡⎡-1⎤⎤⎞⎤\n",
       "⎢⎜      ⎢⎢ ⎥⎥⎟  ⎜       ⎢⎢ ⎥⎥⎟  ⎜       ⎢⎢  ⎥⎥⎟⎥\n",
       "⎢⎜4, 1, ⎢⎢1⎥⎥⎟, ⎜16, 1, ⎢⎢0⎥⎥⎟, ⎜36, 1, ⎢⎢1 ⎥⎥⎟⎥\n",
       "⎢⎜      ⎢⎢ ⎥⎥⎟  ⎜       ⎢⎢ ⎥⎥⎟  ⎜       ⎢⎢  ⎥⎥⎟⎥\n",
       "⎣⎝      ⎣⎣0⎦⎦⎠  ⎝       ⎣⎣1⎦⎦⎠  ⎝       ⎣⎣0 ⎦⎦⎠⎦"
      ]
     },
     "execution_count": 2,
     "metadata": {},
     "output_type": "execute_result"
    }
   ],
   "source": [
    "A = Matrix([[3,-3,2],[1,1,2],[-3,3,2],[-1,-1,2]])\n",
    "AtA = A.T*A\n",
    "vecs1 = AtA.eigenvects()\n",
    "vecs1"
   ]
  },
  {
   "cell_type": "code",
   "execution_count": 3,
   "metadata": {},
   "outputs": [
    {
     "data": {
      "text/latex": [
       "$\\displaystyle U \\Sigma V^T = \\left[\\begin{matrix}- \\frac{\\sqrt{2}}{2} & \\frac{1}{2} & 0 & - \\frac{1}{2}\\\\0 & \\frac{1}{2} & \\frac{\\sqrt{2}}{2} & \\frac{1}{2}\\\\\\frac{\\sqrt{2}}{2} & \\frac{1}{2} & 0 & - \\frac{1}{2}\\\\0 & \\frac{1}{2} & - \\frac{\\sqrt{2}}{2} & \\frac{1}{2}\\end{matrix}\\right]\\left[\\begin{matrix}6 & 0 & 0\\\\0 & 4 & 0\\\\0 & 0 & 2\\\\0 & 0 & 0\\end{matrix}\\right]\\left[\\begin{matrix}- \\frac{\\sqrt{2}}{2} & \\frac{\\sqrt{2}}{2} & 0\\\\0 & 0 & 1\\\\\\frac{\\sqrt{2}}{2} & \\frac{\\sqrt{2}}{2} & 0\\end{matrix}\\right]$"
      ],
      "text/plain": [
       "<IPython.core.display.Math object>"
      ]
     },
     "metadata": {},
     "output_type": "display_data"
    },
    {
     "data": {
      "text/latex": [
       "Test:"
      ],
      "text/plain": [
       "<IPython.core.display.Latex object>"
      ]
     },
     "metadata": {},
     "output_type": "display_data"
    },
    {
     "data": {
      "text/latex": [
       "$\\displaystyle \\left[\\begin{matrix}3 & -3 & 2\\\\1 & 1 & 2\\\\-3 & 3 & 2\\\\-1 & -1 & 2\\end{matrix}\\right]$"
      ],
      "text/plain": [
       "⎡3   -3  2⎤\n",
       "⎢         ⎥\n",
       "⎢1   1   2⎥\n",
       "⎢         ⎥\n",
       "⎢-3  3   2⎥\n",
       "⎢         ⎥\n",
       "⎣-1  -1  2⎦"
      ]
     },
     "metadata": {},
     "output_type": "display_data"
    },
    {
     "data": {
      "text/latex": [
       "$\\displaystyle \\left[\\begin{matrix}3 & -3 & 2\\\\1 & 1 & 2\\\\-3 & 3 & 2\\\\-1 & -1 & 2\\end{matrix}\\right]$"
      ],
      "text/plain": [
       "⎡3   -3  2⎤\n",
       "⎢         ⎥\n",
       "⎢1   1   2⎥\n",
       "⎢         ⎥\n",
       "⎢-3  3   2⎥\n",
       "⎢         ⎥\n",
       "⎣-1  -1  2⎦"
      ]
     },
     "metadata": {},
     "output_type": "display_data"
    },
    {
     "data": {
      "text/plain": [
       "True"
      ]
     },
     "metadata": {},
     "output_type": "display_data"
    }
   ],
   "source": [
    "# a)\n",
    "s1 = sqrt(vecs1[2][0])\n",
    "s2 = sqrt(vecs1[1][0])\n",
    "s3 = sqrt(vecs1[0][0])\n",
    "\n",
    "v1 = vecs1[2][2][0].normalized()\n",
    "v2 = vecs1[1][2][0].normalized()\n",
    "v3 = vecs1[0][2][0].normalized()\n",
    "\n",
    "u1 = ((s1**-1)*A*v1)\n",
    "u2 = ((s2**-1)*A*v2)\n",
    "u3 = ((s3**-1)*A*v3)\n",
    "\n",
    "# We need one more eigenvectors for U\n",
    "\n",
    "u4 = Matrix([u1.T, u2.T, u3.T]).nullspace()[0].normalized()\n",
    "\n",
    "U1 = u1.row_join(u2).row_join(u3).row_join(u4)\n",
    "V = v1.row_join(v2).row_join(v3)\n",
    "Vt1 = V.T\n",
    "S1 = diag(s1,s2,s3).col_join(zeros(1,3))\n",
    "\n",
    "display(Math('U \\Sigma V^T = {}{}{}'.format(latex(U1), latex(S1), latex(Vt1))))\n",
    "display(Latex(\"Test:\"))\n",
    "display(U1*S1*Vt1)\n",
    "display(A)\n",
    "display(U1*S1*Vt1==A)"
   ]
  },
  {
   "cell_type": "code",
   "execution_count": 4,
   "metadata": {},
   "outputs": [
    {
     "data": {
      "text/latex": [
       "$\\displaystyle \\left[ \\left( 0, \\  1, \\  \\left[ \\left[\\begin{matrix}-1\\\\1\\\\-1\\\\1\\end{matrix}\\right]\\right]\\right), \\  \\left( 4, \\  1, \\  \\left[ \\left[\\begin{matrix}0\\\\-1\\\\0\\\\1\\end{matrix}\\right]\\right]\\right), \\  \\left( 16, \\  1, \\  \\left[ \\left[\\begin{matrix}1\\\\1\\\\1\\\\1\\end{matrix}\\right]\\right]\\right), \\  \\left( 36, \\  1, \\  \\left[ \\left[\\begin{matrix}-1\\\\0\\\\1\\\\0\\end{matrix}\\right]\\right]\\right)\\right]$"
      ],
      "text/plain": [
       "⎡⎛      ⎡⎡-1⎤⎤⎞  ⎛      ⎡⎡0 ⎤⎤⎞  ⎛       ⎡⎡1⎤⎤⎞  ⎛       ⎡⎡-1⎤⎤⎞⎤\n",
       "⎢⎜      ⎢⎢  ⎥⎥⎟  ⎜      ⎢⎢  ⎥⎥⎟  ⎜       ⎢⎢ ⎥⎥⎟  ⎜       ⎢⎢  ⎥⎥⎟⎥\n",
       "⎢⎜      ⎢⎢1 ⎥⎥⎟  ⎜      ⎢⎢-1⎥⎥⎟  ⎜       ⎢⎢1⎥⎥⎟  ⎜       ⎢⎢0 ⎥⎥⎟⎥\n",
       "⎢⎜0, 1, ⎢⎢  ⎥⎥⎟, ⎜4, 1, ⎢⎢  ⎥⎥⎟, ⎜16, 1, ⎢⎢ ⎥⎥⎟, ⎜36, 1, ⎢⎢  ⎥⎥⎟⎥\n",
       "⎢⎜      ⎢⎢-1⎥⎥⎟  ⎜      ⎢⎢0 ⎥⎥⎟  ⎜       ⎢⎢1⎥⎥⎟  ⎜       ⎢⎢1 ⎥⎥⎟⎥\n",
       "⎢⎜      ⎢⎢  ⎥⎥⎟  ⎜      ⎢⎢  ⎥⎥⎟  ⎜       ⎢⎢ ⎥⎥⎟  ⎜       ⎢⎢  ⎥⎥⎟⎥\n",
       "⎣⎝      ⎣⎣1 ⎦⎦⎠  ⎝      ⎣⎣1 ⎦⎦⎠  ⎝       ⎣⎣1⎦⎦⎠  ⎝       ⎣⎣0 ⎦⎦⎠⎦"
      ]
     },
     "execution_count": 4,
     "metadata": {},
     "output_type": "execute_result"
    }
   ],
   "source": [
    "# b)\n",
    "A = Matrix([[3,-3,2],[1,1,2],[-3,3,2],[-1,-1,2]])\n",
    "AAt = A*A.T\n",
    "vecs = AAt.eigenvects()\n",
    "vecs"
   ]
  },
  {
   "cell_type": "code",
   "execution_count": 5,
   "metadata": {},
   "outputs": [
    {
     "data": {
      "text/latex": [
       "$\\displaystyle U \\Sigma V^T = \\left[\\begin{matrix}- \\frac{\\sqrt{2}}{2} & \\frac{1}{2} & 0 & - \\frac{1}{2}\\\\0 & \\frac{1}{2} & - \\frac{\\sqrt{2}}{2} & \\frac{1}{2}\\\\\\frac{\\sqrt{2}}{2} & \\frac{1}{2} & 0 & - \\frac{1}{2}\\\\0 & \\frac{1}{2} & \\frac{\\sqrt{2}}{2} & \\frac{1}{2}\\end{matrix}\\right]\\left[\\begin{matrix}6 & 0 & 0\\\\0 & 4 & 0\\\\0 & 0 & 2\\\\0 & 0 & 0\\end{matrix}\\right]\\left[\\begin{matrix}- \\frac{\\sqrt{2}}{2} & \\frac{\\sqrt{2}}{2} & 0\\\\0 & 0 & 1\\\\- \\frac{\\sqrt{2}}{2} & - \\frac{\\sqrt{2}}{2} & 0\\end{matrix}\\right]$"
      ],
      "text/plain": [
       "<IPython.core.display.Math object>"
      ]
     },
     "metadata": {},
     "output_type": "display_data"
    },
    {
     "data": {
      "text/latex": [
       "Test:"
      ],
      "text/plain": [
       "<IPython.core.display.Latex object>"
      ]
     },
     "metadata": {},
     "output_type": "display_data"
    },
    {
     "data": {
      "text/latex": [
       "$\\displaystyle \\left[\\begin{matrix}3 & -3 & 2\\\\1 & 1 & 2\\\\-3 & 3 & 2\\\\-1 & -1 & 2\\end{matrix}\\right]$"
      ],
      "text/plain": [
       "⎡3   -3  2⎤\n",
       "⎢         ⎥\n",
       "⎢1   1   2⎥\n",
       "⎢         ⎥\n",
       "⎢-3  3   2⎥\n",
       "⎢         ⎥\n",
       "⎣-1  -1  2⎦"
      ]
     },
     "metadata": {},
     "output_type": "display_data"
    },
    {
     "data": {
      "text/latex": [
       "$\\displaystyle \\left[\\begin{matrix}3 & -3 & 2\\\\1 & 1 & 2\\\\-3 & 3 & 2\\\\-1 & -1 & 2\\end{matrix}\\right]$"
      ],
      "text/plain": [
       "⎡3   -3  2⎤\n",
       "⎢         ⎥\n",
       "⎢1   1   2⎥\n",
       "⎢         ⎥\n",
       "⎢-3  3   2⎥\n",
       "⎢         ⎥\n",
       "⎣-1  -1  2⎦"
      ]
     },
     "metadata": {},
     "output_type": "display_data"
    },
    {
     "data": {
      "text/plain": [
       "True"
      ]
     },
     "metadata": {},
     "output_type": "display_data"
    },
    {
     "data": {
      "text/plain": [
       "False"
      ]
     },
     "metadata": {},
     "output_type": "display_data"
    },
    {
     "data": {
      "text/plain": [
       "False"
      ]
     },
     "metadata": {},
     "output_type": "display_data"
    },
    {
     "data": {
      "text/plain": [
       "True"
      ]
     },
     "metadata": {},
     "output_type": "display_data"
    }
   ],
   "source": [
    "s1 = sqrt(vecs[3][0])\n",
    "s2 = sqrt(vecs[2][0])\n",
    "s3 = sqrt(vecs[1][0])\n",
    "\n",
    "u1 = vecs[3][2][0].normalized()\n",
    "u2 = vecs[2][2][0].normalized()\n",
    "u3 = vecs[1][2][0].normalized()\n",
    "u4 = vecs[0][2][0].normalized()\n",
    "\n",
    "U = u1.row_join(u2).row_join(u3).row_join(u4)\n",
    "S = diag(s1,s2,s3).col_join(zeros(1,3))\n",
    "\n",
    "v1 = Rational(1,6) * u1.T*A\n",
    "v2 = Rational(1,4) * u2.T*A\n",
    "v3 = Rational(1,2) * u3.T*A\n",
    "\n",
    "Vt = v1.col_join(v2).col_join(v3)\n",
    "\n",
    "display(Math('U \\Sigma V^T = {}{}{}'.format(latex(U), latex(S), latex(Vt))))\n",
    "display(Latex(\"Test:\"))\n",
    "display(U*S*Vt)\n",
    "display(A)\n",
    "display(U*S*Vt==A)\n",
    "display(U1 ==U)\n",
    "display(Vt1 ==Vt)\n",
    "display(S==S1)"
   ]
  }
 ],
 "metadata": {
  "kernelspec": {
   "display_name": "Python 3",
   "language": "python",
   "name": "python3"
  },
  "language_info": {
   "codemirror_mode": {
    "name": "ipython",
    "version": 3
   },
   "file_extension": ".py",
   "mimetype": "text/x-python",
   "name": "python",
   "nbconvert_exporter": "python",
   "pygments_lexer": "ipython3",
   "version": "3.11.1"
  }
 },
 "nbformat": 4,
 "nbformat_minor": 4
}
