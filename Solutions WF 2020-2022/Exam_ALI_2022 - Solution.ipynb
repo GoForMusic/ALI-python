{
 "cells": [
  {
   "cell_type": "code",
   "execution_count": 2,
   "metadata": {},
   "outputs": [],
   "source": [
    "import sympy as sp\n",
    "from scipy import *\n",
    "from sympy import *\n",
    "init_printing()\n",
    "from IPython.display import display, Latex, HTML, Math\n",
    "import numpy as np\n",
    "import pandas as pd\n",
    "from sympy import Rational as R"
   ]
  },
  {
   "cell_type": "markdown",
   "metadata": {},
   "source": [
    "# Assignment 1"
   ]
  },
  {
   "cell_type": "code",
   "execution_count": null,
   "metadata": {},
   "outputs": [],
   "source": [
    "# a)\n",
    "# i. False. A pivot in the last column would result in inconsistency.\n",
    "# ii. False. A may not be a square matrix. The invertible matrix theorem does not apply here.\n",
    "# iii. False. det(3A) = 2*3^n, where n is the number of rows/columns in A.\n",
    "# iv. True. Eigenspaces corresponding to distinct eigenvalues are always disjoint (except at 0).\n",
    "# v. False. The null space of A, which coincide with the eigenspace corresponding to 0, could have\n",
    "#    dimension 1 or 2. Thus rank(A) could be 4 or 5.\n",
    "# vi. True. One can always obtain an orthogonal basis by the Gram-Schmidt process."
   ]
  },
  {
   "cell_type": "code",
   "execution_count": 1,
   "metadata": {},
   "outputs": [],
   "source": [
    "# b) We can do row operations: subtract b times r1 from r2 and and b^2 times r1 from r2\n",
    "# and you will get two rows of zeros. That means free variables which means det A = 0.\n",
    "# You could also just try to find the determinant using Python."
   ]
  },
  {
   "cell_type": "code",
   "execution_count": 18,
   "metadata": {},
   "outputs": [
    {
     "data": {
      "image/png": "[encoded data removed]",
      "text/latex": [
       "$\\displaystyle \\left[ 3\\right]$"
      ],
      "text/plain": [
       "[3]"
      ]
     },
     "execution_count": 18,
     "metadata": {},
     "output_type": "execute_result"
    }
   ],
   "source": [
    "# c)\n",
    "# Use the known eigval to solve for b\n",
    "b = Symbol('b')\n",
    "b = solve((-1)**2 + b*(-1) + 2)\n",
    "l1 = -1\n",
    "b"
   ]
  },
  {
   "cell_type": "code",
   "execution_count": 19,
   "metadata": {},
   "outputs": [
    {
     "data": {
      "image/png": "[encoded data removed]",
      "text/latex": [
       "$\\displaystyle \\left( -2, \\  -1, \\  -1\\right)$"
      ],
      "text/plain": [
       "(-2, -1, -1)"
      ]
     },
     "execution_count": 19,
     "metadata": {},
     "output_type": "execute_result"
    }
   ],
   "source": [
    "# l^2 +3l + 2 = -(l+1)(l+2)(l+1)\n",
    "l1 = -2\n",
    "l2 = -1\n",
    "l3 = -1\n",
    "l1, l2, l3"
   ]
  },
  {
   "cell_type": "code",
   "execution_count": 23,
   "metadata": {},
   "outputs": [
    {
     "data": {
      "image/png": "[encoded data removed]",
      "text/latex": [
       "$\\displaystyle \\left( 4, \\  12\\right)$"
      ],
      "text/plain": [
       "(4, 12)"
      ]
     },
     "execution_count": 23,
     "metadata": {},
     "output_type": "execute_result"
    }
   ],
   "source": [
    "# d) Trace is sum of eigenvalues.\n",
    "l2 = Symbol('l2')\n",
    "l1 = 0\n",
    "l2 = solve(l1 + l2 + 3*l2 - 16, l2)[0]\n",
    "l2, 3*l2"
   ]
  },
  {
   "cell_type": "markdown",
   "metadata": {},
   "source": [
    "# Assignment 2"
   ]
  },
  {
   "cell_type": "markdown",
   "metadata": {},
   "source": [
    "$$\n",
    "\\begin{aligned}\n",
    "A^{3}-4 A^{2}+3 A-5 I_{n} &=0 \\\\\n",
    "5 I_{n} &=A^{3}-4 A^{2}+3 A \\\\\n",
    "5 \\cdot I_{n} A^{-1} &=\\left(A^{3}-4 A^{2}-3 A\\right) A^{-1} \\\\\n",
    "A^{-1} &=\\frac{1}{5}\\left(A^{2}-4 A+3 \\cdot I_{n}\\right)\n",
    "\\end{aligned}\n",
    "$$"
   ]
  },
  {
   "cell_type": "markdown",
   "metadata": {},
   "source": [
    "# Assignment 3"
   ]
  },
  {
   "cell_type": "code",
   "execution_count": 6,
   "metadata": {},
   "outputs": [
    {
     "data": {
      "image/png": "[encoded data removed]",
      "text/latex": [
       "$\\displaystyle \\left[\\begin{matrix}1 & 0 & 1 & 0 & q\\\\0 & 1 & 0 & 2 & 0\\\\0 & 0 & 1 & 3 & - q\\\\0 & 0 & 0 & p - 13 & 3 q + 3\\end{matrix}\\right]$"
      ],
      "text/plain": [
       "⎡1  0  1    0        q   ⎤\n",
       "⎢                        ⎥\n",
       "⎢0  1  0    2        0   ⎥\n",
       "⎢                        ⎥\n",
       "⎢0  0  1    3       -q   ⎥\n",
       "⎢                        ⎥\n",
       "⎣0  0  0  p - 13  3⋅q + 3⎦"
      ]
     },
     "execution_count": 6,
     "metadata": {},
     "output_type": "execute_result"
    }
   ],
   "source": [
    "# a)\n",
    "p, q = symbols('p q')\n",
    "Matrix([[1,0,1,0, q],[0,1,0,2, 0],[1,0,2,3, 0],[0,2,3,p, 3]]).echelon_form()"
   ]
  },
  {
   "cell_type": "code",
   "execution_count": null,
   "metadata": {},
   "outputs": [],
   "source": [
    "# unique: p != 13, q whatever\n",
    "# no solution: p = 13, q != -1\n",
    "# inf. solutions: p = 13, q = -1"
   ]
  },
  {
   "cell_type": "code",
   "execution_count": 15,
   "metadata": {},
   "outputs": [
    {
     "data": {
      "image/png": "[encoded data removed]",
      "text/latex": [
       "$\\displaystyle \\left[ \\left[\\begin{matrix}3\\\\-2\\\\-3\\\\1\\end{matrix}\\right]\\right]$"
      ],
      "text/plain": [
       "⎡⎡3 ⎤⎤\n",
       "⎢⎢  ⎥⎥\n",
       "⎢⎢-2⎥⎥\n",
       "⎢⎢  ⎥⎥\n",
       "⎢⎢-3⎥⎥\n",
       "⎢⎢  ⎥⎥\n",
       "⎣⎣1 ⎦⎦"
      ]
     },
     "execution_count": 15,
     "metadata": {},
     "output_type": "execute_result"
    }
   ],
   "source": [
    "# b)\n",
    "# Just insert p = 13 in the coefficient matrix and find nullspace\n",
    "A = Matrix([[1,0,1,0],[0,1,0,2],[1,0,2,3],[0,2,3,13]])\n",
    "A.nullspace()"
   ]
  },
  {
   "cell_type": "markdown",
   "metadata": {},
   "source": [
    "# Assignment 4"
   ]
  },
  {
   "cell_type": "code",
   "execution_count": 20,
   "metadata": {},
   "outputs": [
    {
     "data": {
      "image/png": "[encoded data removed]",
      "text/latex": [
       "$\\displaystyle \\left( \\left[\\begin{matrix}0\\\\0\\\\1\\end{matrix}\\right], \\  \\left( \\left[\\begin{matrix}2\\\\-5\\\\2\\\\0\\end{matrix}\\right], \\  \\left[\\begin{matrix}-2\\\\1\\\\0\\\\2\\end{matrix}\\right]\\right), \\  \\left[ \\left[\\begin{matrix}1\\\\1\\\\0\\end{matrix}\\right], \\  \\left[\\begin{matrix}-1\\\\0\\\\1\\end{matrix}\\right]\\right]\\right)$"
      ],
      "text/plain": [
       "⎛     ⎛⎡2 ⎤  ⎡-2⎤⎞             ⎞\n",
       "⎜⎡0⎤  ⎜⎢  ⎥  ⎢  ⎥⎟  ⎡⎡1⎤  ⎡-1⎤⎤⎟\n",
       "⎜⎢ ⎥  ⎜⎢-5⎥  ⎢1 ⎥⎟  ⎢⎢ ⎥  ⎢  ⎥⎥⎟\n",
       "⎜⎢0⎥, ⎜⎢  ⎥, ⎢  ⎥⎟, ⎢⎢1⎥, ⎢0 ⎥⎥⎟\n",
       "⎜⎢ ⎥  ⎜⎢2 ⎥  ⎢0 ⎥⎟  ⎢⎢ ⎥  ⎢  ⎥⎥⎟\n",
       "⎜⎣1⎦  ⎜⎢  ⎥  ⎢  ⎥⎟  ⎣⎣0⎦  ⎣1 ⎦⎦⎟\n",
       "⎝     ⎝⎣0 ⎦  ⎣2 ⎦⎠             ⎠"
      ]
     },
     "execution_count": 20,
     "metadata": {},
     "output_type": "execute_result"
    }
   ],
   "source": [
    "# a)\n",
    "W1 = Matrix([[1,1,0], [2,1,0]]).T\n",
    "W2 = Matrix([[1,2,4,0], [2,2,3,1]]).T\n",
    "W3 = Matrix([1, -1, 1])\n",
    "\n",
    "# We use \"the trick\" where just find the nullspace of the transpose since this will be\n",
    "# the orthogonal complement.\n",
    "W1C = W1.T.nullspace()[0]\n",
    "W2C = W2.T.nullspace()\n",
    "W3C = W3.T.nullspace()\n",
    "W1C, (2*W2C[0], 2*W2C[1]), W3C"
   ]
  },
  {
   "cell_type": "code",
   "execution_count": 27,
   "metadata": {},
   "outputs": [],
   "source": [
    "def pivots(M, n):\n",
    "    p = len(M.rref()[1])\n",
    "    return p == n"
   ]
  },
  {
   "cell_type": "code",
   "execution_count": 40,
   "metadata": {},
   "outputs": [
    {
     "data": {
      "text/plain": [
       "True"
      ]
     },
     "metadata": {},
     "output_type": "display_data"
    },
    {
     "data": {
      "text/plain": [
       "False"
      ]
     },
     "metadata": {},
     "output_type": "display_data"
    },
    {
     "data": {
      "text/plain": [
       "True"
      ]
     },
     "metadata": {},
     "output_type": "display_data"
    },
    {
     "data": {
      "text/plain": [
       "False"
      ]
     },
     "metadata": {},
     "output_type": "display_data"
    },
    {
     "data": {
      "text/plain": [
       "True"
      ]
     },
     "metadata": {},
     "output_type": "display_data"
    }
   ],
   "source": [
    "# b)\n",
    "\n",
    "# We must check 3 things (technically 2):\n",
    "    # 1) Make sure that the number entries (i.e. number of rows) match the dimension of the space we are interested in\n",
    "    # 2) Make sure that we have as many pivots as the dimension from (1)\n",
    "    # 3) Make sure we have no more columns than pivots, since then it would not be a basis\n",
    "    \n",
    "V1 = Matrix.hstack(W1, W1C)\n",
    "V2 = Matrix.hstack(W2, W2C[0], W2C[1])\n",
    "V3 = Matrix.hstack(W2, W2C[0], W2C[1])\n",
    "V4 = Matrix.hstack(W1, W3C[0], W3C[1])\n",
    "V5 = Matrix.hstack(W3, W3C[0], W3C[1])\n",
    "\n",
    "display(\n",
    "    V1.shape[0] == 3 and pivots(V1, 3) and V1.shape[1] == 3,\n",
    "    V2.shape[0] == 2 and pivots(V2, 2) and V2.shape[1] == 2,\n",
    "    V3.shape[0] == 4 and pivots(V3, 4) and V3.shape[1] == 4,\n",
    "    V4.shape[0] == 3 and pivots(V4, 3) and V4.shape[1] == 3,\n",
    "    V5.shape[0] == 3 and pivots(V5, 3) and V5.shape[1] == 3\n",
    ")"
   ]
  },
  {
   "cell_type": "code",
   "execution_count": null,
   "metadata": {},
   "outputs": [],
   "source": [
    "# Many thought V4 was a basis since it spans all of R^3, but it consists of 4 vectors,\n",
    "# so it fails the definition of a basis which is the MINIMUM number of vectors in order to span a vector space.\n",
    "# The MIN here would be 3 vectors."
   ]
  },
  {
   "cell_type": "markdown",
   "metadata": {},
   "source": [
    "# Assignment 5"
   ]
  },
  {
   "cell_type": "code",
   "execution_count": 24,
   "metadata": {},
   "outputs": [
    {
     "data": {
      "image/png": "[encoded data removed]",
      "text/latex": [
       "$\\displaystyle \\left[ \\left[\\begin{matrix}1\\\\-3\\\\1\\\\0\\end{matrix}\\right], \\  \\left[\\begin{matrix}-5\\\\-2\\\\0\\\\1\\end{matrix}\\right]\\right]$"
      ],
      "text/plain": [
       "⎡⎡1 ⎤  ⎡-5⎤⎤\n",
       "⎢⎢  ⎥  ⎢  ⎥⎥\n",
       "⎢⎢-3⎥  ⎢-2⎥⎥\n",
       "⎢⎢  ⎥, ⎢  ⎥⎥\n",
       "⎢⎢1 ⎥  ⎢0 ⎥⎥\n",
       "⎢⎢  ⎥  ⎢  ⎥⎥\n",
       "⎣⎣0 ⎦  ⎣1 ⎦⎦"
      ]
     },
     "execution_count": 24,
     "metadata": {},
     "output_type": "execute_result"
    }
   ],
   "source": [
    "# a)\n",
    "Z = Matrix([[1,0,-1,5],[0,1,3,2],[0,0,0,0]])\n",
    "a1 = Matrix([1,2,3])\n",
    "a2 = Matrix([4, -1, 2])\n",
    "\n",
    "# The rowspace is just the two pivot rows in R\n",
    "# The colspace is just the two pivot columns in A\n",
    "# The nullspace:\n",
    "Z.nullspace()"
   ]
  },
  {
   "cell_type": "code",
   "execution_count": 25,
   "metadata": {},
   "outputs": [
    {
     "data": {
      "image/png": "[encoded data removed]",
      "text/latex": [
       "$\\displaystyle \\left[ 7\\right]$"
      ],
      "text/plain": [
       "[7]"
      ]
     },
     "execution_count": 25,
     "metadata": {},
     "output_type": "execute_result"
    }
   ],
   "source": [
    "# b)\n",
    "# If it is to be consistent, then [9, 0, a] must be a linear combination of a1 and a2\n",
    "# That means we put all there in a matrix and reduce to echelon form.\n",
    "# We now define a such that we get a row of zeros\n",
    "a = symbols('a')\n",
    "solve(Matrix.hstack(a1, a2, Matrix([9, 0, a])).echelon_form()[-1,-1])"
   ]
  },
  {
   "cell_type": "code",
   "execution_count": 26,
   "metadata": {},
   "outputs": [
    {
     "data": {
      "image/png": "[encoded data removed]",
      "text/latex": [
       "$\\displaystyle \\left( \\left[\\begin{matrix}11\\\\-5\\\\3\\end{matrix}\\right], \\  \\left[\\begin{matrix}13\\\\8\\\\19\\end{matrix}\\right]\\right)$"
      ],
      "text/plain": [
       "⎛⎡11⎤  ⎡13⎤⎞\n",
       "⎜⎢  ⎥  ⎢  ⎥⎟\n",
       "⎜⎢-5⎥, ⎢8 ⎥⎟\n",
       "⎜⎢  ⎥  ⎢  ⎥⎟\n",
       "⎝⎣3 ⎦  ⎣19⎦⎠"
      ]
     },
     "execution_count": 26,
     "metadata": {},
     "output_type": "execute_result"
    }
   ],
   "source": [
    "# c)\n",
    "# Since a only has two pivot columns (a1 and a2), which we know from looking at Z,\n",
    "# a3 and a4 can be derived from the scales stated in Z (the reduced echelon form)\n",
    "# To get a3, I need -1 of a1 and 3 of a3\n",
    "# To get a4, I need 5 of a1 and 2 of a4\n",
    "a3 = Z[0,2]*a1 + Z[1,2]*a2\n",
    "a4 = Z[0,3]*a1 + Z[1,3]*a2\n",
    "a3, a4"
   ]
  },
  {
   "cell_type": "code",
   "execution_count": 31,
   "metadata": {},
   "outputs": [
    {
     "data": {
      "text/plain": [
       "True"
      ]
     },
     "execution_count": 31,
     "metadata": {},
     "output_type": "execute_result"
    }
   ],
   "source": [
    "# We can check our result by rref'ing our new A and comparing it to Z\n",
    "A = Matrix.hstack(a1, a2, a3, a4)\n",
    "A.rref()[0]==Z"
   ]
  },
  {
   "cell_type": "markdown",
   "metadata": {},
   "source": [
    "# Assignment 6"
   ]
  },
  {
   "cell_type": "code",
   "execution_count": 32,
   "metadata": {},
   "outputs": [
    {
     "data": {
      "text/latex": [
       "$\\displaystyle \\left[\\begin{matrix}1 & -1\\\\1 & 0\\\\1 & 1\\end{matrix}\\right]\\left[\\begin{array}{l}\\alpha \\\\ \\beta \\end{array}\\right] = \\left[\\begin{matrix}1\\\\1\\\\-1\\end{matrix}\\right]$"
      ],
      "text/plain": [
       "<IPython.core.display.Math object>"
      ]
     },
     "metadata": {},
     "output_type": "display_data"
    }
   ],
   "source": [
    "# a)\n",
    "\n",
    "x = pd.DataFrame([\n",
    "    math.sin(-math.pi / 2),\n",
    "    math.sin(0),\n",
    "    math.sin(math.pi / 2)\n",
    "])\n",
    "y = pd.DataFrame([\n",
    "    1,\n",
    "    1,\n",
    "    -1,\n",
    "])\n",
    "\n",
    "X = x.astype(int)\n",
    "X1 = Matrix([ones(len(x), 1)]).row_join(Matrix((X)))\n",
    "\n",
    "display(Math(latex(X1) + r'\\left[\\begin{array}{l}\\alpha \\\\ \\beta \\end{array}\\right] = ' + latex(Matrix(y))))"
   ]
  },
  {
   "cell_type": "code",
   "execution_count": 55,
   "metadata": {},
   "outputs": [
    {
     "data": {
      "text/latex": [
       "$$y = \\frac{1}{3}-1sin x$$"
      ],
      "text/plain": [
       "<IPython.core.display.Latex object>"
      ]
     },
     "metadata": {},
     "output_type": "display_data"
    }
   ],
   "source": [
    "# b)\n",
    "X1tX1 = X1.T*X1\n",
    "X1ty = X1.T*Matrix(y)\n",
    "Mat, _ = X1tX1.row_join(X1ty).rref()\n",
    "B1 = Mat[:,-1]\n",
    "display(Latex(\"$$y = {}{}sin x$$\".format(latex(B1[0]), B1[1])))"
   ]
  },
  {
   "cell_type": "code",
   "execution_count": 60,
   "metadata": {},
   "outputs": [
    {
     "data": {
      "text/latex": [
       "$$\\epsilon = \\left[\\begin{matrix}- \\frac{1}{3}\\\\\\frac{2}{3}\\\\- \\frac{1}{3}\\end{matrix}\\right]$$"
      ],
      "text/plain": [
       "<IPython.core.display.Latex object>"
      ]
     },
     "metadata": {},
     "output_type": "display_data"
    },
    {
     "data": {
      "text/latex": [
       "$$e = \\frac{\\sqrt{6}}{3}$$"
      ],
      "text/plain": [
       "<IPython.core.display.Latex object>"
      ]
     },
     "metadata": {},
     "output_type": "display_data"
    }
   ],
   "source": [
    "# c)\n",
    "Y = Matrix(y)\n",
    "display(Latex(\"$$\\epsilon = {}$$\".format(latex(Y-X1*B1))))\n",
    "display(Latex(\"$$e = {}$$\".format(latex((Y-X1*B1).norm()))))"
   ]
  },
  {
   "cell_type": "markdown",
   "metadata": {},
   "source": [
    "# Assignment 7"
   ]
  },
  {
   "cell_type": "code",
   "execution_count": 101,
   "metadata": {},
   "outputs": [
    {
     "data": {
      "image/png": "[encoded data removed]",
      "text/latex": [
       "$\\displaystyle \\left[\\begin{matrix}81 & -27\\\\-27 & 9\\end{matrix}\\right]$"
      ],
      "text/plain": [
       "⎡81   -27⎤\n",
       "⎢        ⎥\n",
       "⎣-27   9 ⎦"
      ]
     },
     "metadata": {},
     "output_type": "display_data"
    },
    {
     "data": {
      "image/png": "[encoded data removed]",
      "text/latex": [
       "$\\displaystyle \\left[\\begin{matrix}10 & -20 & -20\\\\-20 & 40 & 40\\\\-20 & 40 & 40\\end{matrix}\\right]$"
      ],
      "text/plain": [
       "⎡10   -20  -20⎤\n",
       "⎢             ⎥\n",
       "⎢-20  40   40 ⎥\n",
       "⎢             ⎥\n",
       "⎣-20  40   40 ⎦"
      ]
     },
     "metadata": {},
     "output_type": "display_data"
    },
    {
     "data": {
      "image/png": "[encoded data removed]",
      "text/latex": [
       "$\\displaystyle \\left[ \\left( 0, \\  2, \\  \\left[ \\left[\\begin{matrix}2\\\\1\\\\0\\end{matrix}\\right], \\  \\left[\\begin{matrix}2\\\\0\\\\1\\end{matrix}\\right]\\right]\\right), \\  \\left( 90, \\  1, \\  \\left[ \\left[\\begin{matrix}- \\frac{1}{2}\\\\1\\\\1\\end{matrix}\\right]\\right]\\right)\\right]$"
      ],
      "text/plain": [
       "⎡⎛      ⎡⎡2⎤  ⎡2⎤⎤⎞  ⎛       ⎡⎡-1/2⎤⎤⎞⎤\n",
       "⎢⎜      ⎢⎢ ⎥  ⎢ ⎥⎥⎟  ⎜       ⎢⎢    ⎥⎥⎟⎥\n",
       "⎢⎜0, 2, ⎢⎢1⎥, ⎢0⎥⎥⎟, ⎜90, 1, ⎢⎢ 1  ⎥⎥⎟⎥\n",
       "⎢⎜      ⎢⎢ ⎥  ⎢ ⎥⎥⎟  ⎜       ⎢⎢    ⎥⎥⎟⎥\n",
       "⎣⎝      ⎣⎣0⎦  ⎣1⎦⎦⎠  ⎝       ⎣⎣ 1  ⎦⎦⎠⎦"
      ]
     },
     "metadata": {},
     "output_type": "display_data"
    },
    {
     "data": {
      "image/png": "[encoded data removed]",
      "text/latex": [
       "$\\displaystyle \\left[ \\left( 0, \\  1, \\  \\left[ \\left[\\begin{matrix}\\frac{1}{3}\\\\1\\end{matrix}\\right]\\right]\\right), \\  \\left( 90, \\  1, \\  \\left[ \\left[\\begin{matrix}-3\\\\1\\end{matrix}\\right]\\right]\\right)\\right]$"
      ],
      "text/plain": [
       "⎡⎛      ⎡⎡1/3⎤⎤⎞  ⎛       ⎡⎡-3⎤⎤⎞⎤\n",
       "⎢⎜0, 1, ⎢⎢   ⎥⎥⎟, ⎜90, 1, ⎢⎢  ⎥⎥⎟⎥\n",
       "⎣⎝      ⎣⎣ 1 ⎦⎦⎠  ⎝       ⎣⎣1 ⎦⎦⎠⎦"
      ]
     },
     "metadata": {},
     "output_type": "display_data"
    }
   ],
   "source": [
    "# a)\n",
    "AtA = Matrix([[81,-27],[-27,9]])\n",
    "AAt = Matrix([[10,-20,-20],[-20,40,40],[-20,40,40]])\n",
    "vecs = AAt.eigenvects()\n",
    "display(AtA)\n",
    "display(AAt)\n",
    "display(vecs)\n",
    "display(AtA.eigenvects())"
   ]
  },
  {
   "cell_type": "code",
   "execution_count": 107,
   "metadata": {},
   "outputs": [
    {
     "data": {
      "image/png": "[encoded data removed]",
      "text/latex": [
       "$\\displaystyle \\left( \\left[\\begin{matrix}-1 & 2 & 2\\\\2 & 1 & 0\\\\2 & 0 & 1\\end{matrix}\\right], \\  \\left[\\begin{matrix}9 & 0 & 0\\\\0 & 5 & 4\\\\0 & 4 & 5\\end{matrix}\\right]\\right)$"
      ],
      "text/plain": [
       "⎛⎡-1  2  2⎤  ⎡9  0  0⎤⎞\n",
       "⎜⎢        ⎥  ⎢       ⎥⎟\n",
       "⎜⎢2   1  0⎥, ⎢0  5  4⎥⎟\n",
       "⎜⎢        ⎥  ⎢       ⎥⎟\n",
       "⎝⎣2   0  1⎦  ⎣0  4  5⎦⎠"
      ]
     },
     "execution_count": 107,
     "metadata": {},
     "output_type": "execute_result"
    }
   ],
   "source": [
    "# b)\n",
    "# The Gram matrix, as mentioned, is AtA. Some thought it had something to do with Gram Schmidt\n",
    "# The Gram Matrix is the matrix you set up to test whether a set of vectors are orthogonal\n",
    "# In class we did U.T * U:\n",
    "x1 = 2*vecs[1][2][0]\n",
    "x2 = vecs[0][2][0]\n",
    "x3 = vecs[0][2][1]\n",
    "X = Matrix.hstack(x1, x2, x3) \n",
    "X, (X.T * X)"
   ]
  },
  {
   "cell_type": "code",
   "execution_count": 108,
   "metadata": {},
   "outputs": [
    {
     "data": {
      "image/png": "[encoded data removed]",
      "text/latex": [
       "$\\displaystyle \\left( \\left[\\begin{matrix}- \\frac{1}{3}\\\\\\frac{2}{3}\\\\\\frac{2}{3}\\end{matrix}\\right], \\  \\left[\\begin{matrix}\\frac{2 \\sqrt{5}}{5}\\\\\\frac{\\sqrt{5}}{5}\\\\0\\end{matrix}\\right], \\  \\left[\\begin{matrix}\\frac{2 \\sqrt{5}}{15}\\\\- \\frac{4 \\sqrt{5}}{15}\\\\\\frac{\\sqrt{5}}{3}\\end{matrix}\\right]\\right)$"
      ],
      "text/plain": [
       "⎛                ⎡ 2⋅√5 ⎤⎞\n",
       "⎜        ⎡2⋅√5⎤  ⎢ ──── ⎥⎟\n",
       "⎜        ⎢────⎥  ⎢  15  ⎥⎟\n",
       "⎜⎡-1/3⎤  ⎢ 5  ⎥  ⎢      ⎥⎟\n",
       "⎜⎢    ⎥  ⎢    ⎥  ⎢-4⋅√5 ⎥⎟\n",
       "⎜⎢2/3 ⎥, ⎢ √5 ⎥, ⎢──────⎥⎟\n",
       "⎜⎢    ⎥  ⎢ ── ⎥  ⎢  15  ⎥⎟\n",
       "⎜⎣2/3 ⎦  ⎢ 5  ⎥  ⎢      ⎥⎟\n",
       "⎜        ⎢    ⎥  ⎢  √5  ⎥⎟\n",
       "⎜        ⎣ 0  ⎦  ⎢  ──  ⎥⎟\n",
       "⎝                ⎣  3   ⎦⎠"
      ]
     },
     "execution_count": 108,
     "metadata": {},
     "output_type": "execute_result"
    }
   ],
   "source": [
    "# c)\n",
    "# From above we see that the vectors are not orthogonal, more specifically\n",
    "# x2 and x3 are not ortogonal to each other\n",
    "# We use Gram Schmidt to fix this\n",
    "u1 = vecs[1][2][0].normalized()\n",
    "u2 = GramSchmidt([x2, x3], True)[0]\n",
    "u3 = GramSchmidt([x2, x3], True)[1]\n",
    "U = Matrix.hstack(u1, u2, u3) \n",
    "u1, u2, u3"
   ]
  },
  {
   "cell_type": "code",
   "execution_count": 110,
   "metadata": {},
   "outputs": [],
   "source": [
    "# d)\n",
    "# Since AAt is 3 x 3 and AtA is 2 x 2, A must be 3 x 2\n",
    "# Since only 1 non-zero singular value, rank = 1\n",
    "# m (number of columns) = dim nul A + dim col A (Rank) so dim nul A = 1\n",
    "# dim Row is the same as Rank, so 1\n",
    "# dim Nul A.T is 2 since it is n - rank = 2"
   ]
  },
  {
   "cell_type": "code",
   "execution_count": 6,
   "metadata": {},
   "outputs": [
    {
     "data": {
      "image/png": "[encoded data removed]",
      "text/latex": [
       "$\\displaystyle \\left[\\begin{matrix}-3 & 1\\\\6 & -2\\\\6 & -2\\end{matrix}\\right]$"
      ],
      "text/plain": [
       "⎡-3  1 ⎤\n",
       "⎢      ⎥\n",
       "⎢6   -2⎥\n",
       "⎢      ⎥\n",
       "⎣6   -2⎦"
      ]
     },
     "execution_count": 6,
     "metadata": {},
     "output_type": "execute_result"
    }
   ],
   "source": [
    "# In case you don't believe me, here is A:\n",
    "A = Matrix([[-3,1],[6,-2],[6,-2]])\n",
    "A"
   ]
  },
  {
   "cell_type": "markdown",
   "metadata": {},
   "source": [
    "# Assignment 8"
   ]
  },
  {
   "cell_type": "markdown",
   "metadata": {},
   "source": [
    "In total, 5 + 3 litres enter A, which means 8 must leave A from pipe c. If 8 enters B, 8 must leave, 3 from b and 5 from d. We get:"
   ]
  },
  {
   "cell_type": "code",
   "execution_count": 2,
   "metadata": {},
   "outputs": [
    {
     "data": {
      "text/latex": [
       "$\\displaystyle A = \\left[\\begin{matrix}- \\frac{1}{25} & \\frac{3}{100}\\\\\\frac{1}{25} & - \\frac{2}{25}\\end{matrix}\\right]$"
      ],
      "text/plain": [
       "<IPython.core.display.Math object>"
      ]
     },
     "metadata": {},
     "output_type": "display_data"
    }
   ],
   "source": [
    "# We translate the problem to a matrix problem\n",
    "\n",
    "A = Matrix([[-R(8,200), R(3,100)],[R(8,200), -R(8,100)]])\n",
    "display(Math(r'A = ' + latex(A)))"
   ]
  },
  {
   "cell_type": "code",
   "execution_count": 3,
   "metadata": {},
   "outputs": [
    {
     "data": {
      "text/latex": [
       "$\\displaystyle \\lambda_0 =- \\frac{1}{10}\\approx-0.1$"
      ],
      "text/plain": [
       "<IPython.core.display.Math object>"
      ]
     },
     "metadata": {},
     "output_type": "display_data"
    },
    {
     "data": {
      "text/latex": [
       "$\\displaystyle \\lambda_1 =- \\frac{1}{50}\\approx-0.02$"
      ],
      "text/plain": [
       "<IPython.core.display.Math object>"
      ]
     },
     "metadata": {},
     "output_type": "display_data"
    },
    {
     "data": {
      "text/latex": [
       "$\\displaystyle v_0 = \\left[\\begin{matrix}- \\frac{1}{2}\\\\1\\end{matrix}\\right]=\\left[\\begin{matrix}-0.5\\\\1.0\\end{matrix}\\right]$"
      ],
      "text/plain": [
       "<IPython.core.display.Math object>"
      ]
     },
     "metadata": {},
     "output_type": "display_data"
    },
    {
     "data": {
      "text/latex": [
       "$\\displaystyle v_1 = \\left[\\begin{matrix}\\frac{3}{2}\\\\1\\end{matrix}\\right]=\\left[\\begin{matrix}1.5\\\\1.0\\end{matrix}\\right]$"
      ],
      "text/plain": [
       "<IPython.core.display.Math object>"
      ]
     },
     "metadata": {},
     "output_type": "display_data"
    }
   ],
   "source": [
    "# We find the eigenvalues and the corresponding eigenspaces.\n",
    "l = symbols('l')\n",
    "l1, l2 = solve(det(A-l*eye(np.shape(A)[0])))\n",
    "display(Math(r'\\lambda_0 =' +latex(l1) + r'\\approx' + latex(round(l1, 2))))\n",
    "display(Math(r'\\lambda_1 =' +latex(l2) + r'\\approx' + latex(round(l2, 2))))\n",
    "\n",
    "v1 = (A-l1*eye(np.shape(A)[0])).nullspace()[0]\n",
    "v2 = (A-l2*eye(np.shape(A)[0])).nullspace()[0]\n",
    "display(Math(r'v_0 = '+ latex(v1) + r'=' + latex(v1.evalf(4))))\n",
    "display(Math(r'v_1 = '+ latex(v2) + r'=' + latex(v2.evalf(4))))"
   ]
  },
  {
   "cell_type": "code",
   "execution_count": 4,
   "metadata": {},
   "outputs": [
    {
     "data": {
      "image/png": "[encoded data removed]",
      "text/latex": [
       "$\\displaystyle \\left[\\begin{matrix}- \\frac{25}{2}\\\\\\frac{125}{2}\\end{matrix}\\right]$"
      ],
      "text/plain": [
       "⎡-25/2⎤\n",
       "⎢     ⎥\n",
       "⎣125/2⎦"
      ]
     },
     "execution_count": 4,
     "metadata": {},
     "output_type": "execute_result"
    }
   ],
   "source": [
    "y0 = Matrix([100, 50])\n",
    "\n",
    "# To solve the system we form the following augmented matrix and solve. The c's will be in the last column:\n",
    "C = v1.row_join(v2).row_join(y0).rref()[0][:, -1]\n",
    "C"
   ]
  },
  {
   "cell_type": "code",
   "execution_count": 5,
   "metadata": {},
   "outputs": [
    {
     "name": "stdout",
     "output_type": "stream",
     "text": [
      "32\n",
      "49.688428528900594\n"
     ]
    }
   ],
   "source": [
    "# a) Wasn't able to use solve, so I just made a for loop to check\n",
    "for t in range (0,100):\n",
    "    y1 = float(C[0]*v1[0]*math.e**(l1*t) + C[1]*v2[0]*math.e**(l2*t))\n",
    "    if y1 <= 50:\n",
    "        print(t)\n",
    "        print(y1)\n",
    "        break\n",
    "    "
   ]
  },
  {
   "cell_type": "code",
   "execution_count": 8,
   "metadata": {},
   "outputs": [
    {
     "data": {
      "image/png": "[encoded data removed]",
      "text/latex": [
       "$\\displaystyle \\frac{3}{2}$"
      ],
      "text/plain": [
       "3/2"
      ]
     },
     "execution_count": 8,
     "metadata": {},
     "output_type": "execute_result"
    }
   ],
   "source": [
    "# b)\n",
    "# Many took my code from the \"Do this first\" exercise. The problem is that you should\n",
    "# NEVER use code that you do not know what does! In my code the limit was set to 0,\n",
    "# but in this problem the limit is inf\n",
    "# Learning outcome: Do not copy code that you don't understand yourself\n",
    "# (I did give you 1 point out of 2.5, though :-))\n",
    "t = symbols('t')\n",
    "y1 = C[0]*v1[0]*math.e**(l1*t) + C[1]*v2[0]*math.e**(l2*t)\n",
    "y2 = C[0]*v1[1]*math.e**(l1*t) + C[1]*v2[1]*math.e**(l2*t)\n",
    "z=limit(y1/y2,t,inf)\n",
    "z"
   ]
  }
 ],
 "metadata": {
  "kernelspec": {
   "display_name": "Python 3 (ipykernel)",
   "language": "python",
   "name": "python3"
  },
  "language_info": {
   "codemirror_mode": {
    "name": "ipython",
    "version": 3
   },
   "file_extension": ".py",
   "mimetype": "text/x-python",
   "name": "python",
   "nbconvert_exporter": "python",
   "pygments_lexer": "ipython3",
   "version": "3.11.1"
  }
 },
 "nbformat": 4,
 "nbformat_minor": 4
}
