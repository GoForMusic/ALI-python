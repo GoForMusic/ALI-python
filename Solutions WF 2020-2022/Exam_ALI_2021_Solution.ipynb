{
 "cells": [
  {
   "cell_type": "code",
   "execution_count": 1,
   "metadata": {},
   "outputs": [],
   "source": [
    "import sympy as sp\n",
    "from scipy import *\n",
    "from sympy import *\n",
    "init_printing()\n",
    "from IPython.display import display, Latex, HTML, Math\n",
    "import numpy as np\n",
    "import pandas as pd\n",
    "from sympy import Rational as R"
   ]
  },
  {
   "cell_type": "markdown",
   "metadata": {},
   "source": [
    "### Assignment 1\n",
    "\n",
    "a)\n",
    "\n",
    "i:  True. eig = 0 means free variable hence rank < n\n",
    "\n",
    "ii.: True. Since nullspace is nonempty, so we get free variables, the system is consistent\n",
    "\n",
    "iii: False. If $P(\\lambda)=\\operatorname{det}(A-\\lambda I)$ does not have $n$ real roots, counting multiplicities (in other words, if it has some complex roots), then $A$ is not diagonalizable.\n",
    "\n",
    "iv : False. It might be if the arithmetic multiplicity matches the geometric multiplicity, i.e. dim Nul $A-\\lambda I = n$\n",
    "\n",
    "v: True. There will always be a set of vectors that are orthogonal to each other."
   ]
  },
  {
   "cell_type": "markdown",
   "metadata": {},
   "source": [
    "b)\n",
    "\n",
    "Sum of diagonal of symmetric matrix = sum of eigenvalues, so $\\lambda_1 + \\lambda_2 + \\lambda_3 = 56$. We substitute the information supplied: $\\lambda_1 + \\lambda_{1}^2 + 9\\lambda_1 = 56$. Now we just solve:"
   ]
  },
  {
   "cell_type": "code",
   "execution_count": 2,
   "metadata": {},
   "outputs": [
    {
     "data": {
      "image/png": "[encoded data removed]",
      "text/latex": [
       "$\\displaystyle \\left[ -14, \\  4\\right]$"
      ],
      "text/plain": [
       "[-14, 4]"
      ]
     },
     "execution_count": 2,
     "metadata": {},
     "output_type": "execute_result"
    }
   ],
   "source": [
    "l = symbols('lambda')\n",
    "solve(l**2 + 10*l - 56, l)"
   ]
  },
  {
   "cell_type": "markdown",
   "metadata": {},
   "source": [
    "We know $\\lambda_1$ must be positive and use it to find the other values:"
   ]
  },
  {
   "cell_type": "code",
   "execution_count": 5,
   "metadata": {},
   "outputs": [
    {
     "data": {
      "image/png": "[encoded data removed]",
      "text/latex": [
       "$\\displaystyle 4$"
      ],
      "text/plain": [
       "4"
      ]
     },
     "metadata": {},
     "output_type": "display_data"
    },
    {
     "data": {
      "image/png": "[encoded data removed]",
      "text/latex": [
       "$\\displaystyle 16$"
      ],
      "text/plain": [
       "16"
      ]
     },
     "metadata": {},
     "output_type": "display_data"
    },
    {
     "data": {
      "image/png": "[encoded data removed]",
      "text/latex": [
       "$\\displaystyle 36$"
      ],
      "text/plain": [
       "36"
      ]
     },
     "metadata": {},
     "output_type": "display_data"
    }
   ],
   "source": [
    "l1 = 4\n",
    "l2 = l1**2\n",
    "l3 = 9*l1\n",
    "display(l1, l2, l3)"
   ]
  },
  {
   "cell_type": "markdown",
   "metadata": {},
   "source": [
    "c)\n",
    "\n",
    "So since we get distinct eigenvalues we know $A$ is diagonalizable. We are given the eigenvalues and eigenvectors and can simply set up the factorization:"
   ]
  },
  {
   "cell_type": "code",
   "execution_count": 8,
   "metadata": {},
   "outputs": [
    {
     "data": {
      "text/latex": [
       "$\\displaystyle A = \\left[\\begin{matrix}5 & 2 & 0\\\\2 & 5 & 0\\\\-3 & 4 & 6\\end{matrix}\\right]$"
      ],
      "text/plain": [
       "<IPython.core.display.Math object>"
      ]
     },
     "metadata": {},
     "output_type": "display_data"
    }
   ],
   "source": [
    "P = Matrix([[3, 0, 1], [-3, 0, 1],[7, 1, 1]])\n",
    "Pinv = P**-1\n",
    "D = diag(3, 6, 7)\n",
    "display(Math(r'A = ' + latex(P*D*Pinv)))"
   ]
  },
  {
   "cell_type": "markdown",
   "metadata": {},
   "source": [
    "### Assignment 2\n",
    "\n",
    "a)\n",
    "\n",
    "So the eigenvalues are the roots of the characteristic polynomial which means that we check where the graph intersects the x-axis and get:\n",
    "\n",
    "$$\n",
    "\\lambda_1 = -5 \\\\\n",
    "\\lambda_2 = 3 \\\\\n",
    "\\lambda_3 = 6 \n",
    "$$"
   ]
  },
  {
   "cell_type": "markdown",
   "metadata": {},
   "source": [
    "b) The determinant is the product of the eigenvalues:"
   ]
  },
  {
   "cell_type": "code",
   "execution_count": 9,
   "metadata": {},
   "outputs": [
    {
     "data": {
      "text/latex": [
       "$\\displaystyle det(A) = -90$"
      ],
      "text/plain": [
       "<IPython.core.display.Math object>"
      ]
     },
     "metadata": {},
     "output_type": "display_data"
    }
   ],
   "source": [
    "display(Math(r'det(A) = ' + latex(-5*3*6)))"
   ]
  },
  {
   "cell_type": "markdown",
   "metadata": {},
   "source": [
    "c)\n",
    "\n",
    "Since $det(A)\\neq 0$ $A$ has pivots in all columns which means no free variables which means an empty nullspace so dim Nul $A = 0$."
   ]
  },
  {
   "cell_type": "markdown",
   "metadata": {},
   "source": [
    "### Assignment 3"
   ]
  },
  {
   "cell_type": "code",
   "execution_count": 4,
   "metadata": {},
   "outputs": [],
   "source": [
    "k = symbols('k')\n",
    "A = Matrix([[1,1,0],[0,1,1],[0,0,1]])\n",
    "B = Matrix([[2,0,0],[1,1,2],[2,0,1]])\n",
    "C = Matrix([[1,1,0],[0,1,0],[0,1,2]])\n",
    "D = Matrix([[k+1,1,0],[1,k+8,2],[4,1,k+2]])"
   ]
  },
  {
   "cell_type": "markdown",
   "metadata": {},
   "source": [
    "a)\n",
    "So here we must \"isolate\" matrix $X$, remembering all the rules of matrix algebra:\n",
    "\n",
    "$$\n",
    "XB = XA -X + C \\\\\n",
    "XB - XA + X = C \\\\\n",
    "X(B-A+I_3) = C \\\\\n",
    "X = C(B-A+I_3)^{-1}\n",
    "$$\n",
    "\n",
    "We get:"
   ]
  },
  {
   "cell_type": "code",
   "execution_count": 5,
   "metadata": {},
   "outputs": [
    {
     "data": {
      "text/latex": [
       "$\\displaystyle det(X)= 2$"
      ],
      "text/plain": [
       "<IPython.core.display.Math object>"
      ]
     },
     "metadata": {},
     "output_type": "display_data"
    }
   ],
   "source": [
    "X = C*(B-A+eye(3))**-1\n",
    "display(Math(r'det(X)= ' + latex(det(X))))"
   ]
  },
  {
   "cell_type": "markdown",
   "metadata": {},
   "source": [
    "b)\n",
    "\n",
    "Remember the sum of the eigenvalues of a symmetric matrix is always the sum of its diagonal (sum of diagonal is also called trace):"
   ]
  },
  {
   "cell_type": "code",
   "execution_count": 12,
   "metadata": {},
   "outputs": [
    {
     "data": {
      "image/png": "[encoded data removed]",
      "text/latex": [
       "$\\displaystyle \\left[\\begin{matrix}1 & 1 & 0\\\\1 & 2 & 1\\\\0 & 1 & 2\\end{matrix}\\right]$"
      ],
      "text/plain": [
       "⎡1  1  0⎤\n",
       "⎢       ⎥\n",
       "⎢1  2  1⎥\n",
       "⎢       ⎥\n",
       "⎣0  1  2⎦"
      ]
     },
     "execution_count": 12,
     "metadata": {},
     "output_type": "execute_result"
    }
   ],
   "source": [
    "Y = A.T * A\n",
    "Y"
   ]
  },
  {
   "cell_type": "code",
   "execution_count": 20,
   "metadata": {},
   "outputs": [
    {
     "data": {
      "image/png": "[encoded data removed]",
      "text/latex": [
       "$\\displaystyle 5$"
      ],
      "text/plain": [
       "5"
      ]
     },
     "execution_count": 20,
     "metadata": {},
     "output_type": "execute_result"
    }
   ],
   "source": [
    "trace(Y)"
   ]
  },
  {
   "cell_type": "markdown",
   "metadata": {},
   "source": [
    "c)\n",
    "\n",
    "A lot of students had mistakes in this exercise. One student even asked me if it contained errors. You just need to think a little bit. Dim Nul Z = 0 means that the nullspace is empty. This only happens when there is a pivot in each column. A pivot in each column occurs when there is a non-zero value in all pivot positions:"
   ]
  },
  {
   "cell_type": "code",
   "execution_count": 25,
   "metadata": {},
   "outputs": [
    {
     "data": {
      "image/png": "[encoded data removed]",
      "text/latex": [
       "$\\displaystyle \\left[\\begin{matrix}-1 & - k - 7 & -1\\\\0 & - k^{2} - 7 k & - k\\\\0 & 0 & - k^{3} - 8 k^{2} - 6 k\\end{matrix}\\right]$"
      ],
      "text/plain": [
       "⎡-1    -k - 7           -1        ⎤\n",
       "⎢                                 ⎥\n",
       "⎢       2                         ⎥\n",
       "⎢0   - k  - 7⋅k         -k        ⎥\n",
       "⎢                                 ⎥\n",
       "⎢                   3      2      ⎥\n",
       "⎣0       0       - k  - 8⋅k  - 6⋅k⎦"
      ]
     },
     "execution_count": 25,
     "metadata": {},
     "output_type": "execute_result"
    }
   ],
   "source": [
    "Z = A-D\n",
    "Z.echelon_form().expand()"
   ]
  },
  {
   "cell_type": "markdown",
   "metadata": {},
   "source": [
    "We really only need to look at the last row two rows. We now know that dim Nul Z = 0 when $-k^{3}-8k^{2}-6k \\neq 0 \\text{ and } -k^{2}-7k \\neq 0 $"
   ]
  },
  {
   "cell_type": "code",
   "execution_count": 5,
   "metadata": {},
   "outputs": [
    {
     "data": {
      "image/png": "[encoded data removed]",
      "text/latex": [
       "$\\displaystyle \\left( \\left[ 0, \\  -4 - \\sqrt{10}, \\  -4 + \\sqrt{10}\\right], \\  \\left[ -7, \\  0\\right]\\right)$"
      ],
      "text/plain": [
       "([0, -4 - √10, -4 + √10], [-7, 0])"
      ]
     },
     "execution_count": 5,
     "metadata": {},
     "output_type": "execute_result"
    }
   ],
   "source": [
    "solve(-k**3-8*k**2-6*k, k), solve(-k**2-7*k, k)"
   ]
  },
  {
   "cell_type": "markdown",
   "metadata": {},
   "source": [
    "So we just need to make sure that $k$ is **not** one of these values. That means that only three of the choices will make dim Nul Z = 0:\n",
    "\n",
    "$$\n",
    "k=-8-2 \\sqrt{10} \\approx-14.32 \\\\\n",
    "k=-8+2 \\sqrt{10} \\approx-1.68  \\\\\n",
    "k = 7\n",
    "$$\n",
    "\n",
    "(So kind of the \"opposite\" of what many answered)."
   ]
  },
  {
   "cell_type": "markdown",
   "metadata": {},
   "source": [
    "### Assignment 4\n",
    "\n",
    "a)"
   ]
  },
  {
   "cell_type": "code",
   "execution_count": 32,
   "metadata": {},
   "outputs": [
    {
     "data": {
      "image/png": "[encoded data removed]",
      "text/latex": [
       "$\\displaystyle \\left[\\begin{matrix}-1 & -2 & 0 & 1 & -2 & 2\\\\1 & 2 & 3 & -5 & 15 & -11\\\\2 & 4 & 1 & -1 & 6 & 7\\end{matrix}\\right]$"
      ],
      "text/plain": [
       "⎡-1  -2  0  1   -2   2 ⎤\n",
       "⎢                      ⎥\n",
       "⎢1   2   3  -5  15  -11⎥\n",
       "⎢                      ⎥\n",
       "⎣2   4   1  -1  6    7 ⎦"
      ]
     },
     "execution_count": 32,
     "metadata": {},
     "output_type": "execute_result"
    }
   ],
   "source": [
    "A = Matrix([[-1, -2, 0, 1, -2, 2],\n",
    "            [1, 2, 3, -5, 15, -11],\n",
    "            [2, 4, 1, -1, 6, 7]])\n",
    "A"
   ]
  },
  {
   "cell_type": "markdown",
   "metadata": {},
   "source": [
    "b)"
   ]
  },
  {
   "cell_type": "code",
   "execution_count": 35,
   "metadata": {},
   "outputs": [
    {
     "data": {
      "image/png": "[encoded data removed]",
      "text/latex": [
       "$\\displaystyle \\left[\\begin{matrix}1 & 2 & 0 & 0 & 1 & 4\\\\0 & 0 & 1 & 0 & 3 & 5\\\\0 & 0 & 0 & 1 & -1 & 6\\end{matrix}\\right]$"
      ],
      "text/plain": [
       "⎡1  2  0  0  1   4⎤\n",
       "⎢                 ⎥\n",
       "⎢0  0  1  0  3   5⎥\n",
       "⎢                 ⎥\n",
       "⎣0  0  0  1  -1  6⎦"
      ]
     },
     "execution_count": 35,
     "metadata": {},
     "output_type": "execute_result"
    }
   ],
   "source": [
    "A.rref()[0]"
   ]
  },
  {
   "cell_type": "markdown",
   "metadata": {},
   "source": [
    "c) So this is simply derived from row reduced echelon form (b):\n",
    "\n",
    "$$\n",
    "\\left[\\begin{array}{c}\n",
    "x_{1} \\\\\n",
    "x_{2} \\\\\n",
    "x_{3} \\\\\n",
    "x_{4} \\\\\n",
    "x_{5}\n",
    "\\end{array}\\right]=\\left[\\begin{array}{l}\n",
    "4 \\\\\n",
    "0 \\\\\n",
    "5 \\\\\n",
    "6 \\\\\n",
    "0\n",
    "\\end{array}\\right]+x_{2}\\left[\\begin{array}{l}\n",
    "-2 \\\\\n",
    "1 \\\\\n",
    "0 \\\\\n",
    "0 \\\\\n",
    "0\n",
    "\\end{array}\\right]+x_{5}\\left[\\begin{array}{l}\n",
    "-1 \\\\\n",
    "0 \\\\\n",
    "-3 \\\\\n",
    "1 \\\\\n",
    "1\n",
    "\\end{array}\\right]\n",
    "$$"
   ]
  },
  {
   "cell_type": "markdown",
   "metadata": {},
   "source": [
    "d) I prefer just rref'ing the coeeficient matrix and look at the output:"
   ]
  },
  {
   "cell_type": "code",
   "execution_count": 38,
   "metadata": {},
   "outputs": [
    {
     "data": {
      "image/png": "[encoded data removed]",
      "text/latex": [
       "$\\displaystyle \\left( \\left[\\begin{matrix}1 & 2 & 0 & 0 & 1\\\\0 & 0 & 1 & 0 & 3\\\\0 & 0 & 0 & 1 & -1\\end{matrix}\\right], \\  \\left( 0, \\  2, \\  3\\right)\\right)$"
      ],
      "text/plain": [
       "⎛⎡1  2  0  0  1 ⎤           ⎞\n",
       "⎜⎢              ⎥           ⎟\n",
       "⎜⎢0  0  1  0  3 ⎥, (0, 2, 3)⎟\n",
       "⎜⎢              ⎥           ⎟\n",
       "⎝⎣0  0  0  1  -1⎦           ⎠"
      ]
     },
     "execution_count": 38,
     "metadata": {},
     "output_type": "execute_result"
    }
   ],
   "source": [
    "A[:,0:-1].rref()"
   ]
  },
  {
   "cell_type": "markdown",
   "metadata": {},
   "source": [
    "So we get the following info: 3 pivots, 2 free variables. There are 5 columns and 3 rows which leads us to\n",
    "\n",
    "rank A is 3 since it is given by number of pivots\n",
    "\n",
    "dim Nul A is 2 since it is given by number of free variables\n",
    "\n",
    "Nul A is a subspace of $\\mathbb{R}^5$ since there are five entries in the vectors of the nullspace (also see answer to (c)). In a $n\\times m$ matrix the nullspace is a subspace of $\\mathbb{R}^m$\n",
    "\n",
    "Col A is a subspace of $\\mathbb{R}^3$ since there are three entries in the vectors that make up the columns of $A$. In a $n\\times m$ matrix the column space is a subspace of $\\mathbb{R}^n$"
   ]
  },
  {
   "cell_type": "markdown",
   "metadata": {},
   "source": [
    "e)\n",
    "\n",
    "We look at the output of the rref. Notice that the free variables are $a_2$ and $a_5$. That means that $a_2$ kan only be a linear combination of $a_1$ while $a_5$ can be a linear combination of $a_1$, $a_3$ and $a_4$. We can see what the combination for $a_2$ is by looking at the values in column 2 and similarly for column 5 and $a_5$. We get:\n",
    "\n",
    "$a_2 = 2a_1$\n",
    "\n",
    "$a_5 = a_1 + 3a_3 - a_4$"
   ]
  },
  {
   "cell_type": "markdown",
   "metadata": {},
   "source": [
    "### Assignment 5\n",
    "\n",
    "Very few had this one right. The method is simply set the two expressions equal to each other. Place the \"intersections\" on one side and the Matrices with their paramaters on the other side. We get:\n",
    "\n",
    "$$\n",
    "\\left[\\begin{array}{l}\n",
    "2 \\\\\n",
    "0 \\\\\n",
    "0 \\\\\n",
    "0\n",
    "\\end{array}\\right]+\\left[\\begin{array}{rrr}\n",
    "1 & 0 & 0 \\\\\n",
    "-1 & 1 & 0 \\\\\n",
    "0 & -1 & 1 \\\\\n",
    "0 & 0 & -1\n",
    "\\end{array}\\right]\\left[\\begin{array}{c}\n",
    "r \\\\\n",
    "s \\\\\n",
    "t\n",
    "\\end{array}\\right] = \\left[\\begin{array}{l}\n",
    "0 \\\\\n",
    "1 \\\\\n",
    "2 \\\\\n",
    "3\n",
    "\\end{array}\\right]+\\left[\\begin{array}{r}\n",
    "-1 \\\\\n",
    "2 \\\\\n",
    "1 \\\\\n",
    "0\n",
    "\\end{array}\\right] u\n",
    "$$\n",
    "\n",
    "$$\n",
    "\\left[\\begin{array}{rrr}\n",
    "1 & 0 & 0 \\\\\n",
    "-1 & 1 & 0 \\\\\n",
    "0 & -1 & 1 \\\\\n",
    "0 & 0 & -1\n",
    "\\end{array}\\right]\\left[\\begin{array}{c}\n",
    "r \\\\\n",
    "s \\\\\n",
    "t\n",
    "\\end{array}\\right] -\n",
    "\\left[\\begin{array}{r}\n",
    "-1 \\\\\n",
    "2 \\\\\n",
    "1 \\\\\n",
    "0\n",
    "\\end{array}\\right] u =\n",
    "\\left[\\begin{array}{l}\n",
    "0 \\\\\n",
    "1 \\\\\n",
    "2 \\\\\n",
    "3\n",
    "\\end{array}\\right] - \\left[\\begin{array}{l}\n",
    "2 \\\\\n",
    "0 \\\\\n",
    "0 \\\\\n",
    "0\n",
    "\\end{array}\\right]\n",
    "$$\n"
   ]
  },
  {
   "cell_type": "markdown",
   "metadata": {},
   "source": [
    "We can now combine the left-hand sides in to one matrix since the two parts are merely linear combinations. Similarly we subtract the right-hand sides.\n",
    "\n",
    "$$\n",
    "\\left[\\begin{array}{rrr}\n",
    "1 & 0 & 0 & 1 \\\\\n",
    "-1 & 1 & 0 & -2\\\\\n",
    "0 & -1 & 1 & -1\\\\\n",
    "0 & 0 & -1 & 0\\\\\n",
    "\\end{array}\\right]\\left[\\begin{array}{c}\n",
    "r \\\\\n",
    "s \\\\\n",
    "t \\\\\n",
    "u\n",
    "\\end{array}\\right] =\n",
    "\\left[\\begin{array}{l}\n",
    "-2 \\\\\n",
    "1 \\\\\n",
    "2 \\\\\n",
    "3\n",
    "\\end{array}\\right]\n",
    "$$"
   ]
  },
  {
   "cell_type": "markdown",
   "metadata": {},
   "source": [
    "Now we just have a good-old system which we can solve by rref. This will give us the values for r, s, t, u:"
   ]
  },
  {
   "cell_type": "code",
   "execution_count": 43,
   "metadata": {},
   "outputs": [
    {
     "data": {
      "image/png": "[encoded data removed]",
      "text/latex": [
       "$\\displaystyle \\left[\\begin{matrix}1 & 0 & 0 & 0 & 0\\\\0 & 1 & 0 & 0 & -3\\\\0 & 0 & 1 & 0 & -3\\\\0 & 0 & 0 & 1 & -2\\end{matrix}\\right]$"
      ],
      "text/plain": [
       "⎡1  0  0  0  0 ⎤\n",
       "⎢              ⎥\n",
       "⎢0  1  0  0  -3⎥\n",
       "⎢              ⎥\n",
       "⎢0  0  1  0  -3⎥\n",
       "⎢              ⎥\n",
       "⎣0  0  0  1  -2⎦"
      ]
     },
     "execution_count": 43,
     "metadata": {},
     "output_type": "execute_result"
    }
   ],
   "source": [
    "Matrix([[1,0,0,1, -2],\n",
    "        [-1,1,0,-2, 1],\n",
    "        [0,-1,1,-1, 2],\n",
    "        [0,0,-1,0, 3]]).rref()[0]"
   ]
  },
  {
   "cell_type": "markdown",
   "metadata": {},
   "source": [
    "So now we just use the value of u and plug it in to W and get the values of the intersection:"
   ]
  },
  {
   "cell_type": "code",
   "execution_count": 44,
   "metadata": {},
   "outputs": [
    {
     "data": {
      "image/png": "[encoded data removed]",
      "text/latex": [
       "$\\displaystyle \\left[\\begin{matrix}2\\\\-3\\\\0\\\\3\\end{matrix}\\right]$"
      ],
      "text/plain": [
       "⎡2 ⎤\n",
       "⎢  ⎥\n",
       "⎢-3⎥\n",
       "⎢  ⎥\n",
       "⎢0 ⎥\n",
       "⎢  ⎥\n",
       "⎣3 ⎦"
      ]
     },
     "execution_count": 44,
     "metadata": {},
     "output_type": "execute_result"
    }
   ],
   "source": [
    "Matrix([[0],[1],[2],[3]]) -2*Matrix([[-1],[2],[1],[0]])"
   ]
  },
  {
   "cell_type": "code",
   "execution_count": 47,
   "metadata": {},
   "outputs": [
    {
     "data": {
      "image/png": "[encoded data removed]",
      "text/latex": [
       "$\\displaystyle \\left[\\begin{matrix}2\\\\-3\\\\0\\\\3\\end{matrix}\\right]$"
      ],
      "text/plain": [
       "⎡2 ⎤\n",
       "⎢  ⎥\n",
       "⎢-3⎥\n",
       "⎢  ⎥\n",
       "⎢0 ⎥\n",
       "⎢  ⎥\n",
       "⎣3 ⎦"
      ]
     },
     "execution_count": 47,
     "metadata": {},
     "output_type": "execute_result"
    }
   ],
   "source": [
    "# Same as above just in one go:\n",
    "V = Matrix([[1,0,0],[-1,1,0],[0,-1,1],[0,0,-1]])\n",
    "v = Matrix([[2],[0],[0],[0]])\n",
    "W = Matrix([[-1],[2],[1],[0]])\n",
    "w = Matrix([[0],[1],[2],[3]])\n",
    "\n",
    "u = Matrix.hstack(V, -W, w-v).rref()[0][-1,-1]\n",
    "w+W*u"
   ]
  },
  {
   "cell_type": "markdown",
   "metadata": {},
   "source": [
    "### Assignment 6\n",
    "\n",
    "a)\n",
    "\n",
    "Gram Matrix is the $A^T A$ matrix"
   ]
  },
  {
   "cell_type": "code",
   "execution_count": 49,
   "metadata": {},
   "outputs": [
    {
     "data": {
      "image/png": "[encoded data removed]",
      "text/latex": [
       "$\\displaystyle \\left[\\begin{matrix}4 & 0 & 0\\\\0 & 8 & 0\\\\0 & 0 & 36\\end{matrix}\\right]$"
      ],
      "text/plain": [
       "⎡4  0  0 ⎤\n",
       "⎢        ⎥\n",
       "⎢0  8  0 ⎥\n",
       "⎢        ⎥\n",
       "⎣0  0  36⎦"
      ]
     },
     "execution_count": 49,
     "metadata": {},
     "output_type": "execute_result"
    }
   ],
   "source": [
    "v1 = Matrix([[1],[-1],[0],[1],[1]])\n",
    "v2 = Matrix([[-1],[1],[2],[1],[1]])\n",
    "v3 = Matrix([[3],[3],[0],[-3],[3]])\n",
    "V = Matrix.hstack(v1, v2, v3)\n",
    "V.T*V"
   ]
  },
  {
   "cell_type": "markdown",
   "metadata": {},
   "source": [
    "b)\n",
    "\n",
    "We just use the built in formula:"
   ]
  },
  {
   "cell_type": "code",
   "execution_count": 51,
   "metadata": {},
   "outputs": [
    {
     "data": {
      "image/png": "[encoded data removed]",
      "text/latex": [
       "$\\displaystyle \\left[\\begin{matrix}\\frac{1}{2}\\\\\\frac{1}{2}\\\\1\\\\\\frac{1}{2}\\\\\\frac{3}{2}\\end{matrix}\\right]$"
      ],
      "text/plain": [
       "⎡1/2⎤\n",
       "⎢   ⎥\n",
       "⎢1/2⎥\n",
       "⎢   ⎥\n",
       "⎢ 1 ⎥\n",
       "⎢   ⎥\n",
       "⎢1/2⎥\n",
       "⎢   ⎥\n",
       "⎣3/2⎦"
      ]
     },
     "execution_count": 51,
     "metadata": {},
     "output_type": "execute_result"
    }
   ],
   "source": [
    "w = Matrix([1,1,1,1,1])\n",
    "\n",
    "proj = w.project(v1) + w.project(v2) + w.project(v3)\n",
    "proj"
   ]
  },
  {
   "cell_type": "markdown",
   "metadata": {},
   "source": [
    "c)\n",
    "\n",
    "So the orthonormal basis will simply be the normalised versions of $\\bar{v}_1$, $\\bar{v}_2$, $\\bar{v}_3$, and $\\bar{w} - \\operatorname{proj}_{V} \\bar{w}$"
   ]
  },
  {
   "cell_type": "code",
   "execution_count": 53,
   "metadata": {},
   "outputs": [
    {
     "data": {
      "text/latex": [
       "$\\displaystyle \\left[\\begin{matrix}\\frac{1}{2}\\\\- \\frac{1}{2}\\\\0\\\\\\frac{1}{2}\\\\\\frac{1}{2}\\end{matrix}\\right] , \\left[\\begin{matrix}- \\frac{\\sqrt{2}}{4}\\\\\\frac{\\sqrt{2}}{4}\\\\\\frac{\\sqrt{2}}{2}\\\\\\frac{\\sqrt{2}}{4}\\\\\\frac{\\sqrt{2}}{4}\\end{matrix}\\right] , \\left[\\begin{matrix}\\frac{1}{2}\\\\\\frac{1}{2}\\\\0\\\\- \\frac{1}{2}\\\\\\frac{1}{2}\\end{matrix}\\right] , \\left[\\begin{matrix}\\frac{1}{2}\\\\\\frac{1}{2}\\\\0\\\\\\frac{1}{2}\\\\- \\frac{1}{2}\\end{matrix}\\right]$"
      ],
      "text/plain": [
       "<IPython.core.display.Math object>"
      ]
     },
     "metadata": {},
     "output_type": "display_data"
    }
   ],
   "source": [
    "v4 = w-proj\n",
    "display(Math(latex(v1.normalized()) + ' , ' \n",
    "             + latex(v2.normalized()) + ' , '\n",
    "             + latex(v3.normalized()) + ' , '\n",
    "             + latex(v4.normalized())))"
   ]
  },
  {
   "cell_type": "markdown",
   "metadata": {},
   "source": [
    "d)\n",
    "\n",
    "So the last vector will be the orthogonal complement of the basis found in (c). We can determine this by using \"the trick\", i.e. find the nullspace of the transpose of the above basis:"
   ]
  },
  {
   "cell_type": "code",
   "execution_count": 55,
   "metadata": {},
   "outputs": [
    {
     "data": {
      "image/png": "[encoded data removed]",
      "text/latex": [
       "$\\displaystyle \\left[\\begin{matrix}- \\frac{\\sqrt{2}}{4}\\\\\\frac{\\sqrt{2}}{4}\\\\- \\frac{\\sqrt{2}}{2}\\\\\\frac{\\sqrt{2}}{4}\\\\\\frac{\\sqrt{2}}{4}\\end{matrix}\\right]$"
      ],
      "text/plain": [
       "⎡-√2 ⎤\n",
       "⎢────⎥\n",
       "⎢ 4  ⎥\n",
       "⎢    ⎥\n",
       "⎢ √2 ⎥\n",
       "⎢ ── ⎥\n",
       "⎢ 4  ⎥\n",
       "⎢    ⎥\n",
       "⎢-√2 ⎥\n",
       "⎢────⎥\n",
       "⎢ 2  ⎥\n",
       "⎢    ⎥\n",
       "⎢ √2 ⎥\n",
       "⎢ ── ⎥\n",
       "⎢ 4  ⎥\n",
       "⎢    ⎥\n",
       "⎢ √2 ⎥\n",
       "⎢ ── ⎥\n",
       "⎣ 4  ⎦"
      ]
     },
     "execution_count": 55,
     "metadata": {},
     "output_type": "execute_result"
    }
   ],
   "source": [
    "Matrix.vstack(v1.T, v2.T, v3.T, v4.T).nullspace()[0].normalized()"
   ]
  },
  {
   "cell_type": "markdown",
   "metadata": {},
   "source": [
    "### Assignment 7\n",
    "So we just use the formula which I went through in class."
   ]
  },
  {
   "cell_type": "code",
   "execution_count": 58,
   "metadata": {},
   "outputs": [
    {
     "data": {
      "image/png": "[encoded data removed]",
      "text/latex": [
       "$\\displaystyle \\left[\\begin{matrix}1\\\\- \\frac{3}{5}\\\\0\\end{matrix}\\right]$"
      ],
      "text/plain": [
       "⎡ 1  ⎤\n",
       "⎢    ⎥\n",
       "⎢-3/5⎥\n",
       "⎢    ⎥\n",
       "⎣ 0  ⎦"
      ]
     },
     "execution_count": 58,
     "metadata": {},
     "output_type": "execute_result"
    }
   ],
   "source": [
    "A = Matrix([[4, -2, 1],\n",
    "            [1, -1, 1],\n",
    "            [1, 1, 1],\n",
    "            [4, 2, 1]])\n",
    "y = Matrix([5, 2, 0, 3])\n",
    "AtA = A.T * A\n",
    "Aty = A.T * y\n",
    "\n",
    "Matrix.hstack(AtA, Aty).rref()[0][:,-1]"
   ]
  },
  {
   "cell_type": "markdown",
   "metadata": {},
   "source": [
    "### Assignment 8\n",
    "\n",
    "So we just need to use the formula which I derived in class to find the vectors of $V$. As we can see, we will be missing one vector. We can find this vector by using \"the trick\"."
   ]
  },
  {
   "cell_type": "code",
   "execution_count": 66,
   "metadata": {},
   "outputs": [
    {
     "data": {
      "image/png": "[encoded data removed]",
      "text/latex": [
       "$\\displaystyle \\left[\\begin{matrix}\\frac{1}{3} & \\frac{2}{3} & \\frac{2}{3}\\\\\\frac{2}{3} & \\frac{1}{3} & - \\frac{2}{3}\\\\\\frac{2}{3} & - \\frac{2}{3} & \\frac{1}{3}\\end{matrix}\\right]$"
      ],
      "text/plain": [
       "⎡1/3  2/3   2/3 ⎤\n",
       "⎢               ⎥\n",
       "⎢2/3  1/3   -2/3⎥\n",
       "⎢               ⎥\n",
       "⎣2/3  -2/3  1/3 ⎦"
      ]
     },
     "execution_count": 66,
     "metadata": {},
     "output_type": "execute_result"
    }
   ],
   "source": [
    "A = Matrix([[4,11,14],[8,7,-2]])\n",
    "U = Matrix([[(3*sqrt(10))/(10),-(sqrt(10))/(10)],\n",
    "            [(sqrt(10))/(10),(3*sqrt(10))/(10)]])\n",
    "\n",
    "u1 = U[:,0]\n",
    "u2 = U[:,1]\n",
    "\n",
    "s1 = 6*sqrt(10)\n",
    "s2 = 3*sqrt(10)\n",
    "\n",
    "vt1 = s1**-1 * u1.T * A\n",
    "vt2 = s2**-1 * u2.T * A\n",
    "\n",
    "vt3 = Matrix.vstack(vt1, vt2).nullspace()[0].T.normalized()\n",
    "\n",
    "Vt = Matrix.vstack(vt1, vt2, vt3)\n",
    "V = Vt.T\n",
    "V"
   ]
  },
  {
   "cell_type": "markdown",
   "metadata": {},
   "source": [
    "### Assignment 9\n",
    "\n",
    "In total, 5 + 3 litres enter A, which means 8 must leave A from pipe c. If 8 enters B, 8 must leave, 3 from b and 5 from d. We get:"
   ]
  },
  {
   "cell_type": "code",
   "execution_count": 15,
   "metadata": {},
   "outputs": [
    {
     "data": {
      "text/latex": [
       "$\\displaystyle A = \\left[\\begin{matrix}- \\frac{1}{25} & \\frac{3}{100}\\\\\\frac{1}{25} & - \\frac{2}{25}\\end{matrix}\\right]$"
      ],
      "text/plain": [
       "<IPython.core.display.Math object>"
      ]
     },
     "metadata": {},
     "output_type": "display_data"
    }
   ],
   "source": [
    "# We translate the problem to a matrix problem\n",
    "\n",
    "A = Matrix([[-R(8,200), R(3,100)],[R(8,200), -R(8,100)]])\n",
    "display(Math(r'A = ' + latex(A)))"
   ]
  },
  {
   "cell_type": "code",
   "execution_count": 16,
   "metadata": {},
   "outputs": [
    {
     "data": {
      "text/latex": [
       "$\\displaystyle \\lambda_0 =- \\frac{1}{10}\\approx-0.1$"
      ],
      "text/plain": [
       "<IPython.core.display.Math object>"
      ]
     },
     "metadata": {},
     "output_type": "display_data"
    },
    {
     "data": {
      "text/latex": [
       "$\\displaystyle \\lambda_1 =- \\frac{1}{50}\\approx-0.02$"
      ],
      "text/plain": [
       "<IPython.core.display.Math object>"
      ]
     },
     "metadata": {},
     "output_type": "display_data"
    },
    {
     "data": {
      "text/latex": [
       "$\\displaystyle v_0 = \\left[\\begin{matrix}- \\frac{1}{2}\\\\1\\end{matrix}\\right]=\\left[\\begin{matrix}-0.5\\\\1.0\\end{matrix}\\right]$"
      ],
      "text/plain": [
       "<IPython.core.display.Math object>"
      ]
     },
     "metadata": {},
     "output_type": "display_data"
    },
    {
     "data": {
      "text/latex": [
       "$\\displaystyle v_1 = \\left[\\begin{matrix}\\frac{3}{2}\\\\1\\end{matrix}\\right]=\\left[\\begin{matrix}1.5\\\\1.0\\end{matrix}\\right]$"
      ],
      "text/plain": [
       "<IPython.core.display.Math object>"
      ]
     },
     "metadata": {},
     "output_type": "display_data"
    }
   ],
   "source": [
    "# We find the eigenvalues and the corresponding eigenspaces.\n",
    "l = symbols('l')\n",
    "l1, l2 = solve(det(A-l*eye(np.shape(A)[0])))\n",
    "display(Math(r'\\lambda_0 =' +latex(l1) + r'\\approx' + latex(round(l1, 2))))\n",
    "display(Math(r'\\lambda_1 =' +latex(l2) + r'\\approx' + latex(round(l2, 2))))\n",
    "\n",
    "v1 = (A-l1*eye(np.shape(A)[0])).nullspace()[0]\n",
    "v2 = (A-l2*eye(np.shape(A)[0])).nullspace()[0]\n",
    "display(Math(r'v_0 = '+ latex(v1) + r'=' + latex(v1.evalf(4))))\n",
    "display(Math(r'v_1 = '+ latex(v2) + r'=' + latex(v2.evalf(4))))"
   ]
  },
  {
   "cell_type": "markdown",
   "metadata": {},
   "source": [
    "We get the following general solution:\n",
    "\n",
    "$$\n",
    "y(0)=c_{0}\\left[\\begin{array}{c}\n",
    "-\\frac{1}{2} \\\\\n",
    "1\n",
    "\\end{array}\\right]e^{-\\frac{t}{10}}+c_{1}\\left[\\begin{array}{l}\n",
    "\\frac{3}{2} \\\\\n",
    "1\n",
    "\\end{array}\\right]e^{-\\frac{t}{50}}\n",
    "$$\n",
    "\n",
    "To get the particular solution (sometimes called the unique solution) we use the initial value and solve the above general solution with regard to $c_0$ and $c_1$."
   ]
  },
  {
   "cell_type": "code",
   "execution_count": 17,
   "metadata": {},
   "outputs": [
    {
     "data": {
      "image/png": "[encoded data removed]",
      "text/latex": [
       "$\\displaystyle \\left[\\begin{matrix}1 & 0 & - \\frac{25}{2}\\\\0 & 1 & \\frac{125}{2}\\end{matrix}\\right]$"
      ],
      "text/plain": [
       "⎡1  0  -25/2⎤\n",
       "⎢           ⎥\n",
       "⎣0  1  125/2⎦"
      ]
     },
     "execution_count": 17,
     "metadata": {},
     "output_type": "execute_result"
    }
   ],
   "source": [
    "y0 = Matrix([100, 50])\n",
    "# To solve the system we form the following augmented matrix and solve. The c's will be in the last column:\n",
    "rref = v1.row_join(v2).row_join(y0).rref()[0]\n",
    "#rref.applyfunc(lambda x: round(x, 2)) # this I can use when the values are horrible!!\n",
    "rref"
   ]
  },
  {
   "cell_type": "code",
   "execution_count": 18,
   "metadata": {},
   "outputs": [
    {
     "data": {
      "image/png": "[encoded data removed]",
      "text/latex": [
       "$\\displaystyle 0.8$"
      ],
      "text/plain": [
       "0.8"
      ]
     },
     "execution_count": 18,
     "metadata": {},
     "output_type": "execute_result"
    }
   ],
   "source": [
    "C = rref[:,-1]\n",
    "t = symbols('t')\n",
    "y1 = C[0]*v1[0]*math.e**(l1*t) + C[1]*v2[0]*math.e**(l2*t)\n",
    "y2 = C[1]*v1[1]*math.e**(l1*t) + C[1]*v2[1]*math.e**(l2*t)\n",
    "z=limit(y1/y2,t,0)\n",
    "float(z)"
   ]
  },
  {
   "cell_type": "markdown",
   "metadata": {},
   "source": [
    "So we get:\n",
    "\n",
    "$$\n",
    "y(0)=-75\\left[\\begin{array}{c}\n",
    "-\\frac{1}{2} \\\\\n",
    "1\n",
    "\\end{array}\\right]e^{-\\frac{t}{10}}+75\\left[\\begin{array}{l}\n",
    "\\frac{3}{2} \\\\\n",
    "1\n",
    "\\end{array}\\right]e^{-\\frac{t}{50}}\n",
    "$$"
   ]
  }
 ],
 "metadata": {
  "kernelspec": {
   "display_name": "Python 3",
   "language": "python",
   "name": "python3"
  },
  "language_info": {
   "codemirror_mode": {
    "name": "ipython",
    "version": 3
   },
   "file_extension": ".py",
   "mimetype": "text/x-python",
   "name": "python",
   "nbconvert_exporter": "python",
   "pygments_lexer": "ipython3",
   "version": "3.7.6"
  }
 },
 "nbformat": 4,
 "nbformat_minor": 4
}
