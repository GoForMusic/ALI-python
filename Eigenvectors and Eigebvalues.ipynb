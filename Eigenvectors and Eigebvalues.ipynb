{
 "cells": [
  {
   "cell_type": "code",
   "execution_count": 2,
   "metadata": {},
   "outputs": [],
   "source": [
    "import sympy as sp\n",
    "from sympy import *\n",
    "init_printing()"
   ]
  },
  {
   "cell_type": "markdown",
   "metadata": {},
   "source": [
    "Find lambda, use l as unknow var and solve"
   ]
  },
  {
   "cell_type": "code",
   "execution_count": 7,
   "metadata": {},
   "outputs": [
    {
     "data": {
      "image/png": "[encoded data removed]",
      "text/latex": [
       "$\\displaystyle \\left(l - 42\\right)^{2} \\left(l + 14\\right)^{3}$"
      ],
      "text/plain": [
       "        2         3\n",
       "(l - 42) ⋅(l + 14) "
      ]
     },
     "metadata": {},
     "output_type": "display_data"
    },
    {
     "data": {
      "image/png": "[encoded data removed]",
      "text/latex": [
       "$\\displaystyle \\left[ -14, \\  42\\right]$"
      ],
      "text/plain": [
       "[-14, 42]"
      ]
     },
     "execution_count": 7,
     "metadata": {},
     "output_type": "execute_result"
    }
   ],
   "source": [
    "A = Matrix([[-23,57,-9,-15,-59],\n",
    "            [-10,12,-10,2,-22],\n",
    "            [11,5,-3,-19,-15],\n",
    "            [-27,31,-27,25,-37],\n",
    "            [-5,-15,-5,1,31]\n",
    "            ])\n",
    "\n",
    "l = symbols('l')\n",
    "p = A.charpoly(l)\n",
    "display(factor(p.as_expr()))\n",
    "solve(p,l)"
   ]
  },
  {
   "cell_type": "markdown",
   "metadata": {},
   "source": [
    "Eigenvects"
   ]
  },
  {
   "cell_type": "code",
   "execution_count": 8,
   "metadata": {},
   "outputs": [
    {
     "data": {
      "text/latex": [
       "$\\displaystyle \\left[ \\left( -14, \\  3, \\  \\left[ \\left[\\begin{matrix}-1\\\\0\\\\1\\\\0\\\\0\\end{matrix}\\right], \\  \\left[\\begin{matrix}\\frac{10}{3}\\\\2\\\\0\\\\\\frac{5}{3}\\\\1\\end{matrix}\\right]\\right]\\right), \\  \\left( 42, \\  2, \\  \\left[ \\left[\\begin{matrix}0\\\\\\frac{1}{5}\\\\- \\frac{2}{5}\\\\1\\\\0\\end{matrix}\\right], \\  \\left[\\begin{matrix}-1\\\\- \\frac{1}{5}\\\\- \\frac{3}{5}\\\\0\\\\1\\end{matrix}\\right]\\right]\\right)\\right]$"
      ],
      "text/plain": [
       "⎡⎛        ⎡⎡-1⎤  ⎡10/3⎤⎤⎞  ⎛       ⎡⎡ 0  ⎤  ⎡ -1 ⎤⎤⎞⎤\n",
       "⎢⎜        ⎢⎢  ⎥  ⎢    ⎥⎥⎟  ⎜       ⎢⎢    ⎥  ⎢    ⎥⎥⎟⎥\n",
       "⎢⎜        ⎢⎢0 ⎥  ⎢ 2  ⎥⎥⎟  ⎜       ⎢⎢1/5 ⎥  ⎢-1/5⎥⎥⎟⎥\n",
       "⎢⎜        ⎢⎢  ⎥  ⎢    ⎥⎥⎟  ⎜       ⎢⎢    ⎥  ⎢    ⎥⎥⎟⎥\n",
       "⎢⎜-14, 3, ⎢⎢1 ⎥, ⎢ 0  ⎥⎥⎟, ⎜42, 2, ⎢⎢-2/5⎥, ⎢-3/5⎥⎥⎟⎥\n",
       "⎢⎜        ⎢⎢  ⎥  ⎢    ⎥⎥⎟  ⎜       ⎢⎢    ⎥  ⎢    ⎥⎥⎟⎥\n",
       "⎢⎜        ⎢⎢0 ⎥  ⎢5/3 ⎥⎥⎟  ⎜       ⎢⎢ 1  ⎥  ⎢ 0  ⎥⎥⎟⎥\n",
       "⎢⎜        ⎢⎢  ⎥  ⎢    ⎥⎥⎟  ⎜       ⎢⎢    ⎥  ⎢    ⎥⎥⎟⎥\n",
       "⎣⎝        ⎣⎣0 ⎦  ⎣ 1  ⎦⎦⎠  ⎝       ⎣⎣ 0  ⎦  ⎣ 1  ⎦⎦⎠⎦"
      ]
     },
     "execution_count": 8,
     "metadata": {},
     "output_type": "execute_result"
    }
   ],
   "source": [
    "A.eigenvects()"
   ]
  },
  {
   "cell_type": "markdown",
   "metadata": {},
   "source": [
    "Eigenvals"
   ]
  },
  {
   "cell_type": "code",
   "execution_count": 9,
   "metadata": {},
   "outputs": [
    {
     "data": {
      "image/png": "[encoded data removed]",
      "text/latex": [
       "$\\displaystyle \\left\\{ -14 : 3, \\  42 : 2\\right\\}$"
      ],
      "text/plain": [
       "{-14: 3, 42: 2}"
      ]
     },
     "execution_count": 9,
     "metadata": {},
     "output_type": "execute_result"
    }
   ],
   "source": [
    "A.eigenvals()"
   ]
  },
  {
   "cell_type": "code",
   "execution_count": 4,
   "metadata": {},
   "outputs": [
    {
     "data": {
      "text/latex": [
       "$\\displaystyle \\left[ \\left[\\begin{matrix}-3\\\\1\\\\2\\end{matrix}\\right], \\  \\left[\\begin{matrix}-1\\\\2\\\\5\\end{matrix}\\right]\\right]$"
      ],
      "text/plain": [
       "⎡⎡-3⎤  ⎡-1⎤⎤\n",
       "⎢⎢  ⎥  ⎢  ⎥⎥\n",
       "⎢⎢1 ⎥, ⎢2 ⎥⎥\n",
       "⎢⎢  ⎥  ⎢  ⎥⎥\n",
       "⎣⎣2 ⎦  ⎣5 ⎦⎦"
      ]
     },
     "execution_count": 4,
     "metadata": {},
     "output_type": "execute_result"
    }
   ],
   "source": [
    "A = Matrix([[-3,6,-1,1,-7],[1,-2,2,3,-1],[2,-4,5,8,-4]])\n",
    "A.columnspace()"
   ]
  }
 ],
 "metadata": {
  "kernelspec": {
   "display_name": "Python 3",
   "language": "python",
   "name": "python3"
  },
  "language_info": {
   "codemirror_mode": {
    "name": "ipython",
    "version": 3
   },
   "file_extension": ".py",
   "mimetype": "text/x-python",
   "name": "python",
   "nbconvert_exporter": "python",
   "pygments_lexer": "ipython3",
   "version": "3.11.2"
  },
  "orig_nbformat": 4
 },
 "nbformat": 4,
 "nbformat_minor": 2
}
